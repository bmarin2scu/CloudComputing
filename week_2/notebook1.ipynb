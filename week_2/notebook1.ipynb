{
 "cells": [
  {
   "cell_type": "markdown",
   "id": "e49a440e",
   "metadata": {},
   "source": [
    "# Natural Language Processing - HW2"
   ]
  },
  {
   "cell_type": "code",
   "execution_count": null,
   "id": "37431aec",
   "metadata": {},
   "outputs": [],
   "source": [
    "from matplotlib import pylab"
   ]
  },
  {
   "cell_type": "code",
   "execution_count": 2,
   "id": "6d96d515",
   "metadata": {},
   "outputs": [],
   "source": [
    "#nltk\n",
    "import nltk"
   ]
  },
  {
   "cell_type": "code",
   "execution_count": 3,
   "id": "5879537e",
   "metadata": {},
   "outputs": [],
   "source": [
    "nltk.download('book')"
   ]
  },
  {
   "cell_type": "code",
   "execution_count": 4,
   "id": "46afbb76",
   "metadata": {},
   "outputs": [],
   "source": [
    "from nltk.book import *"
   ]
  },
  {
   "cell_type": "markdown",
   "id": "060881c9",
   "metadata": {},
   "source": [
    "#### 1. Try using the Python interpreter as a calculator, and typing expressions like 12 / (4 + 1)."
   ]
  },
  {
   "cell_type": "code",
   "execution_count": 5,
   "id": "4bd78b5b",
   "metadata": {},
   "outputs": [
    {
     "data": {
      "text/plain": [
       "2.4"
      ]
     },
     "execution_count": 5,
     "metadata": {},
     "output_type": "execute_result"
    }
   ],
   "source": [
    "12 / (4 + 1)"
   ]
  },
  {
   "cell_type": "markdown",
   "id": "c6b38d94",
   "metadata": {},
   "source": [
    "#### 2. Given an alphabet of 26 letters, there are 26 to the power 10, or 26 ** 10, ten-letter strings we can form. That works out to 141167095653376. How many hundred-letter strings are possible?"
   ]
  },
  {
   "cell_type": "code",
   "execution_count": 6,
   "id": "d38d4132",
   "metadata": {},
   "outputs": [
    {
     "data": {
      "text/plain": [
       "3142930641582938830174357788501626427282669988762475256374173175398995908420104023465432599069702289330964075081611719197835869803511992549376"
      ]
     },
     "execution_count": 6,
     "metadata": {},
     "output_type": "execute_result"
    }
   ],
   "source": [
    "26**100"
   ]
  },
  {
   "cell_type": "markdown",
   "id": "c4764d0c",
   "metadata": {},
   "source": [
    "#### 3. The Python multiplication operation can be applied to lists. What happens when you type ['Monty', 'Python'] * 20, or 3 * sent1?"
   ]
  },
  {
   "cell_type": "code",
   "execution_count": 7,
   "id": "f54d23a9",
   "metadata": {},
   "outputs": [
    {
     "data": {
      "text/plain": [
       "['Monty',\n",
       " 'Python',\n",
       " 'Monty',\n",
       " 'Python',\n",
       " 'Monty',\n",
       " 'Python',\n",
       " 'Monty',\n",
       " 'Python',\n",
       " 'Monty',\n",
       " 'Python',\n",
       " 'Monty',\n",
       " 'Python',\n",
       " 'Monty',\n",
       " 'Python',\n",
       " 'Monty',\n",
       " 'Python',\n",
       " 'Monty',\n",
       " 'Python',\n",
       " 'Monty',\n",
       " 'Python',\n",
       " 'Monty',\n",
       " 'Python',\n",
       " 'Monty',\n",
       " 'Python',\n",
       " 'Monty',\n",
       " 'Python',\n",
       " 'Monty',\n",
       " 'Python',\n",
       " 'Monty',\n",
       " 'Python',\n",
       " 'Monty',\n",
       " 'Python',\n",
       " 'Monty',\n",
       " 'Python',\n",
       " 'Monty',\n",
       " 'Python',\n",
       " 'Monty',\n",
       " 'Python',\n",
       " 'Monty',\n",
       " 'Python']"
      ]
     },
     "execution_count": 7,
     "metadata": {},
     "output_type": "execute_result"
    }
   ],
   "source": [
    "['Monty', 'Python'] * 20"
   ]
  },
  {
   "cell_type": "code",
   "execution_count": 8,
   "id": "5b0693f5",
   "metadata": {},
   "outputs": [
    {
     "ename": "NameError",
     "evalue": "name 'sent1' is not defined",
     "output_type": "error",
     "traceback": [
      "\u001b[0;31m---------------------------------------------------------------------------\u001b[0m",
      "\u001b[0;31mNameError\u001b[0m                                 Traceback (most recent call last)",
      "\u001b[0;32m<ipython-input-8-45966027732a>\u001b[0m in \u001b[0;36m<module>\u001b[0;34m\u001b[0m\n\u001b[0;32m----> 1\u001b[0;31m \u001b[0;36m3\u001b[0m\u001b[0;34m*\u001b[0m\u001b[0msent1\u001b[0m\u001b[0;34m\u001b[0m\u001b[0;34m\u001b[0m\u001b[0m\n\u001b[0m",
      "\u001b[0;31mNameError\u001b[0m: name 'sent1' is not defined"
     ]
    }
   ],
   "source": [
    "3*sent1"
   ]
  },
  {
   "cell_type": "markdown",
   "id": "c8b059df",
   "metadata": {},
   "source": [
    "#### 4.  Review 1 on computing with language. How many words are there in text2? How many distinct words are there?"
   ]
  },
  {
   "cell_type": "code",
   "execution_count": null,
   "id": "13b4e29c",
   "metadata": {},
   "outputs": [],
   "source": [
    "print(\"Words in text2:\") \n",
    "(len(text2))"
   ]
  },
  {
   "cell_type": "code",
   "execution_count": null,
   "id": "e0e9b216",
   "metadata": {},
   "outputs": [],
   "source": [
    "print(\"Distinct words in text2:\")\n",
    "len(set(text2))"
   ]
  },
  {
   "cell_type": "markdown",
   "id": "4e82d6e4",
   "metadata": {},
   "source": [
    "#### 5. Compare the lexical diversity scores for humor and romance fiction in 1.1. Which genre is more lexically diverse?"
   ]
  },
  {
   "cell_type": "markdown",
   "id": "1225ec39",
   "metadata": {},
   "source": [
    "The lexical diversity of humor is 0.231 and 0.121 for romance. Humor genre is more lexically diverse."
   ]
  },
  {
   "cell_type": "markdown",
   "id": "96b514ad",
   "metadata": {},
   "source": [
    "#### 6. Produce a dispersion plot of the four main protagonists in Sense and Sensibility: Elinor, Marianne, Edward, and Willoughby. What can you observe about the different roles played by the males and females in this novel? Can you identify the couples?"
   ]
  },
  {
   "cell_type": "code",
   "execution_count": null,
   "id": "73ce1c1b",
   "metadata": {
    "scrolled": true
   },
   "outputs": [],
   "source": [
    "text2.dispersion_plot([\"Elinor\", \"Marianne\", \"Edward\", \"Willoughby\"])"
   ]
  },
  {
   "cell_type": "markdown",
   "id": "8b564cd2",
   "metadata": {},
   "source": [
    "<i>What can you observe about the different roles played by the males and females in this novel? <i/>"
   ]
  },
  {
   "cell_type": "markdown",
   "id": "10c4e6cd",
   "metadata": {},
   "source": [
    "Elinor and Marianne, female roles, are mentioned throughout the entire text and both appear to be main characters, with Elinor being mentioned more than Marianne. The male roles of Edward and Willoughby are support characters that are mentioned far less than the female roles. There appears to be a pattern of mentioning Edward and Willoughby at different times and rarely together as they alternate appearances."
   ]
  },
  {
   "cell_type": "markdown",
   "id": "0f162761",
   "metadata": {},
   "source": [
    "<i>Can you identify the couples?</i>"
   ]
  },
  {
   "cell_type": "markdown",
   "id": "165b7a76",
   "metadata": {},
   "source": [
    "There could be many combinations and even competition in becoming couples. The possible combinations are:\n",
    "1. Elinor and Edward\n",
    "2. Elinor and Willoughby\n",
    "3. Marianne and Edward\n",
    "4. Marianne and Willoughby"
   ]
  },
  {
   "cell_type": "markdown",
   "id": "eeccf77a",
   "metadata": {},
   "source": [
    "#### 7. Find the collocations in text5."
   ]
  },
  {
   "cell_type": "code",
   "execution_count": null,
   "id": "69996820",
   "metadata": {},
   "outputs": [],
   "source": [
    "text5.collocations()"
   ]
  },
  {
   "cell_type": "markdown",
   "id": "8099a862",
   "metadata": {},
   "source": [
    "#### 8.  Consider the following Python expression: len(set(text4)). State the purpose of this expression. Describe the two steps involved in performing this computation."
   ]
  },
  {
   "cell_type": "markdown",
   "id": "da519bca",
   "metadata": {},
   "source": [
    "Step 1 is take the length of text 4, len(text4). The len() function counts the number of tokens, words and punctuation symbols, contained within the chosen text. "
   ]
  },
  {
   "cell_type": "code",
   "execution_count": null,
   "id": "6fcd5bed",
   "metadata": {},
   "outputs": [],
   "source": [
    "len(text4)"
   ]
  },
  {
   "cell_type": "markdown",
   "id": "15e71b77",
   "metadata": {},
   "source": [
    "Step 2 is take the length of the set of text 4, len(set(text4)). Taking the set of text 4 takes the set of tokens and collapses all the duplicates together. If we take the just set(text4) we would get the set of tokens. So we take the length of the set to get the distinct count of tokens. "
   ]
  },
  {
   "cell_type": "code",
   "execution_count": null,
   "id": "b1238eff",
   "metadata": {},
   "outputs": [],
   "source": [
    "len(set(text4))"
   ]
  },
  {
   "cell_type": "markdown",
   "id": "34e3e5d7",
   "metadata": {},
   "source": [
    "#### 9. Review 2 on lists and strings."
   ]
  },
  {
   "cell_type": "markdown",
   "id": "a54e1a8c",
   "metadata": {},
   "source": [
    "a. Define a string and assign it to a variable, e.g., my_string = 'My String' (but put something more interesting in the string). Print the contents of this variable in two ways, first by simply typing the variable name and pressing enter, then by using the print statement."
   ]
  },
  {
   "cell_type": "code",
   "execution_count": null,
   "id": "115e7389",
   "metadata": {},
   "outputs": [],
   "source": [
    "my_string = 'Peanut Butter Jelly Time'"
   ]
  },
  {
   "cell_type": "code",
   "execution_count": null,
   "id": "5fdfd186",
   "metadata": {},
   "outputs": [],
   "source": [
    "my_string"
   ]
  },
  {
   "cell_type": "code",
   "execution_count": null,
   "id": "0655b257",
   "metadata": {},
   "outputs": [],
   "source": [
    "print(my_string)"
   ]
  },
  {
   "cell_type": "markdown",
   "id": "1dd6098b",
   "metadata": {},
   "source": [
    "b. Try adding the string to itself using my_string + my_string, or multiplying it by a number, e.g., my_string * 3. Notice that the strings are joined together without any spaces. How could you fix this?"
   ]
  },
  {
   "cell_type": "code",
   "execution_count": null,
   "id": "bffee533",
   "metadata": {},
   "outputs": [],
   "source": [
    "my_string+my_string"
   ]
  },
  {
   "cell_type": "code",
   "execution_count": null,
   "id": "cc754a4a",
   "metadata": {},
   "outputs": [],
   "source": [
    "# + with space\n",
    "my_string+\" \"+my_string"
   ]
  },
  {
   "cell_type": "code",
   "execution_count": null,
   "id": "acc321d9",
   "metadata": {
    "scrolled": true
   },
   "outputs": [],
   "source": [
    "my_string*4"
   ]
  },
  {
   "cell_type": "code",
   "execution_count": null,
   "id": "7143a285",
   "metadata": {},
   "outputs": [],
   "source": [
    "# * with space using .join\n",
    "' '.join([my_string]*4)"
   ]
  },
  {
   "cell_type": "code",
   "execution_count": null,
   "id": "d2ed63ca",
   "metadata": {},
   "outputs": [],
   "source": [
    "# * with space using +\n",
    "(my_string+\" \")*4"
   ]
  },
  {
   "cell_type": "markdown",
   "id": "f31525cf",
   "metadata": {},
   "source": [
    "#### 10. Define a variable my_sent to be a list of words, using the syntax my_sent = [\"My\", \"sent\"] (but with your own words, or a favorite saying)."
   ]
  },
  {
   "cell_type": "code",
   "execution_count": null,
   "id": "8fa11b59",
   "metadata": {},
   "outputs": [],
   "source": [
    "show_time = [\"Show\",\"time\"]"
   ]
  },
  {
   "cell_type": "markdown",
   "id": "53ff43c8",
   "metadata": {},
   "source": [
    "a. Use ' '.join(my_sent) to convert this into a string."
   ]
  },
  {
   "cell_type": "code",
   "execution_count": null,
   "id": "30028635",
   "metadata": {},
   "outputs": [],
   "source": [
    "string2 = ' '.join(show_time)\n",
    "string2"
   ]
  },
  {
   "cell_type": "markdown",
   "id": "35a4e99f",
   "metadata": {},
   "source": [
    "b. Use split() to split the string back into the list form you had to start with."
   ]
  },
  {
   "cell_type": "code",
   "execution_count": null,
   "id": "61e35285",
   "metadata": {},
   "outputs": [],
   "source": [
    "string2.split()"
   ]
  },
  {
   "cell_type": "markdown",
   "id": "65983a3e",
   "metadata": {},
   "source": [
    "#### 11. Define several variables containing lists of words, e.g., phrase1, phrase2, and so on. Join them together in various combinations (using the plus operator) to form whole sentences. What is the relationship between len(phrase1 + phrase2) and len(phrase1) + len(phrase2)?"
   ]
  },
  {
   "cell_type": "code",
   "execution_count": null,
   "id": "735eeae7",
   "metadata": {},
   "outputs": [],
   "source": [
    "phrase1 = \"What a\"\n",
    "phrase2 = \"Time for a\"\n",
    "phrase3 = \"long day\"\n",
    "phrase4 = \"good show\"\n",
    "phrase5 = \"quick nap\""
   ]
  },
  {
   "cell_type": "code",
   "execution_count": null,
   "id": "c5c58797",
   "metadata": {},
   "outputs": [],
   "source": [
    "phrase1 +\" \"+phrase3"
   ]
  },
  {
   "cell_type": "code",
   "execution_count": null,
   "id": "ffdf7bcb",
   "metadata": {},
   "outputs": [],
   "source": [
    "phrase1 +\" \"+phrase4"
   ]
  },
  {
   "cell_type": "code",
   "execution_count": null,
   "id": "76e1a912",
   "metadata": {},
   "outputs": [],
   "source": [
    "phrase1 +\" \"+phrase5"
   ]
  },
  {
   "cell_type": "code",
   "execution_count": null,
   "id": "1f0aa98a",
   "metadata": {},
   "outputs": [],
   "source": [
    "phrase2 +\" \"+phrase3"
   ]
  },
  {
   "cell_type": "code",
   "execution_count": null,
   "id": "b340b39e",
   "metadata": {},
   "outputs": [],
   "source": [
    "phrase2 +\" \"+phrase4"
   ]
  },
  {
   "cell_type": "code",
   "execution_count": null,
   "id": "54e038ea",
   "metadata": {},
   "outputs": [],
   "source": [
    "phrase2 +\" \"+phrase5"
   ]
  },
  {
   "cell_type": "code",
   "execution_count": null,
   "id": "dd4d3f4e",
   "metadata": {},
   "outputs": [],
   "source": [
    "len(phrase1 + phrase2)"
   ]
  },
  {
   "cell_type": "code",
   "execution_count": null,
   "id": "ebbd6527",
   "metadata": {},
   "outputs": [],
   "source": [
    "len(phrase1) + len(phrase2)"
   ]
  },
  {
   "cell_type": "code",
   "execution_count": null,
   "id": "bb8afe5a",
   "metadata": {},
   "outputs": [],
   "source": [
    "len(phrase1)"
   ]
  },
  {
   "cell_type": "code",
   "execution_count": null,
   "id": "81cb06cd",
   "metadata": {},
   "outputs": [],
   "source": [
    "len(phrase2)"
   ]
  },
  {
   "cell_type": "code",
   "execution_count": null,
   "id": "ee011baa",
   "metadata": {
    "scrolled": true
   },
   "outputs": [],
   "source": [
    "len(phrase1 + phrase2) == len(phrase1) + len(phrase2)"
   ]
  },
  {
   "cell_type": "markdown",
   "id": "161df077",
   "metadata": {},
   "source": [
    "The relationship between len(phrase1 + phrase2) and len(phrase1) + len(phrase2) results in the same answer. \n",
    "When using len(phrase1 + phrase2), we first add the phrases together and then count the characters and when using len(phrase1) + len(phrase2) we take the length of each phrase and then add the values together."
   ]
  },
  {
   "cell_type": "markdown",
   "id": "b07b3afb",
   "metadata": {},
   "source": [
    "#### 12. Consider the following two expressions, which have the same value. Which one will typically be more relevant in NLP? Why?"
   ]
  },
  {
   "cell_type": "markdown",
   "id": "b0994f10",
   "metadata": {},
   "source": [
    "a. \"Monty Python\"[6:12]"
   ]
  },
  {
   "cell_type": "code",
   "execution_count": null,
   "id": "15d063e4",
   "metadata": {},
   "outputs": [],
   "source": [
    "\"Monty Python\"[6:12]"
   ]
  },
  {
   "cell_type": "markdown",
   "id": "aced346d",
   "metadata": {},
   "source": [
    "b. [\"Monty\", \"Python\"][1]"
   ]
  },
  {
   "cell_type": "code",
   "execution_count": null,
   "id": "029a16c1",
   "metadata": {
    "scrolled": true
   },
   "outputs": [],
   "source": [
    "[\"Monty\", \"Python\"][1]"
   ]
  },
  {
   "cell_type": "markdown",
   "id": "d05d3e3e",
   "metadata": {},
   "source": [
    "Example b. [\"Monty\", \"Python\"][1] is more relevant in NLP as it uses numbers to index entire words. When using slicing, it requires manual intervention to find the correct position of words while indexing provides the word in the position given. When indexing, the first element/word is [0] and in our example [1] is the second word. "
   ]
  },
  {
   "cell_type": "markdown",
   "id": "4a779918",
   "metadata": {},
   "source": [
    "#### 13. We have seen how to represent a sentence as a list of words, where each word is a sequence of characters. What does sent1[2][2] do? Why? Experiment with other index values."
   ]
  },
  {
   "cell_type": "code",
   "execution_count": null,
   "id": "d0bea079",
   "metadata": {},
   "outputs": [],
   "source": [
    "sent1 = ['Call', 'me', 'Ishmael', '.']"
   ]
  },
  {
   "cell_type": "code",
   "execution_count": null,
   "id": "cba44062",
   "metadata": {
    "scrolled": true
   },
   "outputs": [],
   "source": [
    "sent1[2][2]"
   ]
  },
  {
   "cell_type": "markdown",
   "id": "8ba53351",
   "metadata": {},
   "source": [
    "The index sent1[2][2] begins by looking for the third indexed word, 'Ishmael', and then finding the third letter in the word, 'h'. The second index looks for the third letter is it is only looking at a single word and not a list of words, the first command looks at the list of words. "
   ]
  },
  {
   "cell_type": "code",
   "execution_count": null,
   "id": "bf2132cc",
   "metadata": {},
   "outputs": [],
   "source": [
    "#experiment, first word and 4th letter"
   ]
  },
  {
   "cell_type": "code",
   "execution_count": null,
   "id": "7dd1a378",
   "metadata": {},
   "outputs": [],
   "source": [
    "sent1[0][3]"
   ]
  },
  {
   "cell_type": "code",
   "execution_count": null,
   "id": "acd3f4ce",
   "metadata": {},
   "outputs": [],
   "source": [
    "#experiment, 4th word and first character\n",
    "sent1[3][0]"
   ]
  },
  {
   "cell_type": "code",
   "execution_count": null,
   "id": "42faea04",
   "metadata": {},
   "outputs": [],
   "source": [
    "#experiment, 3rd word and 6th character character\n",
    "sent1[2][5]"
   ]
  },
  {
   "cell_type": "code",
   "execution_count": null,
   "id": "e108a38f",
   "metadata": {},
   "outputs": [],
   "source": [
    "#experiment, second word is me and there is no third letter so index is out of range\n",
    "#sent1[1][2]"
   ]
  },
  {
   "cell_type": "markdown",
   "id": "fc83772c",
   "metadata": {},
   "source": [
    "#### 14. The first sentence of text3 is provided to you in the variable sent3. The index of the in sent3 is 1, because sent3[1] gives us 'the'. What are the indexes of the two other occurrences of this word in sent3?"
   ]
  },
  {
   "cell_type": "code",
   "execution_count": null,
   "id": "ac7827fe",
   "metadata": {
    "scrolled": true
   },
   "outputs": [],
   "source": [
    "sent3 = ['In', 'the', 'beginning', 'God', 'created', 'the',\n",
    "'heaven', 'and', 'the', 'earth', '.']\n",
    "sent3"
   ]
  },
  {
   "cell_type": "code",
   "execution_count": null,
   "id": "3bceda06",
   "metadata": {},
   "outputs": [],
   "source": [
    "sent3[1]"
   ]
  },
  {
   "cell_type": "code",
   "execution_count": null,
   "id": "aaa98eba",
   "metadata": {
    "scrolled": false
   },
   "outputs": [],
   "source": [
    "sorted(w for w in sent3 if w=='the')"
   ]
  },
  {
   "cell_type": "markdown",
   "id": "34f80466",
   "metadata": {},
   "source": [
    "3 occurrences of the word 'the' with first occurence at index [1]"
   ]
  },
  {
   "cell_type": "code",
   "execution_count": null,
   "id": "fbd9a772",
   "metadata": {
    "scrolled": true
   },
   "outputs": [],
   "source": [
    "index3 = [i for i in range(len(sent3)) if sent3[i] == 'the']"
   ]
  },
  {
   "cell_type": "code",
   "execution_count": null,
   "id": "c3f45a91",
   "metadata": {},
   "outputs": [],
   "source": [
    "print(\"The indexes for the word 'the' is in:\")\n",
    "index3"
   ]
  },
  {
   "cell_type": "markdown",
   "id": "ab0fd285",
   "metadata": {},
   "source": [
    "#### 15. Review the discussion of conditionals in 4. Find all words in the Chat Corpus (text5) starting with the letter b. Show them in alphabetical order."
   ]
  },
  {
   "cell_type": "code",
   "execution_count": null,
   "id": "270b89e6",
   "metadata": {},
   "outputs": [],
   "source": [
    "letterB = sorted(w for w in set(text5) if w.startswith(\"b\"))"
   ]
  },
  {
   "cell_type": "code",
   "execution_count": null,
   "id": "ae2a0500",
   "metadata": {},
   "outputs": [],
   "source": [
    "print(\"In alphabetical order, words in Chat Corpus (text5) starting with the letter 'b':\")\n",
    "letterB"
   ]
  },
  {
   "cell_type": "markdown",
   "id": "bdbc19f7",
   "metadata": {},
   "source": [
    "#### 16. Type the expression list(range(10)) at the interpreter prompt. Now try list(range(10, 20)), list(range(10, 20, 2)), and list(range(20, 10, -2)). We will see a variety of uses for this built-in function in later chapters."
   ]
  },
  {
   "cell_type": "code",
   "execution_count": null,
   "id": "3790a87a",
   "metadata": {},
   "outputs": [],
   "source": [
    "list(range(10))"
   ]
  },
  {
   "cell_type": "code",
   "execution_count": null,
   "id": "dae079a3",
   "metadata": {},
   "outputs": [],
   "source": [
    "list(range(10,20))"
   ]
  },
  {
   "cell_type": "code",
   "execution_count": null,
   "id": "2d8e3e8c",
   "metadata": {},
   "outputs": [],
   "source": [
    "list(range(10,20,2))"
   ]
  },
  {
   "cell_type": "code",
   "execution_count": null,
   "id": "c1357b29",
   "metadata": {},
   "outputs": [],
   "source": [
    "list(range(20,10,-2))"
   ]
  },
  {
   "cell_type": "markdown",
   "id": "579d5f79",
   "metadata": {},
   "source": [
    "#### 17. Use text9.index() to find the index of the word sunset. You'll need to insert this word as an argument between the parentheses. By a process of trial and error, find the slice for the complete sentence that contains this word."
   ]
  },
  {
   "cell_type": "code",
   "execution_count": null,
   "id": "e2de49aa",
   "metadata": {
    "scrolled": true
   },
   "outputs": [],
   "source": [
    "text9.index('sunset')"
   ]
  },
  {
   "cell_type": "code",
   "execution_count": null,
   "id": "bfd9bbd8",
   "metadata": {
    "scrolled": true
   },
   "outputs": [],
   "source": [
    "text9[620:640]"
   ]
  },
  {
   "cell_type": "code",
   "execution_count": null,
   "id": "e6e8ae88",
   "metadata": {},
   "outputs": [],
   "source": [
    "text9[610:645]"
   ]
  },
  {
   "cell_type": "code",
   "execution_count": null,
   "id": "7c0b72fe",
   "metadata": {},
   "outputs": [],
   "source": [
    "flat9 = text9[621:644]\n",
    "print(flat9)"
   ]
  },
  {
   "cell_type": "code",
   "execution_count": null,
   "id": "bbad1ba3",
   "metadata": {},
   "outputs": [],
   "source": [
    "# join the flattened list of words\n",
    "' '.join(flat9)"
   ]
  },
  {
   "cell_type": "markdown",
   "id": "d0657586",
   "metadata": {},
   "source": [
    "#### 18. Using list addition, and the set and sorted operations, compute the vocabulary of the sentences sent1 ... sent8."
   ]
  },
  {
   "cell_type": "code",
   "execution_count": null,
   "id": "2133f39f",
   "metadata": {
    "scrolled": true
   },
   "outputs": [],
   "source": [
    "nlp18 = sorted(set(sent1 + sent2 + sent3 + sent4 + sent5 + sent6 + sent7 + sent8))\n",
    "print(nlp18)"
   ]
  },
  {
   "cell_type": "code",
   "execution_count": null,
   "id": "7e5c5310",
   "metadata": {},
   "outputs": [],
   "source": [
    "len(nlp18)"
   ]
  },
  {
   "cell_type": "markdown",
   "id": "9ecc2681",
   "metadata": {},
   "source": [
    "#### 19. What is the difference between the following two lines? Which one will give a larger value? Will this be the case for other texts?"
   ]
  },
  {
   "cell_type": "code",
   "execution_count": null,
   "id": "f38ffa07",
   "metadata": {},
   "outputs": [],
   "source": [
    "#>>> sorted(set(w.lower() for w in text1))\n",
    "#>>> sorted(w.lower() for w in set(text1))"
   ]
  },
  {
   "cell_type": "code",
   "execution_count": null,
   "id": "d912f8ad",
   "metadata": {},
   "outputs": [],
   "source": [
    "sort1 = sorted(set(w.lower() for w in text1))"
   ]
  },
  {
   "cell_type": "code",
   "execution_count": null,
   "id": "8803e785",
   "metadata": {},
   "outputs": [],
   "source": [
    "len(sort1)"
   ]
  },
  {
   "cell_type": "code",
   "execution_count": null,
   "id": "aca1c259",
   "metadata": {},
   "outputs": [],
   "source": [
    "sort2 = sorted(w.lower() for w in set(text1))"
   ]
  },
  {
   "cell_type": "code",
   "execution_count": null,
   "id": "5b8e50df",
   "metadata": {},
   "outputs": [],
   "source": [
    "len(sort2)"
   ]
  },
  {
   "cell_type": "markdown",
   "id": "bfaf7897",
   "metadata": {},
   "source": [
    "The second line gives the larger value. The first line makes a set with the words lowercase and then sorts, so it eliminates duplicates with case taken into account. The second line makes a set without factoring in case so it will include duplicates. This will be the case for any other texts as well. "
   ]
  },
  {
   "cell_type": "markdown",
   "id": "bf7b84e9",
   "metadata": {},
   "source": [
    "#### 20. What is the difference between the following two tests: w.isupper() and not w.islower()?"
   ]
  },
  {
   "cell_type": "code",
   "execution_count": null,
   "id": "c089885e",
   "metadata": {},
   "outputs": [],
   "source": [
    "wupper = [w for w in text1 if w.isupper()]"
   ]
  },
  {
   "cell_type": "code",
   "execution_count": null,
   "id": "2f8a91c0",
   "metadata": {},
   "outputs": [],
   "source": [
    "print(wupper[:100])"
   ]
  },
  {
   "cell_type": "code",
   "execution_count": null,
   "id": "dfb6740f",
   "metadata": {},
   "outputs": [],
   "source": [
    "len(wupper)"
   ]
  },
  {
   "cell_type": "code",
   "execution_count": null,
   "id": "701f1efa",
   "metadata": {},
   "outputs": [],
   "source": [
    "nislower = [w for w in text1 if not w.islower()]"
   ]
  },
  {
   "cell_type": "code",
   "execution_count": null,
   "id": "9fd3233e",
   "metadata": {},
   "outputs": [],
   "source": [
    "print(nislower[:25])"
   ]
  },
  {
   "cell_type": "code",
   "execution_count": null,
   "id": "cf0c7da4",
   "metadata": {},
   "outputs": [],
   "source": [
    "len(nislower)"
   ]
  },
  {
   "cell_type": "markdown",
   "id": "af2069c7",
   "metadata": {},
   "source": [
    "The output for not w.islower() is larger than the output for w.isupper(). The isupper output returns upper case words only while the not islower output includes words that begin with a capital letter and punctuations. "
   ]
  },
  {
   "cell_type": "markdown",
   "id": "bc75c4a1",
   "metadata": {},
   "source": [
    "#### 21. Write the slice expression that extracts the last two words of text2."
   ]
  },
  {
   "cell_type": "code",
   "execution_count": null,
   "id": "66eb583a",
   "metadata": {},
   "outputs": [],
   "source": [
    "len(text2)"
   ]
  },
  {
   "cell_type": "code",
   "execution_count": null,
   "id": "5742b733",
   "metadata": {},
   "outputs": [],
   "source": [
    "text2[-2:]"
   ]
  },
  {
   "cell_type": "code",
   "execution_count": null,
   "id": "cacbafc1",
   "metadata": {
    "scrolled": true
   },
   "outputs": [],
   "source": [
    "text2[141574:]"
   ]
  },
  {
   "cell_type": "markdown",
   "id": "04b853d7",
   "metadata": {},
   "source": [
    "#### 22. Find all the four-letter words in the Chat Corpus (text5). With the help of a frequency distribution (FreqDist), show these words in decreasing order of frequency."
   ]
  },
  {
   "cell_type": "code",
   "execution_count": null,
   "id": "5c232120",
   "metadata": {},
   "outputs": [],
   "source": [
    "#Find all the four-letter words in the Chat Corpus (text5)\n",
    "fourL = set([word.lower() for word in text5 if len(word) == 4])\n",
    "print(fourL)"
   ]
  },
  {
   "cell_type": "code",
   "execution_count": null,
   "id": "673390f8",
   "metadata": {},
   "outputs": [],
   "source": [
    "#create frequency distribution of 4 letter words\n",
    "flwDist = FreqDist(fourL)"
   ]
  },
  {
   "cell_type": "code",
   "execution_count": null,
   "id": "9f3c81d6",
   "metadata": {},
   "outputs": [],
   "source": [
    "#reverse key, value pairs to sort descending order\n",
    "reversed_pairs = [(v, k) for k, v in flwDist.items()]"
   ]
  },
  {
   "cell_type": "code",
   "execution_count": null,
   "id": "5c96ba15",
   "metadata": {},
   "outputs": [],
   "source": [
    "list(reversed(sorted(reversed_pairs)))"
   ]
  },
  {
   "cell_type": "code",
   "execution_count": null,
   "id": "1b0d2310",
   "metadata": {
    "scrolled": false
   },
   "outputs": [],
   "source": [
    "#flattened view\n",
    "print(list(reversed(sorted(reversed_pairs))))"
   ]
  },
  {
   "cell_type": "markdown",
   "id": "be30e4cf",
   "metadata": {},
   "source": [
    "#### 23. Review the discussion of looping with conditions in 4. Use a combination of for and if statements to loop over the words of the movie script for Monty Python and the Holy Grail (text6) and print all the uppercase words, one per line."
   ]
  },
  {
   "cell_type": "code",
   "execution_count": null,
   "id": "211cb797",
   "metadata": {},
   "outputs": [],
   "source": [
    "#version1\n",
    "MPHG = [w for w in text6 if w.isupper()]"
   ]
  },
  {
   "cell_type": "code",
   "execution_count": null,
   "id": "2cbd17d7",
   "metadata": {},
   "outputs": [],
   "source": [
    "MPHG"
   ]
  },
  {
   "cell_type": "code",
   "execution_count": null,
   "id": "602f9a38",
   "metadata": {},
   "outputs": [],
   "source": [
    "len(MPHG)"
   ]
  },
  {
   "cell_type": "code",
   "execution_count": null,
   "id": "153e24ea",
   "metadata": {
    "scrolled": true
   },
   "outputs": [],
   "source": [
    "#version 2, can also be defined as a function\n",
    "for w in text6:\n",
    "    if w.isupper():\n",
    "        print(w)"
   ]
  },
  {
   "cell_type": "markdown",
   "id": "99b846c0",
   "metadata": {},
   "source": [
    "#### 24. Write expressions for finding all words in text6 that meet the conditions listed below. The result should be in the form of a list of words: ['word1', 'word2', ...]."
   ]
  },
  {
   "cell_type": "markdown",
   "id": "d454e303",
   "metadata": {},
   "source": [
    "a. Ending in ise"
   ]
  },
  {
   "cell_type": "code",
   "execution_count": null,
   "id": "7c821743",
   "metadata": {},
   "outputs": [],
   "source": [
    "sorted(w for w in set(text6) if w.endswith('ise'))"
   ]
  },
  {
   "cell_type": "markdown",
   "id": "225b6bcb",
   "metadata": {},
   "source": [
    "b. Containing the letter z"
   ]
  },
  {
   "cell_type": "code",
   "execution_count": null,
   "id": "d0702a7e",
   "metadata": {},
   "outputs": [],
   "source": [
    "sorted(w for w in text6 if 'z' in w)"
   ]
  },
  {
   "cell_type": "markdown",
   "id": "d2484171",
   "metadata": {},
   "source": [
    "c. Containing the sequence of letters pt"
   ]
  },
  {
   "cell_type": "code",
   "execution_count": null,
   "id": "d34e8a2a",
   "metadata": {},
   "outputs": [],
   "source": [
    "pt = sorted(set(w for w in text6 if 'pt' in w))\n",
    "print(pt)"
   ]
  },
  {
   "cell_type": "markdown",
   "id": "9d588cf4",
   "metadata": {},
   "source": [
    "d. Having all lowercase letters except for an initial capital (i.e., titlecase)"
   ]
  },
  {
   "cell_type": "code",
   "execution_count": null,
   "id": "feed6232",
   "metadata": {},
   "outputs": [],
   "source": [
    "titlecase = sorted(word for word in set(text6) if word.istitle())\n",
    "print(titlecase)"
   ]
  },
  {
   "cell_type": "markdown",
   "id": "04313139",
   "metadata": {},
   "source": [
    "#### 25. Define sent to be the list of words ['she', 'sells', 'sea', 'shells', 'by', 'the', 'sea', 'shore']. Now write code to perform the following tasks:"
   ]
  },
  {
   "cell_type": "code",
   "execution_count": null,
   "id": "04a56995",
   "metadata": {},
   "outputs": [],
   "source": [
    "sent = ['she', 'sells', 'sea', 'shells', 'by', 'the', 'sea', 'shore']"
   ]
  },
  {
   "cell_type": "markdown",
   "id": "d00dbca8",
   "metadata": {},
   "source": [
    "a. Print all words beginning with sh"
   ]
  },
  {
   "cell_type": "code",
   "execution_count": null,
   "id": "d0e7fe95",
   "metadata": {},
   "outputs": [],
   "source": [
    "sorted(w for w in set(sent) if w.startswith('sh'))"
   ]
  },
  {
   "cell_type": "markdown",
   "id": "8369584c",
   "metadata": {},
   "source": [
    "b. Print all words longer than four characters"
   ]
  },
  {
   "cell_type": "code",
   "execution_count": null,
   "id": "32918c47",
   "metadata": {},
   "outputs": [],
   "source": [
    "sorted(w for w in sent if len(w) > 4)"
   ]
  },
  {
   "cell_type": "markdown",
   "id": "84483b4a",
   "metadata": {},
   "source": [
    "#### 26. What does the following Python code do?  sum(len(w) for w in text1) Can you use it to work out the average word length of a text?"
   ]
  },
  {
   "cell_type": "code",
   "execution_count": null,
   "id": "8493b70a",
   "metadata": {},
   "outputs": [],
   "source": [
    "sum_len = sum(len(w) for w in text1)\n",
    "sum_len"
   ]
  },
  {
   "cell_type": "code",
   "execution_count": null,
   "id": "a0f63b0c",
   "metadata": {},
   "outputs": [],
   "source": [
    "wdct = len(text1)\n",
    "wdct"
   ]
  },
  {
   "cell_type": "code",
   "execution_count": null,
   "id": "93313ee8",
   "metadata": {},
   "outputs": [],
   "source": [
    "sum_len/wdct"
   ]
  },
  {
   "cell_type": "markdown",
   "id": "593bfb5b",
   "metadata": {},
   "source": [
    "The code takes the sum of the length of all words in text1. The average word length can be calculated by taking the sum of the length of the words, sum_len, and dividing the number of words in text1, wdct.\n",
    "\n",
    "999044/260819 = 3.830411128023649"
   ]
  },
  {
   "cell_type": "markdown",
   "id": "d796db94",
   "metadata": {},
   "source": [
    "#### 27. Define a function called vocab_size(text) that has a single parameter for the text, and which returns the vocabulary size of the text."
   ]
  },
  {
   "cell_type": "code",
   "execution_count": null,
   "id": "fd50b1f1",
   "metadata": {},
   "outputs": [],
   "source": [
    "def vocab_size(text):\n",
    "        return len(set(w.lower() for w in text if w.isalpha()))"
   ]
  },
  {
   "cell_type": "code",
   "execution_count": null,
   "id": "51011b99",
   "metadata": {},
   "outputs": [],
   "source": [
    "vocab_size(text1)"
   ]
  },
  {
   "cell_type": "code",
   "execution_count": null,
   "id": "d52b7a1f",
   "metadata": {},
   "outputs": [],
   "source": [
    "vocab_size(text2)"
   ]
  },
  {
   "cell_type": "markdown",
   "id": "392e0185",
   "metadata": {},
   "source": [
    "#### 28. Define a function percent(word, text) that calculates how often a given word occurs in a text, and expresses the result as a percentage."
   ]
  },
  {
   "cell_type": "code",
   "execution_count": null,
   "id": "631f2f23",
   "metadata": {},
   "outputs": [],
   "source": [
    "def percent(word,text):\n",
    "  freq = text.count(word)\n",
    "  length = len(text)\n",
    "  res = 100 * (freq/length)\n",
    "  return str(res) + '%'"
   ]
  },
  {
   "cell_type": "code",
   "execution_count": null,
   "id": "d776d698",
   "metadata": {},
   "outputs": [],
   "source": [
    "percent('and',text1)"
   ]
  },
  {
   "cell_type": "code",
   "execution_count": null,
   "id": "ea297c23",
   "metadata": {},
   "outputs": [],
   "source": [
    "percent('from',text2)"
   ]
  },
  {
   "cell_type": "code",
   "execution_count": null,
   "id": "0dfcebac",
   "metadata": {},
   "outputs": [],
   "source": [
    "percent('and',text3)"
   ]
  },
  {
   "cell_type": "code",
   "execution_count": null,
   "id": "ccb45f76",
   "metadata": {},
   "outputs": [],
   "source": [
    "percent('the',text5)"
   ]
  },
  {
   "cell_type": "markdown",
   "id": "086a0c9f",
   "metadata": {},
   "source": [
    "#### 29. We have been using sets to store vocabularies. Try the following Python expression: set(sent3) < set(text1). Experiment with this using different arguments to set(). What does it do? Can you think of a practical application for this?"
   ]
  },
  {
   "cell_type": "code",
   "execution_count": null,
   "id": "62f043c3",
   "metadata": {
    "scrolled": true
   },
   "outputs": [],
   "source": [
    "sent3"
   ]
  },
  {
   "cell_type": "code",
   "execution_count": null,
   "id": "0e0a26d0",
   "metadata": {
    "scrolled": false
   },
   "outputs": [],
   "source": [
    "set(sent3)"
   ]
  },
  {
   "cell_type": "code",
   "execution_count": null,
   "id": "ed306f05",
   "metadata": {
    "scrolled": true
   },
   "outputs": [],
   "source": [
    "set(sent3) < set(text1)"
   ]
  },
  {
   "cell_type": "code",
   "execution_count": null,
   "id": "5a1f9e7d",
   "metadata": {
    "scrolled": true
   },
   "outputs": [],
   "source": [
    "set(sent3) > set(text1)"
   ]
  },
  {
   "cell_type": "code",
   "execution_count": null,
   "id": "0592f0b2",
   "metadata": {},
   "outputs": [],
   "source": [
    "set(sent6) < set(text6)"
   ]
  },
  {
   "cell_type": "code",
   "execution_count": null,
   "id": "c4d4c84f",
   "metadata": {},
   "outputs": [],
   "source": [
    "set(sent6) > set(text6)"
   ]
  },
  {
   "cell_type": "markdown",
   "id": "61291a7d",
   "metadata": {},
   "source": [
    "The arguement returns a boolean based on the if the sent or text has more words. It can also check to see if one is the subset of the other. If a sent or text is generic and contains only common words it could be a subset of almost any sent/text so one must make sure the contents has sufficient depth to be included in the arguement."
   ]
  },
  {
   "cell_type": "code",
   "execution_count": null,
   "id": "e817fe61",
   "metadata": {},
   "outputs": [],
   "source": []
  }
 ],
 "metadata": {
  "kernelspec": {
   "display_name": "Python 3",
   "language": "python",
   "name": "python3"
  },
  "language_info": {
   "codemirror_mode": {
    "name": "ipython",
    "version": 3
   },
   "file_extension": ".py",
   "mimetype": "text/x-python",
   "name": "python",
   "nbconvert_exporter": "python",
   "pygments_lexer": "ipython3",
   "version": "3.8.13"
  },
  "vscode": {
   "interpreter": {
    "hash": "b0fa6594d8f4cbf19f97940f81e996739fb7646882a419484c72d19e05852a7e"
   }
  }
 },
 "nbformat": 4,
 "nbformat_minor": 5
}
