{
 "cells": [
  {
   "cell_type": "markdown",
   "id": "e49a440e",
   "metadata": {},
   "source": [
    "# Natural Language Processing - HW2"
   ]
  },
  {
   "cell_type": "markdown",
   "id": "e49cc611",
   "metadata": {},
   "source": [
    "### Group Members: Alex Chin, Billy Marin, Blenda Hoang, Mihir Kungulwar"
   ]
  },
  {
   "cell_type": "code",
   "execution_count": 1,
   "id": "6d96d515",
   "metadata": {},
   "outputs": [],
   "source": [
    "#nltk\n",
    "import nltk"
   ]
  },
  {
   "cell_type": "code",
   "execution_count": 2,
   "id": "5879537e",
   "metadata": {},
   "outputs": [
    {
     "name": "stderr",
     "output_type": "stream",
     "text": [
      "[nltk_data] Downloading collection 'book'\n",
      "[nltk_data]    | \n",
      "[nltk_data]    | Downloading package abc to\n",
      "[nltk_data]    |     /Users/billymarin/nltk_data...\n",
      "[nltk_data]    |   Package abc is already up-to-date!\n",
      "[nltk_data]    | Downloading package brown to\n",
      "[nltk_data]    |     /Users/billymarin/nltk_data...\n",
      "[nltk_data]    |   Package brown is already up-to-date!\n",
      "[nltk_data]    | Downloading package chat80 to\n",
      "[nltk_data]    |     /Users/billymarin/nltk_data...\n",
      "[nltk_data]    |   Package chat80 is already up-to-date!\n",
      "[nltk_data]    | Downloading package cmudict to\n",
      "[nltk_data]    |     /Users/billymarin/nltk_data...\n",
      "[nltk_data]    |   Package cmudict is already up-to-date!\n",
      "[nltk_data]    | Downloading package conll2000 to\n",
      "[nltk_data]    |     /Users/billymarin/nltk_data...\n",
      "[nltk_data]    |   Package conll2000 is already up-to-date!\n",
      "[nltk_data]    | Downloading package conll2002 to\n",
      "[nltk_data]    |     /Users/billymarin/nltk_data...\n",
      "[nltk_data]    |   Package conll2002 is already up-to-date!\n",
      "[nltk_data]    | Downloading package dependency_treebank to\n",
      "[nltk_data]    |     /Users/billymarin/nltk_data...\n",
      "[nltk_data]    |   Package dependency_treebank is already up-to-date!\n",
      "[nltk_data]    | Downloading package genesis to\n",
      "[nltk_data]    |     /Users/billymarin/nltk_data...\n",
      "[nltk_data]    |   Package genesis is already up-to-date!\n",
      "[nltk_data]    | Downloading package gutenberg to\n",
      "[nltk_data]    |     /Users/billymarin/nltk_data...\n",
      "[nltk_data]    |   Package gutenberg is already up-to-date!\n",
      "[nltk_data]    | Downloading package ieer to\n",
      "[nltk_data]    |     /Users/billymarin/nltk_data...\n",
      "[nltk_data]    |   Package ieer is already up-to-date!\n",
      "[nltk_data]    | Downloading package inaugural to\n",
      "[nltk_data]    |     /Users/billymarin/nltk_data...\n",
      "[nltk_data]    |   Package inaugural is already up-to-date!\n",
      "[nltk_data]    | Downloading package movie_reviews to\n",
      "[nltk_data]    |     /Users/billymarin/nltk_data...\n",
      "[nltk_data]    |   Package movie_reviews is already up-to-date!\n",
      "[nltk_data]    | Downloading package nps_chat to\n",
      "[nltk_data]    |     /Users/billymarin/nltk_data...\n",
      "[nltk_data]    |   Package nps_chat is already up-to-date!\n",
      "[nltk_data]    | Downloading package names to\n",
      "[nltk_data]    |     /Users/billymarin/nltk_data...\n",
      "[nltk_data]    |   Package names is already up-to-date!\n",
      "[nltk_data]    | Downloading package ppattach to\n",
      "[nltk_data]    |     /Users/billymarin/nltk_data...\n",
      "[nltk_data]    |   Package ppattach is already up-to-date!\n",
      "[nltk_data]    | Downloading package reuters to\n",
      "[nltk_data]    |     /Users/billymarin/nltk_data...\n",
      "[nltk_data]    |   Package reuters is already up-to-date!\n",
      "[nltk_data]    | Downloading package senseval to\n",
      "[nltk_data]    |     /Users/billymarin/nltk_data...\n",
      "[nltk_data]    |   Package senseval is already up-to-date!\n",
      "[nltk_data]    | Downloading package state_union to\n",
      "[nltk_data]    |     /Users/billymarin/nltk_data...\n",
      "[nltk_data]    |   Package state_union is already up-to-date!\n",
      "[nltk_data]    | Downloading package stopwords to\n",
      "[nltk_data]    |     /Users/billymarin/nltk_data...\n",
      "[nltk_data]    |   Package stopwords is already up-to-date!\n",
      "[nltk_data]    | Downloading package swadesh to\n",
      "[nltk_data]    |     /Users/billymarin/nltk_data...\n",
      "[nltk_data]    |   Package swadesh is already up-to-date!\n",
      "[nltk_data]    | Downloading package timit to\n",
      "[nltk_data]    |     /Users/billymarin/nltk_data...\n",
      "[nltk_data]    |   Package timit is already up-to-date!\n",
      "[nltk_data]    | Downloading package treebank to\n",
      "[nltk_data]    |     /Users/billymarin/nltk_data...\n",
      "[nltk_data]    |   Package treebank is already up-to-date!\n",
      "[nltk_data]    | Downloading package toolbox to\n",
      "[nltk_data]    |     /Users/billymarin/nltk_data...\n",
      "[nltk_data]    |   Package toolbox is already up-to-date!\n",
      "[nltk_data]    | Downloading package udhr to\n",
      "[nltk_data]    |     /Users/billymarin/nltk_data...\n",
      "[nltk_data]    |   Package udhr is already up-to-date!\n",
      "[nltk_data]    | Downloading package udhr2 to\n",
      "[nltk_data]    |     /Users/billymarin/nltk_data...\n",
      "[nltk_data]    |   Package udhr2 is already up-to-date!\n",
      "[nltk_data]    | Downloading package unicode_samples to\n",
      "[nltk_data]    |     /Users/billymarin/nltk_data...\n",
      "[nltk_data]    |   Package unicode_samples is already up-to-date!\n",
      "[nltk_data]    | Downloading package webtext to\n",
      "[nltk_data]    |     /Users/billymarin/nltk_data...\n",
      "[nltk_data]    |   Package webtext is already up-to-date!\n",
      "[nltk_data]    | Downloading package wordnet to\n",
      "[nltk_data]    |     /Users/billymarin/nltk_data...\n",
      "[nltk_data]    |   Package wordnet is already up-to-date!\n",
      "[nltk_data]    | Downloading package wordnet_ic to\n",
      "[nltk_data]    |     /Users/billymarin/nltk_data...\n",
      "[nltk_data]    |   Package wordnet_ic is already up-to-date!\n",
      "[nltk_data]    | Downloading package words to\n",
      "[nltk_data]    |     /Users/billymarin/nltk_data...\n",
      "[nltk_data]    |   Package words is already up-to-date!\n",
      "[nltk_data]    | Downloading package maxent_treebank_pos_tagger to\n",
      "[nltk_data]    |     /Users/billymarin/nltk_data...\n",
      "[nltk_data]    |   Package maxent_treebank_pos_tagger is already up-\n",
      "[nltk_data]    |       to-date!\n",
      "[nltk_data]    | Downloading package maxent_ne_chunker to\n",
      "[nltk_data]    |     /Users/billymarin/nltk_data...\n",
      "[nltk_data]    |   Package maxent_ne_chunker is already up-to-date!\n",
      "[nltk_data]    | Downloading package universal_tagset to\n",
      "[nltk_data]    |     /Users/billymarin/nltk_data...\n",
      "[nltk_data]    |   Package universal_tagset is already up-to-date!\n",
      "[nltk_data]    | Downloading package punkt to\n",
      "[nltk_data]    |     /Users/billymarin/nltk_data...\n",
      "[nltk_data]    |   Package punkt is already up-to-date!\n",
      "[nltk_data]    | Downloading package book_grammars to\n",
      "[nltk_data]    |     /Users/billymarin/nltk_data...\n",
      "[nltk_data]    |   Package book_grammars is already up-to-date!\n",
      "[nltk_data]    | Downloading package city_database to\n",
      "[nltk_data]    |     /Users/billymarin/nltk_data...\n",
      "[nltk_data]    |   Package city_database is already up-to-date!\n",
      "[nltk_data]    | Downloading package tagsets to\n",
      "[nltk_data]    |     /Users/billymarin/nltk_data...\n",
      "[nltk_data]    |   Package tagsets is already up-to-date!\n",
      "[nltk_data]    | Downloading package panlex_swadesh to\n",
      "[nltk_data]    |     /Users/billymarin/nltk_data...\n",
      "[nltk_data]    |   Package panlex_swadesh is already up-to-date!\n",
      "[nltk_data]    | Downloading package averaged_perceptron_tagger to\n",
      "[nltk_data]    |     /Users/billymarin/nltk_data...\n",
      "[nltk_data]    |   Package averaged_perceptron_tagger is already up-\n",
      "[nltk_data]    |       to-date!\n",
      "[nltk_data]    | \n",
      "[nltk_data]  Done downloading collection book\n"
     ]
    },
    {
     "data": {
      "text/plain": [
       "True"
      ]
     },
     "execution_count": 2,
     "metadata": {},
     "output_type": "execute_result"
    }
   ],
   "source": [
    "nltk.download('book')"
   ]
  },
  {
   "cell_type": "code",
   "execution_count": 3,
   "id": "46afbb76",
   "metadata": {},
   "outputs": [
    {
     "name": "stdout",
     "output_type": "stream",
     "text": [
      "*** Introductory Examples for the NLTK Book ***\n",
      "Loading text1, ..., text9 and sent1, ..., sent9\n",
      "Type the name of the text or sentence to view it.\n",
      "Type: 'texts()' or 'sents()' to list the materials.\n",
      "text1: Moby Dick by Herman Melville 1851\n",
      "text2: Sense and Sensibility by Jane Austen 1811\n",
      "text3: The Book of Genesis\n",
      "text4: Inaugural Address Corpus\n",
      "text5: Chat Corpus\n",
      "text6: Monty Python and the Holy Grail\n",
      "text7: Wall Street Journal\n",
      "text8: Personals Corpus\n",
      "text9: The Man Who Was Thursday by G . K . Chesterton 1908\n"
     ]
    }
   ],
   "source": [
    "from nltk.book import *"
   ]
  },
  {
   "cell_type": "markdown",
   "id": "060881c9",
   "metadata": {},
   "source": [
    "#### 1. Try using the Python interpreter as a calculator, and typing expressions like 12 / (4 + 1)."
   ]
  },
  {
   "cell_type": "code",
   "execution_count": 4,
   "id": "4bd78b5b",
   "metadata": {},
   "outputs": [
    {
     "data": {
      "text/plain": [
       "2.4"
      ]
     },
     "execution_count": 4,
     "metadata": {},
     "output_type": "execute_result"
    }
   ],
   "source": [
    "12 / (4 + 1)"
   ]
  },
  {
   "cell_type": "markdown",
   "id": "c6b38d94",
   "metadata": {},
   "source": [
    "#### 2. Given an alphabet of 26 letters, there are 26 to the power 10, or 26 ** 10, ten-letter strings we can form. That works out to 141167095653376. How many hundred-letter strings are possible?"
   ]
  },
  {
   "cell_type": "code",
   "execution_count": 5,
   "id": "d38d4132",
   "metadata": {},
   "outputs": [
    {
     "data": {
      "text/plain": [
       "3142930641582938830174357788501626427282669988762475256374173175398995908420104023465432599069702289330964075081611719197835869803511992549376"
      ]
     },
     "execution_count": 5,
     "metadata": {},
     "output_type": "execute_result"
    }
   ],
   "source": [
    "26**100"
   ]
  },
  {
   "cell_type": "markdown",
   "id": "c4764d0c",
   "metadata": {},
   "source": [
    "#### 3. The Python multiplication operation can be applied to lists. What happens when you type ['Monty', 'Python'] * 20, or 3 * sent1?"
   ]
  },
  {
   "cell_type": "code",
   "execution_count": 6,
   "id": "f54d23a9",
   "metadata": {},
   "outputs": [
    {
     "data": {
      "text/plain": [
       "['Monty',\n",
       " 'Python',\n",
       " 'Monty',\n",
       " 'Python',\n",
       " 'Monty',\n",
       " 'Python',\n",
       " 'Monty',\n",
       " 'Python',\n",
       " 'Monty',\n",
       " 'Python',\n",
       " 'Monty',\n",
       " 'Python',\n",
       " 'Monty',\n",
       " 'Python',\n",
       " 'Monty',\n",
       " 'Python',\n",
       " 'Monty',\n",
       " 'Python',\n",
       " 'Monty',\n",
       " 'Python',\n",
       " 'Monty',\n",
       " 'Python',\n",
       " 'Monty',\n",
       " 'Python',\n",
       " 'Monty',\n",
       " 'Python',\n",
       " 'Monty',\n",
       " 'Python',\n",
       " 'Monty',\n",
       " 'Python',\n",
       " 'Monty',\n",
       " 'Python',\n",
       " 'Monty',\n",
       " 'Python',\n",
       " 'Monty',\n",
       " 'Python',\n",
       " 'Monty',\n",
       " 'Python',\n",
       " 'Monty',\n",
       " 'Python']"
      ]
     },
     "execution_count": 6,
     "metadata": {},
     "output_type": "execute_result"
    }
   ],
   "source": [
    "['Monty', 'Python'] * 20"
   ]
  },
  {
   "cell_type": "code",
   "execution_count": 7,
   "id": "5b0693f5",
   "metadata": {},
   "outputs": [
    {
     "data": {
      "text/plain": [
       "['Call',\n",
       " 'me',\n",
       " 'Ishmael',\n",
       " '.',\n",
       " 'Call',\n",
       " 'me',\n",
       " 'Ishmael',\n",
       " '.',\n",
       " 'Call',\n",
       " 'me',\n",
       " 'Ishmael',\n",
       " '.']"
      ]
     },
     "execution_count": 7,
     "metadata": {},
     "output_type": "execute_result"
    }
   ],
   "source": [
    "3*sent1"
   ]
  },
  {
   "cell_type": "markdown",
   "id": "c8b059df",
   "metadata": {},
   "source": [
    "#### 4.  Review 1 on computing with language. How many words are there in text2? How many distinct words are there?"
   ]
  },
  {
   "cell_type": "code",
   "execution_count": 8,
   "id": "13b4e29c",
   "metadata": {},
   "outputs": [
    {
     "name": "stdout",
     "output_type": "stream",
     "text": [
      "Words in text2:\n"
     ]
    },
    {
     "data": {
      "text/plain": [
       "141576"
      ]
     },
     "execution_count": 8,
     "metadata": {},
     "output_type": "execute_result"
    }
   ],
   "source": [
    "print(\"Words in text2:\") \n",
    "(len(text2))"
   ]
  },
  {
   "cell_type": "code",
   "execution_count": 9,
   "id": "e0e9b216",
   "metadata": {},
   "outputs": [
    {
     "name": "stdout",
     "output_type": "stream",
     "text": [
      "Distinct words in text2:\n"
     ]
    },
    {
     "data": {
      "text/plain": [
       "6833"
      ]
     },
     "execution_count": 9,
     "metadata": {},
     "output_type": "execute_result"
    }
   ],
   "source": [
    "print(\"Distinct words in text2:\")\n",
    "len(set(text2))"
   ]
  },
  {
   "cell_type": "markdown",
   "id": "4e82d6e4",
   "metadata": {},
   "source": [
    "#### 5. Compare the lexical diversity scores for humor and romance fiction in 1.1. Which genre is more lexically diverse?"
   ]
  },
  {
   "cell_type": "markdown",
   "id": "1225ec39",
   "metadata": {},
   "source": [
    "The lexical diversity of humor is 0.231 and 0.121 for romance. Humor genre is more lexically diverse."
   ]
  },
  {
   "cell_type": "markdown",
   "id": "96b514ad",
   "metadata": {},
   "source": [
    "#### 6. Produce a dispersion plot of the four main protagonists in Sense and Sensibility: Elinor, Marianne, Edward, and Willoughby. What can you observe about the different roles played by the males and females in this novel? Can you identify the couples?"
   ]
  },
  {
   "cell_type": "code",
   "execution_count": 10,
   "id": "73ce1c1b",
   "metadata": {
    "scrolled": true
   },
   "outputs": [
    {
     "data": {
      "image/png": "[encoded data removed]",
      "text/plain": [
       "<Figure size 432x288 with 1 Axes>"
      ]
     },
     "metadata": {
      "needs_background": "light"
     },
     "output_type": "display_data"
    }
   ],
   "source": [
    "text2.dispersion_plot([\"Elinor\", \"Marianne\", \"Edward\", \"Willoughby\"])"
   ]
  },
  {
   "cell_type": "markdown",
   "id": "8b564cd2",
   "metadata": {},
   "source": [
    "<i>What can you observe about the different roles played by the males and females in this novel? <i/>"
   ]
  },
  {
   "cell_type": "markdown",
   "id": "10c4e6cd",
   "metadata": {},
   "source": [
    "Elinor and Marianne, female roles, are mentioned throughout the entire text and both appear to be main characters, with Elinor being mentioned more than Marianne. The male roles of Edward and Willoughby are support characters that are mentioned far less than the female roles. There appears to be a pattern of mentioning Edward and Willoughby at different times and rarely together as they alternate appearances."
   ]
  },
  {
   "cell_type": "markdown",
   "id": "0f162761",
   "metadata": {},
   "source": [
    "<i>Can you identify the couples?</i>"
   ]
  },
  {
   "cell_type": "markdown",
   "id": "165b7a76",
   "metadata": {},
   "source": [
    "There could be many combinations and even competition in becoming couples. The possible combinations are:\n",
    "1. Elinor and Edward\n",
    "2. Elinor and Willoughby\n",
    "3. Marianne and Edward\n",
    "4. Marianne and Willoughby"
   ]
  },
  {
   "cell_type": "markdown",
   "id": "eeccf77a",
   "metadata": {},
   "source": [
    "#### 7. Find the collocations in text5."
   ]
  },
  {
   "cell_type": "code",
   "execution_count": 11,
   "id": "69996820",
   "metadata": {},
   "outputs": [
    {
     "name": "stdout",
     "output_type": "stream",
     "text": [
      "wanna chat; PART JOIN; MODE #14-19teens; JOIN PART; PART PART;\n",
      "cute.-ass MP3; MP3 player; JOIN JOIN; times .. .; ACTION watches; guys\n",
      "wanna; song lasts; last night; ACTION sits; -...)...- S.M.R.; Lime\n",
      "Player; Player 12%; dont know; lez gurls; long time\n"
     ]
    }
   ],
   "source": [
    "text5.collocations()"
   ]
  },
  {
   "cell_type": "markdown",
   "id": "8099a862",
   "metadata": {},
   "source": [
    "#### 8.  Consider the following Python expression: len(set(text4)). State the purpose of this expression. Describe the two steps involved in performing this computation."
   ]
  },
  {
   "cell_type": "markdown",
   "id": "da519bca",
   "metadata": {},
   "source": [
    "Step 1 is take the length of text 4, len(text4). The len() function counts the number of tokens, words and punctuation symbols, contained within the chosen text. "
   ]
  },
  {
   "cell_type": "code",
   "execution_count": 12,
   "id": "6fcd5bed",
   "metadata": {},
   "outputs": [
    {
     "data": {
      "text/plain": [
       "152901"
      ]
     },
     "execution_count": 12,
     "metadata": {},
     "output_type": "execute_result"
    }
   ],
   "source": [
    "len(text4)"
   ]
  },
  {
   "cell_type": "markdown",
   "id": "15e71b77",
   "metadata": {},
   "source": [
    "Step 2 is take the length of the set of text 4, len(set(text4)). Taking the set of text 4 takes the set of tokens and collapses all the duplicates together. If we take the just set(text4) we would get the set of tokens. So we take the length of the set to get the distinct count of tokens. "
   ]
  },
  {
   "cell_type": "code",
   "execution_count": 13,
   "id": "b1238eff",
   "metadata": {},
   "outputs": [
    {
     "data": {
      "text/plain": [
       "10025"
      ]
     },
     "execution_count": 13,
     "metadata": {},
     "output_type": "execute_result"
    }
   ],
   "source": [
    "len(set(text4))"
   ]
  },
  {
   "cell_type": "markdown",
   "id": "34e3e5d7",
   "metadata": {},
   "source": [
    "#### 9. Review 2 on lists and strings."
   ]
  },
  {
   "cell_type": "markdown",
   "id": "a54e1a8c",
   "metadata": {},
   "source": [
    "a. Define a string and assign it to a variable, e.g., my_string = 'My String' (but put something more interesting in the string). Print the contents of this variable in two ways, first by simply typing the variable name and pressing enter, then by using the print statement."
   ]
  },
  {
   "cell_type": "code",
   "execution_count": 14,
   "id": "115e7389",
   "metadata": {},
   "outputs": [],
   "source": [
    "my_string = 'Peanut Butter Jelly Time'"
   ]
  },
  {
   "cell_type": "code",
   "execution_count": 15,
   "id": "5fdfd186",
   "metadata": {},
   "outputs": [
    {
     "data": {
      "text/plain": [
       "'Peanut Butter Jelly Time'"
      ]
     },
     "execution_count": 15,
     "metadata": {},
     "output_type": "execute_result"
    }
   ],
   "source": [
    "my_string"
   ]
  },
  {
   "cell_type": "code",
   "execution_count": 16,
   "id": "0655b257",
   "metadata": {},
   "outputs": [
    {
     "name": "stdout",
     "output_type": "stream",
     "text": [
      "Peanut Butter Jelly Time\n"
     ]
    }
   ],
   "source": [
    "print(my_string)"
   ]
  },
  {
   "cell_type": "markdown",
   "id": "1dd6098b",
   "metadata": {},
   "source": [
    "b. Try adding the string to itself using my_string + my_string, or multiplying it by a number, e.g., my_string * 3. Notice that the strings are joined together without any spaces. How could you fix this?"
   ]
  },
  {
   "cell_type": "code",
   "execution_count": 17,
   "id": "bffee533",
   "metadata": {},
   "outputs": [
    {
     "data": {
      "text/plain": [
       "'Peanut Butter Jelly TimePeanut Butter Jelly Time'"
      ]
     },
     "execution_count": 17,
     "metadata": {},
     "output_type": "execute_result"
    }
   ],
   "source": [
    "my_string+my_string"
   ]
  },
  {
   "cell_type": "code",
   "execution_count": 18,
   "id": "cc754a4a",
   "metadata": {},
   "outputs": [
    {
     "data": {
      "text/plain": [
       "'Peanut Butter Jelly Time Peanut Butter Jelly Time'"
      ]
     },
     "execution_count": 18,
     "metadata": {},
     "output_type": "execute_result"
    }
   ],
   "source": [
    "# + with space\n",
    "my_string+\" \"+my_string"
   ]
  },
  {
   "cell_type": "code",
   "execution_count": 19,
   "id": "acc321d9",
   "metadata": {
    "scrolled": true
   },
   "outputs": [
    {
     "data": {
      "text/plain": [
       "'Peanut Butter Jelly TimePeanut Butter Jelly TimePeanut Butter Jelly TimePeanut Butter Jelly Time'"
      ]
     },
     "execution_count": 19,
     "metadata": {},
     "output_type": "execute_result"
    }
   ],
   "source": [
    "my_string*4"
   ]
  },
  {
   "cell_type": "code",
   "execution_count": 20,
   "id": "7143a285",
   "metadata": {},
   "outputs": [
    {
     "data": {
      "text/plain": [
       "'Peanut Butter Jelly Time Peanut Butter Jelly Time Peanut Butter Jelly Time Peanut Butter Jelly Time'"
      ]
     },
     "execution_count": 20,
     "metadata": {},
     "output_type": "execute_result"
    }
   ],
   "source": [
    "# * with space using .join\n",
    "' '.join([my_string]*4)"
   ]
  },
  {
   "cell_type": "code",
   "execution_count": 21,
   "id": "d2ed63ca",
   "metadata": {},
   "outputs": [
    {
     "data": {
      "text/plain": [
       "'Peanut Butter Jelly Time Peanut Butter Jelly Time Peanut Butter Jelly Time Peanut Butter Jelly Time '"
      ]
     },
     "execution_count": 21,
     "metadata": {},
     "output_type": "execute_result"
    }
   ],
   "source": [
    "# * with space using +\n",
    "(my_string+\" \")*4"
   ]
  },
  {
   "cell_type": "markdown",
   "id": "f31525cf",
   "metadata": {},
   "source": [
    "#### 10. Define a variable my_sent to be a list of words, using the syntax my_sent = [\"My\", \"sent\"] (but with your own words, or a favorite saying)."
   ]
  },
  {
   "cell_type": "code",
   "execution_count": 22,
   "id": "8fa11b59",
   "metadata": {},
   "outputs": [],
   "source": [
    "show_time = [\"Show\",\"time\"]"
   ]
  },
  {
   "cell_type": "markdown",
   "id": "53ff43c8",
   "metadata": {},
   "source": [
    "a. Use ' '.join(my_sent) to convert this into a string."
   ]
  },
  {
   "cell_type": "code",
   "execution_count": 23,
   "id": "30028635",
   "metadata": {},
   "outputs": [
    {
     "data": {
      "text/plain": [
       "'Show time'"
      ]
     },
     "execution_count": 23,
     "metadata": {},
     "output_type": "execute_result"
    }
   ],
   "source": [
    "string2 = ' '.join(show_time)\n",
    "string2"
   ]
  },
  {
   "cell_type": "markdown",
   "id": "35a4e99f",
   "metadata": {},
   "source": [
    "b. Use split() to split the string back into the list form you had to start with."
   ]
  },
  {
   "cell_type": "code",
   "execution_count": 24,
   "id": "61e35285",
   "metadata": {},
   "outputs": [
    {
     "data": {
      "text/plain": [
       "['Show', 'time']"
      ]
     },
     "execution_count": 24,
     "metadata": {},
     "output_type": "execute_result"
    }
   ],
   "source": [
    "string2.split()"
   ]
  },
  {
   "cell_type": "markdown",
   "id": "65983a3e",
   "metadata": {},
   "source": [
    "#### 11. Define several variables containing lists of words, e.g., phrase1, phrase2, and so on. Join them together in various combinations (using the plus operator) to form whole sentences. What is the relationship between len(phrase1 + phrase2) and len(phrase1) + len(phrase2)?"
   ]
  },
  {
   "cell_type": "code",
   "execution_count": 25,
   "id": "735eeae7",
   "metadata": {},
   "outputs": [],
   "source": [
    "phrase1 = \"What a\"\n",
    "phrase2 = \"Time for a\"\n",
    "phrase3 = \"long day\"\n",
    "phrase4 = \"good show\"\n",
    "phrase5 = \"quick nap\""
   ]
  },
  {
   "cell_type": "code",
   "execution_count": 26,
   "id": "c5c58797",
   "metadata": {},
   "outputs": [
    {
     "data": {
      "text/plain": [
       "'What a long day'"
      ]
     },
     "execution_count": 26,
     "metadata": {},
     "output_type": "execute_result"
    }
   ],
   "source": [
    "phrase1 +\" \"+phrase3"
   ]
  },
  {
   "cell_type": "code",
   "execution_count": 27,
   "id": "ffdf7bcb",
   "metadata": {},
   "outputs": [
    {
     "data": {
      "text/plain": [
       "'What a good show'"
      ]
     },
     "execution_count": 27,
     "metadata": {},
     "output_type": "execute_result"
    }
   ],
   "source": [
    "phrase1 +\" \"+phrase4"
   ]
  },
  {
   "cell_type": "code",
   "execution_count": 28,
   "id": "76e1a912",
   "metadata": {},
   "outputs": [
    {
     "data": {
      "text/plain": [
       "'What a quick nap'"
      ]
     },
     "execution_count": 28,
     "metadata": {},
     "output_type": "execute_result"
    }
   ],
   "source": [
    "phrase1 +\" \"+phrase5"
   ]
  },
  {
   "cell_type": "code",
   "execution_count": 29,
   "id": "1f0aa98a",
   "metadata": {},
   "outputs": [
    {
     "data": {
      "text/plain": [
       "'Time for a long day'"
      ]
     },
     "execution_count": 29,
     "metadata": {},
     "output_type": "execute_result"
    }
   ],
   "source": [
    "phrase2 +\" \"+phrase3"
   ]
  },
  {
   "cell_type": "code",
   "execution_count": 30,
   "id": "b340b39e",
   "metadata": {},
   "outputs": [
    {
     "data": {
      "text/plain": [
       "'Time for a good show'"
      ]
     },
     "execution_count": 30,
     "metadata": {},
     "output_type": "execute_result"
    }
   ],
   "source": [
    "phrase2 +\" \"+phrase4"
   ]
  },
  {
   "cell_type": "code",
   "execution_count": 31,
   "id": "54e038ea",
   "metadata": {},
   "outputs": [
    {
     "data": {
      "text/plain": [
       "'Time for a quick nap'"
      ]
     },
     "execution_count": 31,
     "metadata": {},
     "output_type": "execute_result"
    }
   ],
   "source": [
    "phrase2 +\" \"+phrase5"
   ]
  },
  {
   "cell_type": "code",
   "execution_count": 32,
   "id": "dd4d3f4e",
   "metadata": {},
   "outputs": [
    {
     "data": {
      "text/plain": [
       "16"
      ]
     },
     "execution_count": 32,
     "metadata": {},
     "output_type": "execute_result"
    }
   ],
   "source": [
    "len(phrase1 + phrase2)"
   ]
  },
  {
   "cell_type": "code",
   "execution_count": 33,
   "id": "ebbd6527",
   "metadata": {},
   "outputs": [
    {
     "data": {
      "text/plain": [
       "16"
      ]
     },
     "execution_count": 33,
     "metadata": {},
     "output_type": "execute_result"
    }
   ],
   "source": [
    "len(phrase1) + len(phrase2)"
   ]
  },
  {
   "cell_type": "code",
   "execution_count": 34,
   "id": "bb8afe5a",
   "metadata": {},
   "outputs": [
    {
     "data": {
      "text/plain": [
       "6"
      ]
     },
     "execution_count": 34,
     "metadata": {},
     "output_type": "execute_result"
    }
   ],
   "source": [
    "len(phrase1)"
   ]
  },
  {
   "cell_type": "code",
   "execution_count": 35,
   "id": "81cb06cd",
   "metadata": {},
   "outputs": [
    {
     "data": {
      "text/plain": [
       "10"
      ]
     },
     "execution_count": 35,
     "metadata": {},
     "output_type": "execute_result"
    }
   ],
   "source": [
    "len(phrase2)"
   ]
  },
  {
   "cell_type": "code",
   "execution_count": 36,
   "id": "ee011baa",
   "metadata": {
    "scrolled": true
   },
   "outputs": [
    {
     "data": {
      "text/plain": [
       "True"
      ]
     },
     "execution_count": 36,
     "metadata": {},
     "output_type": "execute_result"
    }
   ],
   "source": [
    "len(phrase1 + phrase2) == len(phrase1) + len(phrase2)"
   ]
  },
  {
   "cell_type": "markdown",
   "id": "161df077",
   "metadata": {},
   "source": [
    "The relationship between len(phrase1 + phrase2) and len(phrase1) + len(phrase2) results in the same answer. \n",
    "When using len(phrase1 + phrase2), we first add the phrases together and then count the characters and when using len(phrase1) + len(phrase2) we take the length of each phrase and then add the values together."
   ]
  },
  {
   "cell_type": "markdown",
   "id": "b07b3afb",
   "metadata": {},
   "source": [
    "#### 12. Consider the following two expressions, which have the same value. Which one will typically be more relevant in NLP? Why?"
   ]
  },
  {
   "cell_type": "markdown",
   "id": "b0994f10",
   "metadata": {},
   "source": [
    "a. \"Monty Python\"[6:12]"
   ]
  },
  {
   "cell_type": "code",
   "execution_count": 37,
   "id": "15d063e4",
   "metadata": {},
   "outputs": [
    {
     "data": {
      "text/plain": [
       "'Python'"
      ]
     },
     "execution_count": 37,
     "metadata": {},
     "output_type": "execute_result"
    }
   ],
   "source": [
    "\"Monty Python\"[6:12]"
   ]
  },
  {
   "cell_type": "markdown",
   "id": "aced346d",
   "metadata": {},
   "source": [
    "b. [\"Monty\", \"Python\"][1]"
   ]
  },
  {
   "cell_type": "code",
   "execution_count": 38,
   "id": "029a16c1",
   "metadata": {
    "scrolled": true
   },
   "outputs": [
    {
     "data": {
      "text/plain": [
       "'Python'"
      ]
     },
     "execution_count": 38,
     "metadata": {},
     "output_type": "execute_result"
    }
   ],
   "source": [
    "[\"Monty\", \"Python\"][1]"
   ]
  },
  {
   "cell_type": "markdown",
   "id": "d05d3e3e",
   "metadata": {},
   "source": [
    "Example b. [\"Monty\", \"Python\"][1] is more relevant in NLP as it uses numbers to index entire words. When using slicing, it requires manual intervention to find the correct position of words while indexing provides the word in the position given. When indexing, the first element/word is [0] and in our example [1] is the second word. "
   ]
  },
  {
   "cell_type": "markdown",
   "id": "4a779918",
   "metadata": {},
   "source": [
    "#### 13. We have seen how to represent a sentence as a list of words, where each word is a sequence of characters. What does sent1[2][2] do? Why? Experiment with other index values."
   ]
  },
  {
   "cell_type": "code",
   "execution_count": 39,
   "id": "d0bea079",
   "metadata": {},
   "outputs": [],
   "source": [
    "sent1 = ['Call', 'me', 'Ishmael', '.']"
   ]
  },
  {
   "cell_type": "code",
   "execution_count": 40,
   "id": "cba44062",
   "metadata": {
    "scrolled": true
   },
   "outputs": [
    {
     "data": {
      "text/plain": [
       "'h'"
      ]
     },
     "execution_count": 40,
     "metadata": {},
     "output_type": "execute_result"
    }
   ],
   "source": [
    "sent1[2][2]"
   ]
  },
  {
   "cell_type": "markdown",
   "id": "8ba53351",
   "metadata": {},
   "source": [
    "The index sent1[2][2] begins by looking for the third indexed word, 'Ishmael', and then finding the third letter in the word, 'h'. The second index looks for the third letter is it is only looking at a single word and not a list of words, the first command looks at the list of words. "
   ]
  },
  {
   "cell_type": "code",
   "execution_count": 41,
   "id": "bf2132cc",
   "metadata": {},
   "outputs": [],
   "source": [
    "#experiment, first word and 4th letter"
   ]
  },
  {
   "cell_type": "code",
   "execution_count": 42,
   "id": "7dd1a378",
   "metadata": {},
   "outputs": [
    {
     "data": {
      "text/plain": [
       "'l'"
      ]
     },
     "execution_count": 42,
     "metadata": {},
     "output_type": "execute_result"
    }
   ],
   "source": [
    "sent1[0][3]"
   ]
  },
  {
   "cell_type": "code",
   "execution_count": 43,
   "id": "acd3f4ce",
   "metadata": {},
   "outputs": [
    {
     "data": {
      "text/plain": [
       "'.'"
      ]
     },
     "execution_count": 43,
     "metadata": {},
     "output_type": "execute_result"
    }
   ],
   "source": [
    "#experiment, 4th word and first character\n",
    "sent1[3][0]"
   ]
  },
  {
   "cell_type": "code",
   "execution_count": 44,
   "id": "42faea04",
   "metadata": {},
   "outputs": [
    {
     "data": {
      "text/plain": [
       "'e'"
      ]
     },
     "execution_count": 44,
     "metadata": {},
     "output_type": "execute_result"
    }
   ],
   "source": [
    "#experiment, 3rd word and 6th character character\n",
    "sent1[2][5]"
   ]
  },
  {
   "cell_type": "code",
   "execution_count": 274,
   "id": "e108a38f",
   "metadata": {},
   "outputs": [],
   "source": [
    "#experiment, second word is me and there is no third letter so index is out of range\n",
    "#sent1[1][2]"
   ]
  },
  {
   "cell_type": "markdown",
   "id": "fc83772c",
   "metadata": {},
   "source": [
    "#### 14. The first sentence of text3 is provided to you in the variable sent3. The index of the in sent3 is 1, because sent3[1] gives us 'the'. What are the indexes of the two other occurrences of this word in sent3?"
   ]
  },
  {
   "cell_type": "code",
   "execution_count": 46,
   "id": "ac7827fe",
   "metadata": {
    "scrolled": true
   },
   "outputs": [
    {
     "data": {
      "text/plain": [
       "['In',\n",
       " 'the',\n",
       " 'beginning',\n",
       " 'God',\n",
       " 'created',\n",
       " 'the',\n",
       " 'heaven',\n",
       " 'and',\n",
       " 'the',\n",
       " 'earth',\n",
       " '.']"
      ]
     },
     "execution_count": 46,
     "metadata": {},
     "output_type": "execute_result"
    }
   ],
   "source": [
    "sent3 = ['In', 'the', 'beginning', 'God', 'created', 'the',\n",
    "'heaven', 'and', 'the', 'earth', '.']\n",
    "sent3"
   ]
  },
  {
   "cell_type": "code",
   "execution_count": 47,
   "id": "3bceda06",
   "metadata": {},
   "outputs": [
    {
     "data": {
      "text/plain": [
       "'the'"
      ]
     },
     "execution_count": 47,
     "metadata": {},
     "output_type": "execute_result"
    }
   ],
   "source": [
    "sent3[1]"
   ]
  },
  {
   "cell_type": "code",
   "execution_count": 48,
   "id": "aaa98eba",
   "metadata": {
    "scrolled": false
   },
   "outputs": [
    {
     "data": {
      "text/plain": [
       "['the', 'the', 'the']"
      ]
     },
     "execution_count": 48,
     "metadata": {},
     "output_type": "execute_result"
    }
   ],
   "source": [
    "sorted(w for w in sent3 if w=='the')"
   ]
  },
  {
   "cell_type": "markdown",
   "id": "34f80466",
   "metadata": {},
   "source": [
    "3 occurrences of the word 'the' with first occurence at index [1]"
   ]
  },
  {
   "cell_type": "code",
   "execution_count": 49,
   "id": "fbd9a772",
   "metadata": {
    "scrolled": true
   },
   "outputs": [],
   "source": [
    "index3 = [i for i in range(len(sent3)) if sent3[i] == 'the']"
   ]
  },
  {
   "cell_type": "code",
   "execution_count": 50,
   "id": "c3f45a91",
   "metadata": {},
   "outputs": [
    {
     "name": "stdout",
     "output_type": "stream",
     "text": [
      "The indexes for the word 'the' is in:\n"
     ]
    },
    {
     "data": {
      "text/plain": [
       "[1, 5, 8]"
      ]
     },
     "execution_count": 50,
     "metadata": {},
     "output_type": "execute_result"
    }
   ],
   "source": [
    "print(\"The indexes for the word 'the' is in:\")\n",
    "index3"
   ]
  },
  {
   "cell_type": "markdown",
   "id": "ab0fd285",
   "metadata": {},
   "source": [
    "#### 15. Review the discussion of conditionals in 4. Find all words in the Chat Corpus (text5) starting with the letter b. Show them in alphabetical order."
   ]
  },
  {
   "cell_type": "code",
   "execution_count": 52,
   "id": "270b89e6",
   "metadata": {},
   "outputs": [],
   "source": [
    "letterB = sorted(w for w in set(text5) if w.startswith(\"b\"))"
   ]
  },
  {
   "cell_type": "code",
   "execution_count": 54,
   "id": "ae2a0500",
   "metadata": {},
   "outputs": [
    {
     "name": "stdout",
     "output_type": "stream",
     "text": [
      "In alphabetical order, words in Chat Corpus (text5) starting with the letter 'b':\n"
     ]
    },
    {
     "data": {
      "text/plain": [
       "['b',\n",
       " 'b-day',\n",
       " 'b/c',\n",
       " 'b4',\n",
       " 'babay',\n",
       " 'babble',\n",
       " 'babblein',\n",
       " 'babe',\n",
       " 'babes',\n",
       " 'babi',\n",
       " 'babies',\n",
       " 'babiess',\n",
       " 'baby',\n",
       " 'babycakeses',\n",
       " 'bachelorette',\n",
       " 'back',\n",
       " 'backatchya',\n",
       " 'backfrontsidewaysandallaroundtheworld',\n",
       " 'backroom',\n",
       " 'backup',\n",
       " 'bacl',\n",
       " 'bad',\n",
       " 'bag',\n",
       " 'bagel',\n",
       " 'bagels',\n",
       " 'bahahahaa',\n",
       " 'bak',\n",
       " 'baked',\n",
       " 'balad',\n",
       " 'balance',\n",
       " 'balck',\n",
       " 'ball',\n",
       " 'ballin',\n",
       " 'balls',\n",
       " 'ban',\n",
       " 'band',\n",
       " 'bandito',\n",
       " 'bandsaw',\n",
       " 'banjoes',\n",
       " 'banned',\n",
       " 'baord',\n",
       " 'bar',\n",
       " 'barbie',\n",
       " 'bare',\n",
       " 'barely',\n",
       " 'bares',\n",
       " 'barfights',\n",
       " 'barks',\n",
       " 'barn',\n",
       " 'barrel',\n",
       " 'base',\n",
       " 'bases',\n",
       " 'basically',\n",
       " 'basket',\n",
       " 'battery',\n",
       " 'bay',\n",
       " 'bbbbbyyyyyyyeeeeeeeee',\n",
       " 'bbiam',\n",
       " 'bbl',\n",
       " 'bbs',\n",
       " 'bc',\n",
       " 'be',\n",
       " 'beach',\n",
       " 'beachhhh',\n",
       " 'beam',\n",
       " 'beams',\n",
       " 'beanbag',\n",
       " 'beans',\n",
       " 'bear',\n",
       " 'bears',\n",
       " 'beat',\n",
       " 'beaten',\n",
       " 'beatles',\n",
       " 'beats',\n",
       " 'beattles',\n",
       " 'beautiful',\n",
       " 'because',\n",
       " 'beckley',\n",
       " 'become',\n",
       " 'bed',\n",
       " 'bedford',\n",
       " 'bedroom',\n",
       " 'beeeeehave',\n",
       " 'beeehave',\n",
       " 'been',\n",
       " 'beer',\n",
       " 'before',\n",
       " 'beg',\n",
       " 'begin',\n",
       " 'behave',\n",
       " 'behind',\n",
       " 'bein',\n",
       " 'being',\n",
       " 'beleive',\n",
       " 'believe',\n",
       " 'belive',\n",
       " 'bell',\n",
       " 'belly',\n",
       " 'belong',\n",
       " 'belongings',\n",
       " 'ben',\n",
       " 'bend',\n",
       " 'benz',\n",
       " 'bes',\n",
       " 'beside',\n",
       " 'besides',\n",
       " 'best',\n",
       " 'bet',\n",
       " 'betrayal',\n",
       " 'betta',\n",
       " 'better',\n",
       " 'between',\n",
       " 'beuty',\n",
       " 'bf',\n",
       " 'bi',\n",
       " 'biatch',\n",
       " 'bible',\n",
       " 'biebsa',\n",
       " 'bied',\n",
       " 'big',\n",
       " 'bigest',\n",
       " 'biggest',\n",
       " 'biiiatch',\n",
       " 'bike',\n",
       " 'bikes',\n",
       " 'bikini',\n",
       " 'bio',\n",
       " 'bird',\n",
       " 'birfday',\n",
       " 'birthday',\n",
       " 'bisexual',\n",
       " 'bishes',\n",
       " 'bit',\n",
       " 'bitch',\n",
       " 'bitches',\n",
       " 'bitdh',\n",
       " 'bite',\n",
       " 'bites',\n",
       " 'biyatch',\n",
       " 'biz',\n",
       " 'bj',\n",
       " 'black',\n",
       " 'blade',\n",
       " 'blah',\n",
       " 'blank',\n",
       " 'blankie',\n",
       " 'blazed',\n",
       " 'bleach',\n",
       " 'blech',\n",
       " 'bless',\n",
       " 'blessings',\n",
       " 'blew',\n",
       " 'blind',\n",
       " 'blinks',\n",
       " 'bliss',\n",
       " 'blocking',\n",
       " 'bloe',\n",
       " 'blood',\n",
       " 'blooded',\n",
       " 'bloody',\n",
       " 'blow',\n",
       " 'blowing',\n",
       " 'blowjob',\n",
       " 'blowup',\n",
       " 'blue',\n",
       " 'blueberry',\n",
       " 'bluer',\n",
       " 'blues',\n",
       " 'blunt',\n",
       " 'board',\n",
       " 'bob',\n",
       " 'bodies',\n",
       " 'body',\n",
       " 'boed',\n",
       " 'boght',\n",
       " 'boi',\n",
       " 'boing',\n",
       " 'boinked',\n",
       " 'bois',\n",
       " 'bomb',\n",
       " 'bone',\n",
       " 'boned',\n",
       " 'bones',\n",
       " 'bong',\n",
       " 'boning',\n",
       " 'bonus',\n",
       " 'boo',\n",
       " 'booboo',\n",
       " 'boobs',\n",
       " 'book',\n",
       " 'boom',\n",
       " 'boooooooooooglyyyyyy',\n",
       " 'boost',\n",
       " 'boot',\n",
       " 'bootay',\n",
       " 'booted',\n",
       " 'boots',\n",
       " 'booty',\n",
       " 'border',\n",
       " 'borderline',\n",
       " 'bored',\n",
       " 'boredom',\n",
       " 'boring',\n",
       " 'born',\n",
       " 'born-again',\n",
       " 'bosom',\n",
       " 'boss',\n",
       " 'bossy',\n",
       " 'bot',\n",
       " 'both',\n",
       " 'bother',\n",
       " 'bothering',\n",
       " 'bottle',\n",
       " 'bought',\n",
       " 'bounced',\n",
       " 'bouncer',\n",
       " 'bouncers',\n",
       " 'bound',\n",
       " 'bout',\n",
       " 'bouts',\n",
       " 'bow',\n",
       " 'bowl',\n",
       " 'box',\n",
       " 'boy',\n",
       " 'boyfriend',\n",
       " 'boys',\n",
       " 'bra',\n",
       " 'brad',\n",
       " 'brady',\n",
       " 'brain',\n",
       " 'brakes',\n",
       " 'brass',\n",
       " 'brat',\n",
       " 'brb',\n",
       " 'brbbb',\n",
       " 'bread',\n",
       " 'break',\n",
       " 'breaks',\n",
       " 'breath',\n",
       " 'breathe',\n",
       " 'bred',\n",
       " 'breeding',\n",
       " 'bright',\n",
       " 'brightened',\n",
       " 'bring',\n",
       " 'brings',\n",
       " 'bro',\n",
       " 'broke',\n",
       " 'brooklyn',\n",
       " 'brother',\n",
       " 'brothers',\n",
       " 'brought',\n",
       " 'brown',\n",
       " 'brrrrrrr',\n",
       " 'bruises',\n",
       " 'brunswick',\n",
       " 'brwn',\n",
       " 'btw',\n",
       " 'bucks',\n",
       " 'buddyyyyyy',\n",
       " 'buff',\n",
       " 'buffalo',\n",
       " 'bug',\n",
       " 'bugs',\n",
       " 'buh',\n",
       " 'build',\n",
       " 'builds',\n",
       " 'built',\n",
       " 'bull',\n",
       " 'bulls',\n",
       " 'bum',\n",
       " 'bumber',\n",
       " 'bummer',\n",
       " 'bumped',\n",
       " 'bumper',\n",
       " 'bunch',\n",
       " 'bunny',\n",
       " 'burger',\n",
       " 'burito',\n",
       " 'burned',\n",
       " 'burns',\n",
       " 'burp',\n",
       " 'burpin',\n",
       " 'burps',\n",
       " 'burried',\n",
       " 'burryed',\n",
       " 'bus',\n",
       " 'buses',\n",
       " 'bust',\n",
       " 'busted',\n",
       " 'busy',\n",
       " 'but',\n",
       " 'butt',\n",
       " 'butter',\n",
       " 'butterscotch',\n",
       " 'button',\n",
       " 'buttons',\n",
       " 'buy',\n",
       " 'buying',\n",
       " 'bwahahahahahahahahahaha',\n",
       " 'by',\n",
       " 'byb',\n",
       " 'bye',\n",
       " 'byeee',\n",
       " 'byeeee',\n",
       " 'byeeeeeeee',\n",
       " 'byeeeeeeeeeeeee',\n",
       " 'byes']"
      ]
     },
     "execution_count": 54,
     "metadata": {},
     "output_type": "execute_result"
    }
   ],
   "source": [
    "print(\"In alphabetical order, words in Chat Corpus (text5) starting with the letter 'b':\")\n",
    "letterB"
   ]
  },
  {
   "cell_type": "markdown",
   "id": "bdbc19f7",
   "metadata": {},
   "source": [
    "#### 16. Type the expression list(range(10)) at the interpreter prompt. Now try list(range(10, 20)), list(range(10, 20, 2)), and list(range(20, 10, -2)). We will see a variety of uses for this built-in function in later chapters."
   ]
  },
  {
   "cell_type": "code",
   "execution_count": 55,
   "id": "3790a87a",
   "metadata": {},
   "outputs": [
    {
     "data": {
      "text/plain": [
       "[0, 1, 2, 3, 4, 5, 6, 7, 8, 9]"
      ]
     },
     "execution_count": 55,
     "metadata": {},
     "output_type": "execute_result"
    }
   ],
   "source": [
    "list(range(10))"
   ]
  },
  {
   "cell_type": "code",
   "execution_count": 56,
   "id": "dae079a3",
   "metadata": {},
   "outputs": [
    {
     "data": {
      "text/plain": [
       "[10, 11, 12, 13, 14, 15, 16, 17, 18, 19]"
      ]
     },
     "execution_count": 56,
     "metadata": {},
     "output_type": "execute_result"
    }
   ],
   "source": [
    "list(range(10,20))"
   ]
  },
  {
   "cell_type": "code",
   "execution_count": 57,
   "id": "2d8e3e8c",
   "metadata": {},
   "outputs": [
    {
     "data": {
      "text/plain": [
       "[10, 12, 14, 16, 18]"
      ]
     },
     "execution_count": 57,
     "metadata": {},
     "output_type": "execute_result"
    }
   ],
   "source": [
    "list(range(10,20,2))"
   ]
  },
  {
   "cell_type": "code",
   "execution_count": 59,
   "id": "c1357b29",
   "metadata": {},
   "outputs": [
    {
     "data": {
      "text/plain": [
       "[20, 18, 16, 14, 12]"
      ]
     },
     "execution_count": 59,
     "metadata": {},
     "output_type": "execute_result"
    }
   ],
   "source": [
    "list(range(20,10,-2))"
   ]
  },
  {
   "cell_type": "markdown",
   "id": "579d5f79",
   "metadata": {},
   "source": [
    "#### 17. Use text9.index() to find the index of the word sunset. You'll need to insert this word as an argument between the parentheses. By a process of trial and error, find the slice for the complete sentence that contains this word."
   ]
  },
  {
   "cell_type": "code",
   "execution_count": 60,
   "id": "e2de49aa",
   "metadata": {
    "scrolled": true
   },
   "outputs": [
    {
     "data": {
      "text/plain": [
       "629"
      ]
     },
     "execution_count": 60,
     "metadata": {},
     "output_type": "execute_result"
    }
   ],
   "source": [
    "text9.index('sunset')"
   ]
  },
  {
   "cell_type": "code",
   "execution_count": 66,
   "id": "bfd9bbd8",
   "metadata": {
    "scrolled": true
   },
   "outputs": [
    {
     "data": {
      "text/plain": [
       "['PARK',\n",
       " 'THE',\n",
       " 'suburb',\n",
       " 'of',\n",
       " 'Saffron',\n",
       " 'Park',\n",
       " 'lay',\n",
       " 'on',\n",
       " 'the',\n",
       " 'sunset',\n",
       " 'side',\n",
       " 'of',\n",
       " 'London',\n",
       " ',',\n",
       " 'as',\n",
       " 'red',\n",
       " 'and',\n",
       " 'ragged',\n",
       " 'as',\n",
       " 'a']"
      ]
     },
     "execution_count": 66,
     "metadata": {},
     "output_type": "execute_result"
    }
   ],
   "source": [
    "text9[620:640]"
   ]
  },
  {
   "cell_type": "code",
   "execution_count": 68,
   "id": "e6e8ae88",
   "metadata": {},
   "outputs": [
    {
     "data": {
      "text/plain": [
       "['.',\n",
       " 'C',\n",
       " '.',\n",
       " 'CHAPTER',\n",
       " 'I',\n",
       " 'THE',\n",
       " 'TWO',\n",
       " 'POETS',\n",
       " 'OF',\n",
       " 'SAFFRON',\n",
       " 'PARK',\n",
       " 'THE',\n",
       " 'suburb',\n",
       " 'of',\n",
       " 'Saffron',\n",
       " 'Park',\n",
       " 'lay',\n",
       " 'on',\n",
       " 'the',\n",
       " 'sunset',\n",
       " 'side',\n",
       " 'of',\n",
       " 'London',\n",
       " ',',\n",
       " 'as',\n",
       " 'red',\n",
       " 'and',\n",
       " 'ragged',\n",
       " 'as',\n",
       " 'a',\n",
       " 'cloud',\n",
       " 'of',\n",
       " 'sunset',\n",
       " '.',\n",
       " 'It']"
      ]
     },
     "execution_count": 68,
     "metadata": {},
     "output_type": "execute_result"
    }
   ],
   "source": [
    "text9[610:645]"
   ]
  },
  {
   "cell_type": "code",
   "execution_count": 77,
   "id": "7c0b72fe",
   "metadata": {},
   "outputs": [
    {
     "name": "stdout",
     "output_type": "stream",
     "text": [
      "['THE', 'suburb', 'of', 'Saffron', 'Park', 'lay', 'on', 'the', 'sunset', 'side', 'of', 'London', ',', 'as', 'red', 'and', 'ragged', 'as', 'a', 'cloud', 'of', 'sunset', '.']\n"
     ]
    }
   ],
   "source": [
    "flat9 = text9[621:644]\n",
    "print(flat9)"
   ]
  },
  {
   "cell_type": "code",
   "execution_count": 80,
   "id": "bbad1ba3",
   "metadata": {},
   "outputs": [
    {
     "data": {
      "text/plain": [
       "'THE suburb of Saffron Park lay on the sunset side of London , as red and ragged as a cloud of sunset .'"
      ]
     },
     "execution_count": 80,
     "metadata": {},
     "output_type": "execute_result"
    }
   ],
   "source": [
    "# join the flattened list of words\n",
    "' '.join(flat9)"
   ]
  },
  {
   "cell_type": "markdown",
   "id": "d0657586",
   "metadata": {},
   "source": [
    "#### 18. Using list addition, and the set and sorted operations, compute the vocabulary of the sentences sent1 ... sent8."
   ]
  },
  {
   "cell_type": "code",
   "execution_count": 95,
   "id": "2133f39f",
   "metadata": {
    "scrolled": true
   },
   "outputs": [
    {
     "name": "stdout",
     "output_type": "stream",
     "text": [
      "['!', ',', '-', '.', '1', '25', '29', '61', ':', 'ARTHUR', 'Call', 'Citizens', 'Dashwood', 'Fellow', 'God', 'House', 'I', 'In', 'Ishmael', 'JOIN', 'KING', 'MALE', 'Nov.', 'PMing', 'Pierre', 'Representatives', 'SCENE', 'SEXY', 'Senate', 'Sussex', 'The', 'Vinken', 'Whoa', '[', ']', 'a', 'and', 'as', 'attrac', 'been', 'beginning', 'board', 'clop', 'created', 'director', 'discreet', 'earth', 'encounters', 'family', 'for', 'had', 'have', 'heaven', 'in', 'join', 'lady', 'lol', 'long', 'me', 'nonexecutive', 'of', 'old', 'older', 'people', 'problem', 'seeks', 'settled', 'single', 'the', 'there', 'to', 'will', 'wind', 'with', 'years']\n"
     ]
    }
   ],
   "source": [
    "nlp18 = sorted(set(sent1 + sent2 + sent3 + sent4 + sent5 + sent6 + sent7 + sent8))\n",
    "print(nlp18)"
   ]
  },
  {
   "cell_type": "code",
   "execution_count": 112,
   "id": "7e5c5310",
   "metadata": {},
   "outputs": [
    {
     "data": {
      "text/plain": [
       "75"
      ]
     },
     "execution_count": 112,
     "metadata": {},
     "output_type": "execute_result"
    }
   ],
   "source": [
    "len(nlp18)"
   ]
  },
  {
   "cell_type": "markdown",
   "id": "9ecc2681",
   "metadata": {},
   "source": [
    "#### 19. What is the difference between the following two lines? Which one will give a larger value? Will this be the case for other texts?"
   ]
  },
  {
   "cell_type": "code",
   "execution_count": null,
   "id": "f38ffa07",
   "metadata": {},
   "outputs": [],
   "source": [
    "#>>> sorted(set(w.lower() for w in text1))\n",
    "#>>> sorted(w.lower() for w in set(text1))"
   ]
  },
  {
   "cell_type": "code",
   "execution_count": 108,
   "id": "d912f8ad",
   "metadata": {},
   "outputs": [],
   "source": [
    "sort1 = sorted(set(w.lower() for w in text1))"
   ]
  },
  {
   "cell_type": "code",
   "execution_count": 109,
   "id": "8803e785",
   "metadata": {},
   "outputs": [
    {
     "data": {
      "text/plain": [
       "17231"
      ]
     },
     "execution_count": 109,
     "metadata": {},
     "output_type": "execute_result"
    }
   ],
   "source": [
    "len(sort1)"
   ]
  },
  {
   "cell_type": "code",
   "execution_count": 110,
   "id": "aca1c259",
   "metadata": {},
   "outputs": [],
   "source": [
    "sort2 = sorted(w.lower() for w in set(text1))"
   ]
  },
  {
   "cell_type": "code",
   "execution_count": 111,
   "id": "5b8e50df",
   "metadata": {},
   "outputs": [
    {
     "data": {
      "text/plain": [
       "19317"
      ]
     },
     "execution_count": 111,
     "metadata": {},
     "output_type": "execute_result"
    }
   ],
   "source": [
    "len(sort2)"
   ]
  },
  {
   "cell_type": "markdown",
   "id": "bfaf7897",
   "metadata": {},
   "source": [
    "The second line gives the larger value. The first line makes a set with the words lowercase and then sorts, so it eliminates duplicates with case taken into account. The second line makes a set without factoring in case so it will include duplicates. This will be the case for any other texts as well. "
   ]
  },
  {
   "cell_type": "markdown",
   "id": "bf7b84e9",
   "metadata": {},
   "source": [
    "#### 20. What is the difference between the following two tests: w.isupper() and not w.islower()?"
   ]
  },
  {
   "cell_type": "code",
   "execution_count": 118,
   "id": "c089885e",
   "metadata": {},
   "outputs": [],
   "source": [
    "wupper = [w for w in text1 if w.isupper()]"
   ]
  },
  {
   "cell_type": "code",
   "execution_count": 132,
   "id": "2f8a91c0",
   "metadata": {},
   "outputs": [
    {
     "name": "stdout",
     "output_type": "stream",
     "text": [
      "['ETYMOLOGY', 'I', 'H', 'HACKLUYT', 'WHALE', 'HVAL', 'HVALT', 'WEBSTER', 'S', 'DICTIONARY', 'WHALE', 'WALLEN', 'A', 'S', 'WALW', 'IAN', 'RICHARDSON', 'S', 'DICTIONARY', 'KETOS', 'GREEK', 'CETUS', 'LATIN', 'WHOEL', 'ANGLO', 'SAXON', 'HVALT', 'DANISH', 'WAL', 'DUTCH', 'HWAL', 'SWEDISH', 'WHALE', 'ICELANDIC', 'WHALE', 'ENGLISH', 'BALEINE', 'FRENCH', 'BALLENA', 'SPANISH', 'PEKEE', 'NUEE', 'NUEE', 'FEGEE', 'PEKEE', 'NUEE', 'NUEE', 'ERROMANGOAN', 'EXTRACTS', 'I', 'I', 'EXTRACTS', 'GENESIS', 'JOB', 'JONAH', 'PSALMS', 'ISAIAH', 'HOLLAND', 'S', 'PLUTARCH', 'S', 'MORALS', 'HOLLAND', 'S', 'PLINY', 'TOOKE', 'S', 'LUCIAN', 'THE', 'TRUE', 'HISTORY', 'OTHER', 'OR', 'OCTHER', 'S', 'VERBAL', 'NARRATIVE', 'TAKEN', 'DOWN', 'FROM', 'HIS', 'MOUTH', 'BY', 'KING', 'ALFRED', 'A', 'D', 'MONTAIGNE', 'APOLOGY', 'FOR', 'RAIMOND', 'SEBOND', 'RABELAIS', 'STOWE', 'S', 'ANNALS', 'LORD', 'BACON', 'S', 'VERSION']\n"
     ]
    }
   ],
   "source": [
    "print(wupper[:100])"
   ]
  },
  {
   "cell_type": "code",
   "execution_count": 123,
   "id": "dfb6740f",
   "metadata": {},
   "outputs": [
    {
     "data": {
      "text/plain": [
       "4083"
      ]
     },
     "execution_count": 123,
     "metadata": {},
     "output_type": "execute_result"
    }
   ],
   "source": [
    "len(wupper)"
   ]
  },
  {
   "cell_type": "code",
   "execution_count": 124,
   "id": "701f1efa",
   "metadata": {},
   "outputs": [],
   "source": [
    "nislower = [w for w in text1 if not w.islower()]"
   ]
  },
  {
   "cell_type": "code",
   "execution_count": 131,
   "id": "9fd3233e",
   "metadata": {},
   "outputs": [
    {
     "name": "stdout",
     "output_type": "stream",
     "text": [
      "['[', 'Moby', 'Dick', 'Herman', 'Melville', '1851', ']', 'ETYMOLOGY', '.', '(', 'Supplied', 'Late', 'Consumptive', 'Usher', 'Grammar', 'School', ')', 'The', 'Usher', '--', ',', ',', ',', ';', 'I']\n"
     ]
    }
   ],
   "source": [
    "print(nislower[:25])"
   ]
  },
  {
   "cell_type": "code",
   "execution_count": 126,
   "id": "cf0c7da4",
   "metadata": {},
   "outputs": [
    {
     "data": {
      "text/plain": [
       "62579"
      ]
     },
     "execution_count": 126,
     "metadata": {},
     "output_type": "execute_result"
    }
   ],
   "source": [
    "len(nislower)"
   ]
  },
  {
   "cell_type": "markdown",
   "id": "af2069c7",
   "metadata": {},
   "source": [
    "The output for not w.islower() is larger than the output for w.isupper(). The isupper output returns upper case words only while the not islower output includes words that begin with a capital letter and punctuations. "
   ]
  },
  {
   "cell_type": "markdown",
   "id": "bc75c4a1",
   "metadata": {},
   "source": [
    "#### 21. Write the slice expression that extracts the last two words of text2."
   ]
  },
  {
   "cell_type": "code",
   "execution_count": 133,
   "id": "66eb583a",
   "metadata": {},
   "outputs": [
    {
     "data": {
      "text/plain": [
       "141576"
      ]
     },
     "execution_count": 133,
     "metadata": {},
     "output_type": "execute_result"
    }
   ],
   "source": [
    "len(text2)"
   ]
  },
  {
   "cell_type": "code",
   "execution_count": 134,
   "id": "5742b733",
   "metadata": {},
   "outputs": [
    {
     "data": {
      "text/plain": [
       "['THE', 'END']"
      ]
     },
     "execution_count": 134,
     "metadata": {},
     "output_type": "execute_result"
    }
   ],
   "source": [
    "text2[-2:]"
   ]
  },
  {
   "cell_type": "code",
   "execution_count": 139,
   "id": "cacbafc1",
   "metadata": {
    "scrolled": true
   },
   "outputs": [
    {
     "data": {
      "text/plain": [
       "['THE', 'END']"
      ]
     },
     "execution_count": 139,
     "metadata": {},
     "output_type": "execute_result"
    }
   ],
   "source": [
    "text2[141574:]"
   ]
  },
  {
   "cell_type": "markdown",
   "id": "04b853d7",
   "metadata": {},
   "source": [
    "#### 22. Find all the four-letter words in the Chat Corpus (text5). With the help of a frequency distribution (FreqDist), show these words in decreasing order of frequency."
   ]
  },
  {
   "cell_type": "code",
   "execution_count": 224,
   "id": "5c232120",
   "metadata": {},
   "outputs": [
    {
     "name": "stdout",
     "output_type": "stream",
     "text": [
      "{'felt', 'show', 'ally', 'lust', 'whoo', 'deep', 'care', 'poor', 'only', 'lies', 'thru', 'bomb', 'lol.', 'tthe', 'uyes', 'give', 'dick', 'spin', 'sets', 'mins', 'rest', '39.3', 'tiff', 'ring', 'byes', 'done', 'look', 'beer', '4:03', 'benz', 'bite', 'sits', 'tyvm', 'gift', 'rubs', 'grea', 'wild', 'yell', 'slip', 'u819', 'rich', 'liam', 'hall', 'guyz', 'addy', 'yeah', 'fake', 'u989', 'woah', 'wooo', 'flaw', 'soup', 'awww', 'toke', 'goes', 'army', 'u111', 'ball', 'poot', 'ohhh', 'rush', 'nice', 'land', 'chik', 'ways', 'bred', 'hero', 'tick', 'dyed', ',,,,', 'case', 'hell', 'must', 'u120', 'seee', 'babi', 'true', 'giva', 'woof', 'gret', 'make', 'what', 'plan', 'ssri', 'hand', 'mama', 'site', 'says', 'cams', 'hook', 'ahem', 'deal', 'grrr', 'gees', 'ello', 'fool', 'yeas', 'feel', 'u105', 'u117', 'crop', 'ther', 'dman', '3:45', 'piff', 'drop', 'vote', 'waaa', 'gray', 'typr', 'oops', 'pain', 'name', 'xmas', 'quiz', 'joey', 'cell', 'mami', 'sock', 'blue', 'lost', 'prep', 'spit', 'tisk', 'crap', 'want', 'york', '<~~~', 'stay', 'junk', 'puke', 'thot', \"<3's\", 'u100', 'dust', 'boom', 'amen', 'bell', 'u143', 'bull', 'sore', 'bone', 'thnx', 'type', 'cant', \"yw's\", 'wish', 'dies', 'kina', 'sori', 'u190', 'noth', 'drew', 'tock', 'u542', 'heee', 'toes', 'draw', 'miss', 'over', 'damn', 'swim', 'mkay', 'cash', 'blah', 'u106', 'aunt', 'este', 'rain', 'acid', 'yes.', 'join', 'porn', 'made', 'hurr', 'very', 'tina', 'wher', 'docs', 'evah', 'clap', 'form', 'past', 'here', 'jane', 'club', 'eggs', 'mame', 'wont', 'face', 'scar', 'kick', 'wack', 'whud', 'kent', 'room', 'dumb', 'jush', '####', 'news', 'went', 'whys', 'gags', 'nope', 'dang', 'heat', 'jack', 'whip', 'doin', 'pass', 'bend', 'ltnc', 'vvil', 'hide', 'golf', 'mark', 'lazy', 'post', 'tooo', 'luvs', 'clay', 'text', 'gear', 'part', 'outa', 'hooo', 'sat.', 'allo', 'kmph', '64.8', 'hump', 'toop', 'grew', 'into', 'dint', 'road', 'lake', 'whew', 'mode', 'gawd', 'ntmn', 'wide', 'eric', 'town', 'akon', 'sips', 'boyz', 'open', 'u102', 'judy', 'u169', 'more', 'dear', 'hmmm', 'mris', 'sext', 'love', 'vbox', 'roll', 'lisa', 'know', 'fair', 'mono', \"ok'd\", 'ebay', 'nuff', 'goin', 'rick', 'ahah', 'babe', 'main', 'sexy', 'work', 'oooh', 'said', 'tere', 'corn', 'bout', 'nude', 'woot', 'u138', 'list', 'soon', 'self', 'dump', 'spat', 'just', 'sick', 'shot', 'than', 'chop', 'this', 'newp', 'kong', 'jude', 'flow', 'bowl', '98.6', 'nite', 'sort', '6:38', 'lady', 'chip', 'tide', ':o *', 'doll', 'hott', 'matt', 'cali', 'u133', 'lool', 'shop', 'u116', 'pray', 'bein', 'outs', 'anti', 'four', 'tail', 'rose', 'yoll', 'weed', 'typo', 'slow', 'tend', 'crib', 'paul', 'push', 'hogs', '1.98', 'wats', '1200', 'mang', 'phil', 'root', 'nawt', 'guns', 'runs', 'waht', '; ..', '9:10', 'soft', 'east', 'eats', 'asks', 'city', 'dont', 'home', 'mean', 'nada', 'fuck', 'ooer', 'lung', 'ogan', 'u130', 'syck', '\"...', 'save', 'well', 'ctrl', 'sigh', 'when', 'nerd', 'read', 'most', 'muah', 'u114', 'wyte', 'pull', 'grin', 'aime', 'hour', 'holy', 'back', 'u128', '7:45', 'baby', 'last', 'pigs', 'hill', 'near', 'hong', 'idea', 'tenn', 'card', 'ladz', 'free', 'whoa', 'wine', 'gimp', 'page', 'word', 'dogs', 'born', 'vega', 'laid', 'hiya', 'aint', 'burp', 'lmao', 'toss', 'trip', 'yeee', 'jeff', 'side', 'shit', 'twin', 'male', 'brat', 'meet', 'team', 'bacl', 'ruth', 'half', 'humm', 'u113', 'rofl', 'much', 'till', 'tape', 'nods', 'http', \"pm's\", 'once', 'each', 'busy', 'rape', 'akdt', 'rock', 'pair', 'bloe', 'smax', 'hots', '98.5', 'o.k.', '!???', 'full', 'then', 'five', 'u820', 'vamp', 'next', 'u121', '!!!.', \"rn's\", 'body', 'wins', 'hits', 'whou', 'maps', 'calm', 'wire', 'heal', 'live', 'buff', 'brwn', 'fine', 'ussy', 'brad', 'roof', 'sexs', 'boot', '9.53', 'seen', 'u170', 'hawt', 'cock', '1.99', 'yesh', 'pure', 'dawn', 'slam', 'suck', 'xbox', 'cute', 'mass', 'dark', 'ohio', 'loud', 'tall', 'u181', 'pics', 'were', 'mena', 'meep', 'tlak', 'plow', 'sing', 'temp', 'cuss', 'john', 'vent', 'fits', 'u129', '.. .', 'argh', '....', 'comp', '1985', \"it's\", 'area', 'cool', 'yoko', 'have', 'luck', 'duet', 'orta', 'late', 'dude', '!...', 'nova', 'disc', 'givs', 'barn', 'u136', 'wait', 'troy', '<<<<', 'u148', 'wood', 'come', 'u150', 'dork', 'u141', 'rang', '??!!', 'bust', 'fish', 'tits', 'deaf', 'n9ne', 'best', 'take', 'good', 'coat', 'u196', 'out.', 'walk', 'u119', 'none', 'sooo', 'door', 'beat', 'u144', 'puff', 'skin', 'tune', 'u115', 'imma', 'u145', 'tips', '2006', '.op.', 'coem', 'anal', 'lick', 'able', 'long', 'that', 'mauh', 'drug', 'fort', 'jerk', 'cyas', 'okay', 'turn', 'time', '1930', 'u154', '????', 'herd', 'mine', 'fast', 'mess', 'ltns', 'lyin', 'cops', 'also', 'sink', 'pope', 'wazz', 'elev', 'date', 'grlz', 'ouch', 'eyes', 'boys', 'u158', 'lala', 'yard', 'u103', 'wash', 'knee', 'pwns', 'pour', 'ssid', 'febe', 'ride', '18st', 'lois', 'asss', 'wrap', 'glad', 'hugs', 'hola', 'ghet', 'kewl', 'surf', 'any1', 'urls', 'else', 'lime', 'hint', 'king', 'arms', 'guys', 'u107', 'ears', 'both', 'pool', 'call', 'kold', 'joke', 'u156', 'ohwa', 'ruff', 'line', 'deop', '1299', 'twit', 'ques', 'meds', 'limp', '<---', 'hiii', \"pm'n\", 'haze', 'mahn', 'nads', 'away', 'reub', 'hehe', 'fade', 'sure', 'hazy', 'knew', 'bird', 'told', 'cars', 'boed', 'gals', 'moon', 'quit', 'menu', 'haha', 'keys', 'wind', 'blow', 'teck', 'real', 'paid', 'life', 'alot', 'uhhh', 'many', 'adds', 'girl', 'fear', 'bong', 'ever', 'howz', 'isnt', 'sign', 'fart', 'used', 'pies', 'poll', 'nawp', 'u122', 'spot', 'hiom', 'nooo', 'pine', 'size', 'u988', 'pork', 'seat', 'zone', 'wubs', 'heyy', '45.5', 'food', 'salt', 'jeep', 'kill', 'easy', 'sexi', 'prob', 'yada', 'u172', 'u149', 'some', 'took', 'orgy', 'choc', 'safe', '6:41', 'yout', 'raed', 'nick', 'them', 'bike', 'ugly', 'came', 'term', 'u163', 'u175', '2pac', 'hgey', 'shup', 'with', 'lets', 'caps', 't he', '6:51', 'does', 'wrek', 'kind', 'week', 'slap', 'lots', 'foot', 'wean', \"ex's\", 'whos', 'been', 'sayn', 'dotn', 'chit', 'even', 'left', 'lube', 'same', 'ahhh', 'rent', 'mmmm', 'guts', 'otay', 'dood', 'gold', '((((', 'exit', 'cook', 'feat', 'bear', 'they', 'pick', 'down', 'boss', '?!?!', 'gooo', 'akst', 'lord', 'sang', 'werd', 'ewww', 'u132', 'eeww', 'dojn', 'lawl', 'hope', 'clue', 'hank', '100%', 'u147', 'okey', '1996', 'u520', 'yess', 'soul', 'pink', 'abou', 'cums', 'gone', 'samn', '>:->', 'mofo', 'seem', 'hail', 'goof', 'west', 'rats', 'hair', 'kept', 'u109', '2:55', 'mary', 'serg', 'pmsl', 'fock', '<333', 'hard', 'u126', '4.20', 'ding', 'hear', 'chat', 'u168', 'geez', 'u153', 'frst', 'elle', 'wear', 'tell', 'your', 'cost', 'puts', 'opps', 'tjhe', 'daft', 'u139', 'test', 'jess', 'wore', 'nana', 'hick', 'hmph', 'game', 'ribs', 'stop', 'pimp', 'u164', 'dead', 'gays', 'z-ro', 'poop', 'bare', 'lose', 'shut', 'iowa', 'like', 'haaa', 'nose', 'huge', 'high', 'heck', 'span', 'howl', 'scum', 'from', 'dirt', 'wuts', 'grrl', 'sand', 'u137', 'u146', 'meat', 'halo', '1cos', 'u123', 'head', 'hate', 'ummm', 'inch', 'hurt', 'tory', 'help', 'scuk', 'cmon', 'worl', 'feet', 'ages', 'kiss', 'sent', 'send', 'u165', 'cast', 'cepn', 'u104', 'lame', 'offa', 'firs', 'u142', 'moms', 'kids', 'u101', 'days', 'caan', 'jail', 'ciao', 'died', 'bugs', 'soda', 'snow', 'move', 'cold', 'play', 'neck', 'will', 'poof', 'idnt', 'heys', 'peel', 'u112', 'plus', 'sean', '1900', 'enuf', 'base', '6:53', 'need', 'warm', 'beam', 'legs', 'u155', 'evil', 'butt', 'mike', '1980', 'thje', 'u108', 'fire', 'shes', 'mind', 'icky', 'band', 'itch', 'hang', 'book', 'pfft', 'perv', 'wana', '10th', '2day', 'poem', 'yawn', 'gets', 'find', 'such', 'park', 'eeek', 'year', 'yall', 'wife', 'cure', 'u118', 'star', 'lapd', 'thah', 'jump', 'numb', 'uses', 'caca', 'perk', 'seth', 'ones', 'dawg', 'bois', 'bied', '))))', 'sell', 'lion', 'wall', 'u134', 'owww', 'hows', 'peek', 'gosh', 'rule', 'tart', 'blew', 'talk', 'song', 'loss', 'fawk', 'lead', 'sum1', 'kool', 'note', 'pasa', 'u219', 'mite', 'heya', 'fall', 'u110', 'hold', 'u197', 'keep', '!!!!', 'prof'}\n"
     ]
    }
   ],
   "source": [
    "#Find all the four-letter words in the Chat Corpus (text5)\n",
    "fourL = set([word.lower() for word in text5 if len(word) == 4])\n",
    "print(fourL)"
   ]
  },
  {
   "cell_type": "code",
   "execution_count": 225,
   "id": "673390f8",
   "metadata": {},
   "outputs": [],
   "source": [
    "#create frequency distribution of 4 letter words\n",
    "flwDist = FreqDist(fourL)"
   ]
  },
  {
   "cell_type": "code",
   "execution_count": 226,
   "id": "9f3c81d6",
   "metadata": {},
   "outputs": [],
   "source": [
    "#reverse key, value pairs to sort descending order\n",
    "reversed_pairs = [(v, k) for k, v in flwDist.items()]"
   ]
  },
  {
   "cell_type": "code",
   "execution_count": 227,
   "id": "5c96ba15",
   "metadata": {},
   "outputs": [
    {
     "data": {
      "text/plain": [
       "[(1, 'zone'),\n",
       " (1, 'z-ro'),\n",
       " (1, \"yw's\"),\n",
       " (1, 'yout'),\n",
       " (1, 'your'),\n",
       " (1, 'york'),\n",
       " (1, 'yoll'),\n",
       " (1, 'yoko'),\n",
       " (1, 'yess'),\n",
       " (1, 'yesh'),\n",
       " (1, 'yes.'),\n",
       " (1, 'yell'),\n",
       " (1, 'yeee'),\n",
       " (1, 'yeas'),\n",
       " (1, 'year'),\n",
       " (1, 'yeah'),\n",
       " (1, 'yawn'),\n",
       " (1, 'yard'),\n",
       " (1, 'yall'),\n",
       " (1, 'yada'),\n",
       " (1, 'xmas'),\n",
       " (1, 'xbox'),\n",
       " (1, 'wyte'),\n",
       " (1, 'wuts'),\n",
       " (1, 'wubs'),\n",
       " (1, 'wrek'),\n",
       " (1, 'wrap'),\n",
       " (1, 'worl'),\n",
       " (1, 'work'),\n",
       " (1, 'wore'),\n",
       " (1, 'word'),\n",
       " (1, 'woot'),\n",
       " (1, 'wooo'),\n",
       " (1, 'woof'),\n",
       " (1, 'wood'),\n",
       " (1, 'wont'),\n",
       " (1, 'woah'),\n",
       " (1, 'with'),\n",
       " (1, 'wish'),\n",
       " (1, 'wire'),\n",
       " (1, 'wins'),\n",
       " (1, 'wine'),\n",
       " (1, 'wind'),\n",
       " (1, 'will'),\n",
       " (1, 'wild'),\n",
       " (1, 'wife'),\n",
       " (1, 'wide'),\n",
       " (1, 'whys'),\n",
       " (1, 'whud'),\n",
       " (1, 'whou'),\n",
       " (1, 'whos'),\n",
       " (1, 'whoo'),\n",
       " (1, 'whoa'),\n",
       " (1, 'whip'),\n",
       " (1, 'whew'),\n",
       " (1, 'wher'),\n",
       " (1, 'when'),\n",
       " (1, 'what'),\n",
       " (1, 'west'),\n",
       " (1, 'were'),\n",
       " (1, 'werd'),\n",
       " (1, 'went'),\n",
       " (1, 'well'),\n",
       " (1, 'week'),\n",
       " (1, 'weed'),\n",
       " (1, 'wear'),\n",
       " (1, 'wean'),\n",
       " (1, 'wazz'),\n",
       " (1, 'ways'),\n",
       " (1, 'wats'),\n",
       " (1, 'wash'),\n",
       " (1, 'warm'),\n",
       " (1, 'want'),\n",
       " (1, 'wana'),\n",
       " (1, 'wall'),\n",
       " (1, 'walk'),\n",
       " (1, 'wait'),\n",
       " (1, 'waht'),\n",
       " (1, 'wack'),\n",
       " (1, 'waaa'),\n",
       " (1, 'vvil'),\n",
       " (1, 'vote'),\n",
       " (1, 'very'),\n",
       " (1, 'vent'),\n",
       " (1, 'vega'),\n",
       " (1, 'vbox'),\n",
       " (1, 'vamp'),\n",
       " (1, 'uyes'),\n",
       " (1, 'ussy'),\n",
       " (1, 'uses'),\n",
       " (1, 'used'),\n",
       " (1, 'urls'),\n",
       " (1, 'ummm'),\n",
       " (1, 'uhhh'),\n",
       " (1, 'ugly'),\n",
       " (1, 'u989'),\n",
       " (1, 'u988'),\n",
       " (1, 'u820'),\n",
       " (1, 'u819'),\n",
       " (1, 'u542'),\n",
       " (1, 'u520'),\n",
       " (1, 'u219'),\n",
       " (1, 'u197'),\n",
       " (1, 'u196'),\n",
       " (1, 'u190'),\n",
       " (1, 'u181'),\n",
       " (1, 'u175'),\n",
       " (1, 'u172'),\n",
       " (1, 'u170'),\n",
       " (1, 'u169'),\n",
       " (1, 'u168'),\n",
       " (1, 'u165'),\n",
       " (1, 'u164'),\n",
       " (1, 'u163'),\n",
       " (1, 'u158'),\n",
       " (1, 'u156'),\n",
       " (1, 'u155'),\n",
       " (1, 'u154'),\n",
       " (1, 'u153'),\n",
       " (1, 'u150'),\n",
       " (1, 'u149'),\n",
       " (1, 'u148'),\n",
       " (1, 'u147'),\n",
       " (1, 'u146'),\n",
       " (1, 'u145'),\n",
       " (1, 'u144'),\n",
       " (1, 'u143'),\n",
       " (1, 'u142'),\n",
       " (1, 'u141'),\n",
       " (1, 'u139'),\n",
       " (1, 'u138'),\n",
       " (1, 'u137'),\n",
       " (1, 'u136'),\n",
       " (1, 'u134'),\n",
       " (1, 'u133'),\n",
       " (1, 'u132'),\n",
       " (1, 'u130'),\n",
       " (1, 'u129'),\n",
       " (1, 'u128'),\n",
       " (1, 'u126'),\n",
       " (1, 'u123'),\n",
       " (1, 'u122'),\n",
       " (1, 'u121'),\n",
       " (1, 'u120'),\n",
       " (1, 'u119'),\n",
       " (1, 'u118'),\n",
       " (1, 'u117'),\n",
       " (1, 'u116'),\n",
       " (1, 'u115'),\n",
       " (1, 'u114'),\n",
       " (1, 'u113'),\n",
       " (1, 'u112'),\n",
       " (1, 'u111'),\n",
       " (1, 'u110'),\n",
       " (1, 'u109'),\n",
       " (1, 'u108'),\n",
       " (1, 'u107'),\n",
       " (1, 'u106'),\n",
       " (1, 'u105'),\n",
       " (1, 'u104'),\n",
       " (1, 'u103'),\n",
       " (1, 'u102'),\n",
       " (1, 'u101'),\n",
       " (1, 'u100'),\n",
       " (1, 'tyvm'),\n",
       " (1, 'typr'),\n",
       " (1, 'typo'),\n",
       " (1, 'type'),\n",
       " (1, 'twit'),\n",
       " (1, 'twin'),\n",
       " (1, 'turn'),\n",
       " (1, 'tune'),\n",
       " (1, 'tthe'),\n",
       " (1, 'true'),\n",
       " (1, 'troy'),\n",
       " (1, 'trip'),\n",
       " (1, 'town'),\n",
       " (1, 'toss'),\n",
       " (1, 'tory'),\n",
       " (1, 'toop'),\n",
       " (1, 'tooo'),\n",
       " (1, 'took'),\n",
       " (1, 'told'),\n",
       " (1, 'toke'),\n",
       " (1, 'toes'),\n",
       " (1, 'tock'),\n",
       " (1, 'tlak'),\n",
       " (1, 'tjhe'),\n",
       " (1, 'tits'),\n",
       " (1, 'tisk'),\n",
       " (1, 'tips'),\n",
       " (1, 'tina'),\n",
       " (1, 'time'),\n",
       " (1, 'till'),\n",
       " (1, 'tiff'),\n",
       " (1, 'tide'),\n",
       " (1, 'tick'),\n",
       " (1, 'thru'),\n",
       " (1, 'thot'),\n",
       " (1, 'thnx'),\n",
       " (1, 'thje'),\n",
       " (1, 'this'),\n",
       " (1, 'they'),\n",
       " (1, 'ther'),\n",
       " (1, 'then'),\n",
       " (1, 'them'),\n",
       " (1, 'that'),\n",
       " (1, 'than'),\n",
       " (1, 'thah'),\n",
       " (1, 'text'),\n",
       " (1, 'test'),\n",
       " (1, 'term'),\n",
       " (1, 'tere'),\n",
       " (1, 'tenn'),\n",
       " (1, 'tend'),\n",
       " (1, 'temp'),\n",
       " (1, 'tell'),\n",
       " (1, 'teck'),\n",
       " (1, 'team'),\n",
       " (1, 'tart'),\n",
       " (1, 'tape'),\n",
       " (1, 'tall'),\n",
       " (1, 'talk'),\n",
       " (1, 'take'),\n",
       " (1, 'tail'),\n",
       " (1, 't he'),\n",
       " (1, 'syck'),\n",
       " (1, 'swim'),\n",
       " (1, 'surf'),\n",
       " (1, 'sure'),\n",
       " (1, 'sum1'),\n",
       " (1, 'suck'),\n",
       " (1, 'such'),\n",
       " (1, 'stop'),\n",
       " (1, 'stay'),\n",
       " (1, 'star'),\n",
       " (1, 'ssri'),\n",
       " (1, 'ssid'),\n",
       " (1, 'spot'),\n",
       " (1, 'spit'),\n",
       " (1, 'spin'),\n",
       " (1, 'spat'),\n",
       " (1, 'span'),\n",
       " (1, 'soup'),\n",
       " (1, 'soul'),\n",
       " (1, 'sort'),\n",
       " (1, 'sori'),\n",
       " (1, 'sore'),\n",
       " (1, 'sooo'),\n",
       " (1, 'soon'),\n",
       " (1, 'song'),\n",
       " (1, 'some'),\n",
       " (1, 'soft'),\n",
       " (1, 'soda'),\n",
       " (1, 'sock'),\n",
       " (1, 'snow'),\n",
       " (1, 'smax'),\n",
       " (1, 'slow'),\n",
       " (1, 'slip'),\n",
       " (1, 'slap'),\n",
       " (1, 'slam'),\n",
       " (1, 'skin'),\n",
       " (1, 'size'),\n",
       " (1, 'sits'),\n",
       " (1, 'site'),\n",
       " (1, 'sips'),\n",
       " (1, 'sink'),\n",
       " (1, 'sing'),\n",
       " (1, 'sign'),\n",
       " (1, 'sigh'),\n",
       " (1, 'side'),\n",
       " (1, 'sick'),\n",
       " (1, 'shut'),\n",
       " (1, 'shup'),\n",
       " (1, 'show'),\n",
       " (1, 'shot'),\n",
       " (1, 'shop'),\n",
       " (1, 'shit'),\n",
       " (1, 'shes'),\n",
       " (1, 'sexy'),\n",
       " (1, 'sext'),\n",
       " (1, 'sexs'),\n",
       " (1, 'sexi'),\n",
       " (1, 'sets'),\n",
       " (1, 'seth'),\n",
       " (1, 'serg'),\n",
       " (1, 'sent'),\n",
       " (1, 'send'),\n",
       " (1, 'sell'),\n",
       " (1, 'self'),\n",
       " (1, 'seen'),\n",
       " (1, 'seem'),\n",
       " (1, 'seee'),\n",
       " (1, 'seat'),\n",
       " (1, 'sean'),\n",
       " (1, 'scum'),\n",
       " (1, 'scuk'),\n",
       " (1, 'scar'),\n",
       " (1, 'says'),\n",
       " (1, 'sayn'),\n",
       " (1, 'save'),\n",
       " (1, 'sat.'),\n",
       " (1, 'sang'),\n",
       " (1, 'sand'),\n",
       " (1, 'samn'),\n",
       " (1, 'same'),\n",
       " (1, 'salt'),\n",
       " (1, 'said'),\n",
       " (1, 'safe'),\n",
       " (1, 'ruth'),\n",
       " (1, 'rush'),\n",
       " (1, 'runs'),\n",
       " (1, 'rule'),\n",
       " (1, 'ruff'),\n",
       " (1, 'rubs'),\n",
       " (1, 'rose'),\n",
       " (1, 'root'),\n",
       " (1, 'room'),\n",
       " (1, 'roof'),\n",
       " (1, 'roll'),\n",
       " (1, 'rofl'),\n",
       " (1, 'rock'),\n",
       " (1, 'road'),\n",
       " (1, \"rn's\"),\n",
       " (1, 'ring'),\n",
       " (1, 'ride'),\n",
       " (1, 'rick'),\n",
       " (1, 'rich'),\n",
       " (1, 'ribs'),\n",
       " (1, 'reub'),\n",
       " (1, 'rest'),\n",
       " (1, 'rent'),\n",
       " (1, 'real'),\n",
       " (1, 'read'),\n",
       " (1, 'rats'),\n",
       " (1, 'rape'),\n",
       " (1, 'rang'),\n",
       " (1, 'rain'),\n",
       " (1, 'raed'),\n",
       " (1, 'quiz'),\n",
       " (1, 'quit'),\n",
       " (1, 'ques'),\n",
       " (1, 'pwns'),\n",
       " (1, 'puts'),\n",
       " (1, 'push'),\n",
       " (1, 'pure'),\n",
       " (1, 'pull'),\n",
       " (1, 'puke'),\n",
       " (1, 'puff'),\n",
       " (1, 'prof'),\n",
       " (1, 'prob'),\n",
       " (1, 'prep'),\n",
       " (1, 'pray'),\n",
       " (1, 'pour'),\n",
       " (1, 'post'),\n",
       " (1, 'porn'),\n",
       " (1, 'pork'),\n",
       " (1, 'pope'),\n",
       " (1, 'poot'),\n",
       " (1, 'poor'),\n",
       " (1, 'poop'),\n",
       " (1, 'pool'),\n",
       " (1, 'poof'),\n",
       " (1, 'poll'),\n",
       " (1, 'poem'),\n",
       " (1, 'pmsl'),\n",
       " (1, \"pm's\"),\n",
       " (1, \"pm'n\"),\n",
       " (1, 'plus'),\n",
       " (1, 'plow'),\n",
       " (1, 'play'),\n",
       " (1, 'plan'),\n",
       " (1, 'pink'),\n",
       " (1, 'pine'),\n",
       " (1, 'pimp'),\n",
       " (1, 'pigs'),\n",
       " (1, 'piff'),\n",
       " (1, 'pies'),\n",
       " (1, 'pics'),\n",
       " (1, 'pick'),\n",
       " (1, 'phil'),\n",
       " (1, 'pfft'),\n",
       " (1, 'perv'),\n",
       " (1, 'perk'),\n",
       " (1, 'peel'),\n",
       " (1, 'peek'),\n",
       " (1, 'paul'),\n",
       " (1, 'past'),\n",
       " (1, 'pass'),\n",
       " (1, 'pasa'),\n",
       " (1, 'part'),\n",
       " (1, 'park'),\n",
       " (1, 'pair'),\n",
       " (1, 'pain'),\n",
       " (1, 'paid'),\n",
       " (1, 'page'),\n",
       " (1, 'owww'),\n",
       " (1, 'over'),\n",
       " (1, 'outs'),\n",
       " (1, 'outa'),\n",
       " (1, 'out.'),\n",
       " (1, 'ouch'),\n",
       " (1, 'otay'),\n",
       " (1, 'orta'),\n",
       " (1, 'orgy'),\n",
       " (1, 'opps'),\n",
       " (1, 'open'),\n",
       " (1, 'oops'),\n",
       " (1, 'oooh'),\n",
       " (1, 'ooer'),\n",
       " (1, 'only'),\n",
       " (1, 'ones'),\n",
       " (1, 'once'),\n",
       " (1, 'okey'),\n",
       " (1, 'okay'),\n",
       " (1, \"ok'd\"),\n",
       " (1, 'ohwa'),\n",
       " (1, 'ohio'),\n",
       " (1, 'ohhh'),\n",
       " (1, 'ogan'),\n",
       " (1, 'offa'),\n",
       " (1, 'o.k.'),\n",
       " (1, 'numb'),\n",
       " (1, 'nuff'),\n",
       " (1, 'nude'),\n",
       " (1, 'ntmn'),\n",
       " (1, 'nova'),\n",
       " (1, 'noth'),\n",
       " (1, 'note'),\n",
       " (1, 'nose'),\n",
       " (1, 'nope'),\n",
       " (1, 'nooo'),\n",
       " (1, 'none'),\n",
       " (1, 'nods'),\n",
       " (1, 'nite'),\n",
       " (1, 'nick'),\n",
       " (1, 'nice'),\n",
       " (1, 'next'),\n",
       " (1, 'news'),\n",
       " (1, 'newp'),\n",
       " (1, 'nerd'),\n",
       " (1, 'need'),\n",
       " (1, 'neck'),\n",
       " (1, 'near'),\n",
       " (1, 'nawt'),\n",
       " (1, 'nawp'),\n",
       " (1, 'nana'),\n",
       " (1, 'name'),\n",
       " (1, 'nads'),\n",
       " (1, 'nada'),\n",
       " (1, 'n9ne'),\n",
       " (1, 'must'),\n",
       " (1, 'much'),\n",
       " (1, 'muah'),\n",
       " (1, 'mris'),\n",
       " (1, 'move'),\n",
       " (1, 'most'),\n",
       " (1, 'more'),\n",
       " (1, 'moon'),\n",
       " (1, 'mono'),\n",
       " (1, 'moms'),\n",
       " (1, 'mofo'),\n",
       " (1, 'mode'),\n",
       " (1, 'mmmm'),\n",
       " (1, 'mkay'),\n",
       " (1, 'mite'),\n",
       " (1, 'miss'),\n",
       " (1, 'mins'),\n",
       " (1, 'mine'),\n",
       " (1, 'mind'),\n",
       " (1, 'mike'),\n",
       " (1, 'mess'),\n",
       " (1, 'menu'),\n",
       " (1, 'mena'),\n",
       " (1, 'meet'),\n",
       " (1, 'meep'),\n",
       " (1, 'meds'),\n",
       " (1, 'meat'),\n",
       " (1, 'mean'),\n",
       " (1, 'mauh'),\n",
       " (1, 'matt'),\n",
       " (1, 'mass'),\n",
       " (1, 'mary'),\n",
       " (1, 'mark'),\n",
       " (1, 'maps'),\n",
       " (1, 'many'),\n",
       " (1, 'mang'),\n",
       " (1, 'mami'),\n",
       " (1, 'mame'),\n",
       " (1, 'mama'),\n",
       " (1, 'male'),\n",
       " (1, 'make'),\n",
       " (1, 'main'),\n",
       " (1, 'mahn'),\n",
       " (1, 'made'),\n",
       " (1, 'lyin'),\n",
       " (1, 'luvs'),\n",
       " (1, 'lust'),\n",
       " (1, 'lung'),\n",
       " (1, 'luck'),\n",
       " (1, 'lube'),\n",
       " (1, 'ltns'),\n",
       " (1, 'ltnc'),\n",
       " (1, 'love'),\n",
       " (1, 'loud'),\n",
       " (1, 'lots'),\n",
       " (1, 'lost'),\n",
       " (1, 'loss'),\n",
       " (1, 'lose'),\n",
       " (1, 'lord'),\n",
       " (1, 'lool'),\n",
       " (1, 'look'),\n",
       " (1, 'long'),\n",
       " (1, 'lol.'),\n",
       " (1, 'lois'),\n",
       " (1, 'lmao'),\n",
       " (1, 'live'),\n",
       " (1, 'list'),\n",
       " (1, 'lisa'),\n",
       " (1, 'lion'),\n",
       " (1, 'line'),\n",
       " (1, 'limp'),\n",
       " (1, 'lime'),\n",
       " (1, 'like'),\n",
       " (1, 'life'),\n",
       " (1, 'lies'),\n",
       " (1, 'lick'),\n",
       " (1, 'liam'),\n",
       " (1, 'lets'),\n",
       " (1, 'legs'),\n",
       " (1, 'left'),\n",
       " (1, 'lead'),\n",
       " (1, 'lazy'),\n",
       " (1, 'lawl'),\n",
       " (1, 'late'),\n",
       " (1, 'last'),\n",
       " (1, 'lapd'),\n",
       " (1, 'land'),\n",
       " (1, 'lame'),\n",
       " (1, 'lala'),\n",
       " (1, 'lake'),\n",
       " (1, 'laid'),\n",
       " (1, 'ladz'),\n",
       " (1, 'lady'),\n",
       " (1, 'kool'),\n",
       " (1, 'kong'),\n",
       " (1, 'kold'),\n",
       " (1, 'know'),\n",
       " (1, 'knew'),\n",
       " (1, 'knee'),\n",
       " (1, 'kmph'),\n",
       " (1, 'kiss'),\n",
       " (1, 'king'),\n",
       " (1, 'kind'),\n",
       " (1, 'kina'),\n",
       " (1, 'kill'),\n",
       " (1, 'kids'),\n",
       " (1, 'kick'),\n",
       " (1, 'keys'),\n",
       " (1, 'kewl'),\n",
       " (1, 'kept'),\n",
       " (1, 'kent'),\n",
       " (1, 'keep'),\n",
       " (1, 'just'),\n",
       " (1, 'jush'),\n",
       " (1, 'junk'),\n",
       " (1, 'jump'),\n",
       " (1, 'judy'),\n",
       " (1, 'jude'),\n",
       " (1, 'joke'),\n",
       " (1, 'join'),\n",
       " (1, 'john'),\n",
       " (1, 'joey'),\n",
       " (1, 'jess'),\n",
       " (1, 'jerk'),\n",
       " (1, 'jeff'),\n",
       " (1, 'jeep'),\n",
       " (1, 'jane'),\n",
       " (1, 'jail'),\n",
       " (1, 'jack'),\n",
       " (1, 'itch'),\n",
       " (1, \"it's\"),\n",
       " (1, 'isnt'),\n",
       " (1, 'iowa'),\n",
       " (1, 'into'),\n",
       " (1, 'inch'),\n",
       " (1, 'imma'),\n",
       " (1, 'idnt'),\n",
       " (1, 'idea'),\n",
       " (1, 'icky'),\n",
       " (1, 'hurt'),\n",
       " (1, 'hurr'),\n",
       " (1, 'hump'),\n",
       " (1, 'humm'),\n",
       " (1, 'hugs'),\n",
       " (1, 'huge'),\n",
       " (1, 'http'),\n",
       " (1, 'howz'),\n",
       " (1, 'hows'),\n",
       " (1, 'howl'),\n",
       " (1, 'hour'),\n",
       " (1, 'hott'),\n",
       " (1, 'hots'),\n",
       " (1, 'hope'),\n",
       " (1, 'hooo'),\n",
       " (1, 'hook'),\n",
       " (1, 'hong'),\n",
       " (1, 'home'),\n",
       " (1, 'holy'),\n",
       " (1, 'hold'),\n",
       " (1, 'hola'),\n",
       " (1, 'hogs'),\n",
       " (1, 'hmph'),\n",
       " (1, 'hmmm'),\n",
       " (1, 'hiya'),\n",
       " (1, 'hits'),\n",
       " (1, 'hiom'),\n",
       " (1, 'hint'),\n",
       " (1, 'hill'),\n",
       " (1, 'hiii'),\n",
       " (1, 'high'),\n",
       " (1, 'hide'),\n",
       " (1, 'hick'),\n",
       " (1, 'hgey'),\n",
       " (1, 'heyy'),\n",
       " (1, 'heys'),\n",
       " (1, 'heya'),\n",
       " (1, 'hero'),\n",
       " (1, 'here'),\n",
       " (1, 'herd'),\n",
       " (1, 'help'),\n",
       " (1, 'hell'),\n",
       " (1, 'hehe'),\n",
       " (1, 'heee'),\n",
       " (1, 'heck'),\n",
       " (1, 'heat'),\n",
       " (1, 'hear'),\n",
       " (1, 'heal'),\n",
       " (1, 'head'),\n",
       " (1, 'hazy'),\n",
       " (1, 'haze'),\n",
       " (1, 'hawt'),\n",
       " (1, 'have'),\n",
       " (1, 'hate'),\n",
       " (1, 'hard'),\n",
       " (1, 'hank'),\n",
       " (1, 'hang'),\n",
       " (1, 'hand'),\n",
       " (1, 'halo'),\n",
       " (1, 'hall'),\n",
       " (1, 'half'),\n",
       " (1, 'hair'),\n",
       " (1, 'hail'),\n",
       " (1, 'haha'),\n",
       " (1, 'haaa'),\n",
       " (1, 'guyz'),\n",
       " (1, 'guys'),\n",
       " (1, 'guts'),\n",
       " (1, 'guns'),\n",
       " (1, 'grrr'),\n",
       " (1, 'grrl'),\n",
       " (1, 'grlz'),\n",
       " (1, 'grin'),\n",
       " (1, 'grew'),\n",
       " (1, 'gret'),\n",
       " (1, 'grea'),\n",
       " (1, 'gray'),\n",
       " (1, 'gosh'),\n",
       " (1, 'gooo'),\n",
       " (1, 'goof'),\n",
       " (1, 'good'),\n",
       " (1, 'gone'),\n",
       " (1, 'golf'),\n",
       " (1, 'gold'),\n",
       " (1, 'goin'),\n",
       " (1, 'goes'),\n",
       " (1, 'glad'),\n",
       " (1, 'givs'),\n",
       " (1, 'give'),\n",
       " (1, 'giva'),\n",
       " (1, 'girl'),\n",
       " (1, 'gimp'),\n",
       " (1, 'gift'),\n",
       " (1, 'ghet'),\n",
       " (1, 'gets'),\n",
       " (1, 'geez'),\n",
       " (1, 'gees'),\n",
       " (1, 'gear'),\n",
       " (1, 'gays'),\n",
       " (1, 'gawd'),\n",
       " (1, 'game'),\n",
       " (1, 'gals'),\n",
       " (1, 'gags'),\n",
       " (1, 'full'),\n",
       " (1, 'fuck'),\n",
       " (1, 'frst'),\n",
       " (1, 'from'),\n",
       " (1, 'free'),\n",
       " (1, 'four'),\n",
       " (1, 'fort'),\n",
       " (1, 'form'),\n",
       " (1, 'foot'),\n",
       " (1, 'fool'),\n",
       " (1, 'food'),\n",
       " (1, 'fock'),\n",
       " (1, 'flow'),\n",
       " (1, 'flaw'),\n",
       " (1, 'five'),\n",
       " (1, 'fits'),\n",
       " (1, 'fish'),\n",
       " (1, 'firs'),\n",
       " (1, 'fire'),\n",
       " (1, 'fine'),\n",
       " (1, 'find'),\n",
       " (1, 'felt'),\n",
       " (1, 'feet'),\n",
       " (1, 'feel'),\n",
       " (1, 'febe'),\n",
       " (1, 'feat'),\n",
       " (1, 'fear'),\n",
       " (1, 'fawk'),\n",
       " (1, 'fast'),\n",
       " (1, 'fart'),\n",
       " (1, 'fall'),\n",
       " (1, 'fake'),\n",
       " (1, 'fair'),\n",
       " (1, 'fade'),\n",
       " (1, 'face'),\n",
       " (1, 'eyes'),\n",
       " (1, 'exit'),\n",
       " (1, \"ex's\"),\n",
       " (1, 'ewww'),\n",
       " (1, 'evil'),\n",
       " (1, 'ever'),\n",
       " (1, 'even'),\n",
       " (1, 'evah'),\n",
       " (1, 'este'),\n",
       " (1, 'eric'),\n",
       " (1, 'enuf'),\n",
       " (1, 'else'),\n",
       " (1, 'ello'),\n",
       " (1, 'elle'),\n",
       " (1, 'elev'),\n",
       " (1, 'eggs'),\n",
       " (1, 'eeww'),\n",
       " (1, 'eeek'),\n",
       " (1, 'ebay'),\n",
       " (1, 'eats'),\n",
       " (1, 'easy'),\n",
       " (1, 'east'),\n",
       " (1, 'ears'),\n",
       " (1, 'each'),\n",
       " (1, 'dyed'),\n",
       " (1, 'dust'),\n",
       " (1, 'dump'),\n",
       " (1, 'dumb'),\n",
       " (1, 'duet'),\n",
       " (1, 'dude'),\n",
       " (1, 'drug'),\n",
       " (1, 'drop'),\n",
       " (1, 'drew'),\n",
       " (1, 'draw'),\n",
       " (1, 'down'),\n",
       " (1, 'dotn'),\n",
       " (1, 'dork'),\n",
       " (1, 'door'),\n",
       " (1, 'dood'),\n",
       " (1, 'dont'),\n",
       " (1, 'done'),\n",
       " (1, 'doll'),\n",
       " (1, 'dojn'),\n",
       " (1, 'doin'),\n",
       " (1, 'dogs'),\n",
       " (1, 'does'),\n",
       " (1, 'docs'),\n",
       " (1, 'dman'),\n",
       " (1, 'disc'),\n",
       " (1, 'dirt'),\n",
       " (1, 'dint'),\n",
       " (1, 'ding'),\n",
       " (1, 'dies'),\n",
       " (1, 'died'),\n",
       " (1, 'dick'),\n",
       " (1, 'deop'),\n",
       " (1, 'deep'),\n",
       " (1, 'dear'),\n",
       " (1, 'deal'),\n",
       " (1, 'deaf'),\n",
       " (1, 'dead'),\n",
       " (1, 'days'),\n",
       " (1, 'dawn'),\n",
       " (1, 'dawg'),\n",
       " (1, 'date'),\n",
       " (1, 'dark'),\n",
       " (1, 'dang'),\n",
       " (1, 'damn'),\n",
       " (1, 'daft'),\n",
       " (1, 'cyas'),\n",
       " (1, 'cute'),\n",
       " (1, 'cuss'),\n",
       " (1, 'cure'),\n",
       " (1, 'cums'),\n",
       " (1, 'ctrl'),\n",
       " (1, 'crop'),\n",
       " (1, 'crib'),\n",
       " (1, 'crap'),\n",
       " (1, 'cost'),\n",
       " (1, 'corn'),\n",
       " (1, 'cops'),\n",
       " (1, 'cool'),\n",
       " (1, 'cook'),\n",
       " (1, 'comp'),\n",
       " (1, 'come'),\n",
       " (1, 'cold'),\n",
       " (1, 'coem'),\n",
       " (1, 'cock'),\n",
       " (1, 'coat'),\n",
       " (1, 'cmon'),\n",
       " (1, 'clue'),\n",
       " (1, 'club'),\n",
       " (1, 'clay'),\n",
       " (1, 'clap'),\n",
       " (1, 'city'),\n",
       " (1, 'ciao'),\n",
       " (1, 'chop'),\n",
       " (1, 'choc'),\n",
       " (1, 'chit'),\n",
       " (1, 'chip'),\n",
       " (1, 'chik'),\n",
       " (1, 'chat'),\n",
       " (1, 'cepn'),\n",
       " (1, 'cell'),\n",
       " (1, 'cast'),\n",
       " (1, 'cash'),\n",
       " (1, 'case'),\n",
       " (1, 'cars'),\n",
       " (1, 'care'),\n",
       " (1, 'card'),\n",
       " (1, 'caps'),\n",
       " (1, 'cant'),\n",
       " (1, 'cams'),\n",
       " (1, 'came'),\n",
       " (1, 'calm'),\n",
       " (1, 'call'),\n",
       " (1, 'cali'),\n",
       " (1, 'caca'),\n",
       " (1, 'caan'),\n",
       " (1, 'byes'),\n",
       " (1, 'butt'),\n",
       " (1, 'busy'),\n",
       " (1, 'bust'),\n",
       " (1, 'burp'),\n",
       " (1, 'bull'),\n",
       " (1, 'bugs'),\n",
       " (1, 'buff'),\n",
       " (1, 'brwn'),\n",
       " (1, 'bred'),\n",
       " (1, 'brat'),\n",
       " (1, 'brad'),\n",
       " (1, 'boyz'),\n",
       " (1, 'boys'),\n",
       " (1, 'bowl'),\n",
       " (1, 'bout'),\n",
       " (1, 'both'),\n",
       " (1, 'boss'),\n",
       " (1, 'born'),\n",
       " (1, 'boot'),\n",
       " (1, 'boom'),\n",
       " (1, 'book'),\n",
       " (1, 'bong'),\n",
       " (1, 'bone'),\n",
       " (1, 'bomb'),\n",
       " (1, 'bois'),\n",
       " (1, 'boed'),\n",
       " (1, 'body'),\n",
       " (1, 'blue'),\n",
       " (1, 'blow'),\n",
       " (1, 'bloe'),\n",
       " (1, 'blew'),\n",
       " (1, 'blah'),\n",
       " (1, 'bite'),\n",
       " (1, 'bird'),\n",
       " (1, 'bike'),\n",
       " (1, 'bied'),\n",
       " (1, 'best'),\n",
       " (1, 'benz'),\n",
       " (1, 'bend'),\n",
       " (1, 'bell'),\n",
       " (1, 'bein'),\n",
       " (1, 'beer'),\n",
       " (1, 'been'),\n",
       " (1, 'beat'),\n",
       " (1, 'bear'),\n",
       " (1, 'beam'),\n",
       " (1, 'base'),\n",
       " (1, 'barn'),\n",
       " (1, 'bare'),\n",
       " (1, 'band'),\n",
       " (1, 'ball'),\n",
       " (1, 'bacl'),\n",
       " (1, 'back'),\n",
       " (1, 'baby'),\n",
       " (1, 'babi'),\n",
       " (1, 'babe'),\n",
       " (1, 'awww'),\n",
       " (1, 'away'),\n",
       " (1, 'aunt'),\n",
       " (1, 'asss'),\n",
       " (1, 'asks'),\n",
       " (1, 'army'),\n",
       " (1, 'arms'),\n",
       " (1, 'argh'),\n",
       " (1, 'area'),\n",
       " (1, 'any1'),\n",
       " (1, 'anti'),\n",
       " (1, 'anal'),\n",
       " (1, 'amen'),\n",
       " (1, 'also'),\n",
       " (1, 'alot'),\n",
       " (1, 'ally'),\n",
       " (1, 'allo'),\n",
       " (1, 'akst'),\n",
       " (1, 'akon'),\n",
       " (1, 'akdt'),\n",
       " (1, 'aint'),\n",
       " (1, 'aime'),\n",
       " (1, 'ahhh'),\n",
       " (1, 'ahem'),\n",
       " (1, 'ahah'),\n",
       " (1, 'ages'),\n",
       " (1, 'addy'),\n",
       " (1, 'adds'),\n",
       " (1, 'acid'),\n",
       " (1, 'abou'),\n",
       " (1, 'able'),\n",
       " (1, '????'),\n",
       " (1, '??!!'),\n",
       " (1, '?!?!'),\n",
       " (1, '>:->'),\n",
       " (1, '<~~~'),\n",
       " (1, '<<<<'),\n",
       " (1, '<333'),\n",
       " (1, \"<3's\"),\n",
       " (1, '<---'),\n",
       " (1, '; ..'),\n",
       " (1, ':o *'),\n",
       " (1, '9:10'),\n",
       " (1, '98.6'),\n",
       " (1, '98.5'),\n",
       " (1, '9.53'),\n",
       " (1, '7:45'),\n",
       " (1, '6:53'),\n",
       " (1, '6:51'),\n",
       " (1, '6:41'),\n",
       " (1, '6:38'),\n",
       " (1, '64.8'),\n",
       " (1, '4:03'),\n",
       " (1, '45.5'),\n",
       " (1, '4.20'),\n",
       " (1, '3:45'),\n",
       " (1, '39.3'),\n",
       " (1, '2pac'),\n",
       " (1, '2day'),\n",
       " (1, '2:55'),\n",
       " (1, '2006'),\n",
       " (1, '1cos'),\n",
       " (1, '1996'),\n",
       " (1, '1985'),\n",
       " (1, '1980'),\n",
       " (1, '1930'),\n",
       " (1, '1900'),\n",
       " (1, '18st'),\n",
       " (1, '1299'),\n",
       " (1, '1200'),\n",
       " (1, '10th'),\n",
       " (1, '100%'),\n",
       " (1, '1.99'),\n",
       " (1, '1.98'),\n",
       " (1, '.op.'),\n",
       " (1, '....'),\n",
       " (1, '.. .'),\n",
       " (1, ',,,,'),\n",
       " (1, '))))'),\n",
       " (1, '(((('),\n",
       " (1, '####'),\n",
       " (1, '\"...'),\n",
       " (1, '!???'),\n",
       " (1, '!...'),\n",
       " (1, '!!!.'),\n",
       " (1, '!!!!')]"
      ]
     },
     "execution_count": 227,
     "metadata": {},
     "output_type": "execute_result"
    }
   ],
   "source": [
    "list(reversed(sorted(reversed_pairs)))"
   ]
  },
  {
   "cell_type": "code",
   "execution_count": 228,
   "id": "1b0d2310",
   "metadata": {
    "scrolled": false
   },
   "outputs": [
    {
     "name": "stdout",
     "output_type": "stream",
     "text": [
      "[(1, 'zone'), (1, 'z-ro'), (1, \"yw's\"), (1, 'yout'), (1, 'your'), (1, 'york'), (1, 'yoll'), (1, 'yoko'), (1, 'yess'), (1, 'yesh'), (1, 'yes.'), (1, 'yell'), (1, 'yeee'), (1, 'yeas'), (1, 'year'), (1, 'yeah'), (1, 'yawn'), (1, 'yard'), (1, 'yall'), (1, 'yada'), (1, 'xmas'), (1, 'xbox'), (1, 'wyte'), (1, 'wuts'), (1, 'wubs'), (1, 'wrek'), (1, 'wrap'), (1, 'worl'), (1, 'work'), (1, 'wore'), (1, 'word'), (1, 'woot'), (1, 'wooo'), (1, 'woof'), (1, 'wood'), (1, 'wont'), (1, 'woah'), (1, 'with'), (1, 'wish'), (1, 'wire'), (1, 'wins'), (1, 'wine'), (1, 'wind'), (1, 'will'), (1, 'wild'), (1, 'wife'), (1, 'wide'), (1, 'whys'), (1, 'whud'), (1, 'whou'), (1, 'whos'), (1, 'whoo'), (1, 'whoa'), (1, 'whip'), (1, 'whew'), (1, 'wher'), (1, 'when'), (1, 'what'), (1, 'west'), (1, 'were'), (1, 'werd'), (1, 'went'), (1, 'well'), (1, 'week'), (1, 'weed'), (1, 'wear'), (1, 'wean'), (1, 'wazz'), (1, 'ways'), (1, 'wats'), (1, 'wash'), (1, 'warm'), (1, 'want'), (1, 'wana'), (1, 'wall'), (1, 'walk'), (1, 'wait'), (1, 'waht'), (1, 'wack'), (1, 'waaa'), (1, 'vvil'), (1, 'vote'), (1, 'very'), (1, 'vent'), (1, 'vega'), (1, 'vbox'), (1, 'vamp'), (1, 'uyes'), (1, 'ussy'), (1, 'uses'), (1, 'used'), (1, 'urls'), (1, 'ummm'), (1, 'uhhh'), (1, 'ugly'), (1, 'u989'), (1, 'u988'), (1, 'u820'), (1, 'u819'), (1, 'u542'), (1, 'u520'), (1, 'u219'), (1, 'u197'), (1, 'u196'), (1, 'u190'), (1, 'u181'), (1, 'u175'), (1, 'u172'), (1, 'u170'), (1, 'u169'), (1, 'u168'), (1, 'u165'), (1, 'u164'), (1, 'u163'), (1, 'u158'), (1, 'u156'), (1, 'u155'), (1, 'u154'), (1, 'u153'), (1, 'u150'), (1, 'u149'), (1, 'u148'), (1, 'u147'), (1, 'u146'), (1, 'u145'), (1, 'u144'), (1, 'u143'), (1, 'u142'), (1, 'u141'), (1, 'u139'), (1, 'u138'), (1, 'u137'), (1, 'u136'), (1, 'u134'), (1, 'u133'), (1, 'u132'), (1, 'u130'), (1, 'u129'), (1, 'u128'), (1, 'u126'), (1, 'u123'), (1, 'u122'), (1, 'u121'), (1, 'u120'), (1, 'u119'), (1, 'u118'), (1, 'u117'), (1, 'u116'), (1, 'u115'), (1, 'u114'), (1, 'u113'), (1, 'u112'), (1, 'u111'), (1, 'u110'), (1, 'u109'), (1, 'u108'), (1, 'u107'), (1, 'u106'), (1, 'u105'), (1, 'u104'), (1, 'u103'), (1, 'u102'), (1, 'u101'), (1, 'u100'), (1, 'tyvm'), (1, 'typr'), (1, 'typo'), (1, 'type'), (1, 'twit'), (1, 'twin'), (1, 'turn'), (1, 'tune'), (1, 'tthe'), (1, 'true'), (1, 'troy'), (1, 'trip'), (1, 'town'), (1, 'toss'), (1, 'tory'), (1, 'toop'), (1, 'tooo'), (1, 'took'), (1, 'told'), (1, 'toke'), (1, 'toes'), (1, 'tock'), (1, 'tlak'), (1, 'tjhe'), (1, 'tits'), (1, 'tisk'), (1, 'tips'), (1, 'tina'), (1, 'time'), (1, 'till'), (1, 'tiff'), (1, 'tide'), (1, 'tick'), (1, 'thru'), (1, 'thot'), (1, 'thnx'), (1, 'thje'), (1, 'this'), (1, 'they'), (1, 'ther'), (1, 'then'), (1, 'them'), (1, 'that'), (1, 'than'), (1, 'thah'), (1, 'text'), (1, 'test'), (1, 'term'), (1, 'tere'), (1, 'tenn'), (1, 'tend'), (1, 'temp'), (1, 'tell'), (1, 'teck'), (1, 'team'), (1, 'tart'), (1, 'tape'), (1, 'tall'), (1, 'talk'), (1, 'take'), (1, 'tail'), (1, 't he'), (1, 'syck'), (1, 'swim'), (1, 'surf'), (1, 'sure'), (1, 'sum1'), (1, 'suck'), (1, 'such'), (1, 'stop'), (1, 'stay'), (1, 'star'), (1, 'ssri'), (1, 'ssid'), (1, 'spot'), (1, 'spit'), (1, 'spin'), (1, 'spat'), (1, 'span'), (1, 'soup'), (1, 'soul'), (1, 'sort'), (1, 'sori'), (1, 'sore'), (1, 'sooo'), (1, 'soon'), (1, 'song'), (1, 'some'), (1, 'soft'), (1, 'soda'), (1, 'sock'), (1, 'snow'), (1, 'smax'), (1, 'slow'), (1, 'slip'), (1, 'slap'), (1, 'slam'), (1, 'skin'), (1, 'size'), (1, 'sits'), (1, 'site'), (1, 'sips'), (1, 'sink'), (1, 'sing'), (1, 'sign'), (1, 'sigh'), (1, 'side'), (1, 'sick'), (1, 'shut'), (1, 'shup'), (1, 'show'), (1, 'shot'), (1, 'shop'), (1, 'shit'), (1, 'shes'), (1, 'sexy'), (1, 'sext'), (1, 'sexs'), (1, 'sexi'), (1, 'sets'), (1, 'seth'), (1, 'serg'), (1, 'sent'), (1, 'send'), (1, 'sell'), (1, 'self'), (1, 'seen'), (1, 'seem'), (1, 'seee'), (1, 'seat'), (1, 'sean'), (1, 'scum'), (1, 'scuk'), (1, 'scar'), (1, 'says'), (1, 'sayn'), (1, 'save'), (1, 'sat.'), (1, 'sang'), (1, 'sand'), (1, 'samn'), (1, 'same'), (1, 'salt'), (1, 'said'), (1, 'safe'), (1, 'ruth'), (1, 'rush'), (1, 'runs'), (1, 'rule'), (1, 'ruff'), (1, 'rubs'), (1, 'rose'), (1, 'root'), (1, 'room'), (1, 'roof'), (1, 'roll'), (1, 'rofl'), (1, 'rock'), (1, 'road'), (1, \"rn's\"), (1, 'ring'), (1, 'ride'), (1, 'rick'), (1, 'rich'), (1, 'ribs'), (1, 'reub'), (1, 'rest'), (1, 'rent'), (1, 'real'), (1, 'read'), (1, 'rats'), (1, 'rape'), (1, 'rang'), (1, 'rain'), (1, 'raed'), (1, 'quiz'), (1, 'quit'), (1, 'ques'), (1, 'pwns'), (1, 'puts'), (1, 'push'), (1, 'pure'), (1, 'pull'), (1, 'puke'), (1, 'puff'), (1, 'prof'), (1, 'prob'), (1, 'prep'), (1, 'pray'), (1, 'pour'), (1, 'post'), (1, 'porn'), (1, 'pork'), (1, 'pope'), (1, 'poot'), (1, 'poor'), (1, 'poop'), (1, 'pool'), (1, 'poof'), (1, 'poll'), (1, 'poem'), (1, 'pmsl'), (1, \"pm's\"), (1, \"pm'n\"), (1, 'plus'), (1, 'plow'), (1, 'play'), (1, 'plan'), (1, 'pink'), (1, 'pine'), (1, 'pimp'), (1, 'pigs'), (1, 'piff'), (1, 'pies'), (1, 'pics'), (1, 'pick'), (1, 'phil'), (1, 'pfft'), (1, 'perv'), (1, 'perk'), (1, 'peel'), (1, 'peek'), (1, 'paul'), (1, 'past'), (1, 'pass'), (1, 'pasa'), (1, 'part'), (1, 'park'), (1, 'pair'), (1, 'pain'), (1, 'paid'), (1, 'page'), (1, 'owww'), (1, 'over'), (1, 'outs'), (1, 'outa'), (1, 'out.'), (1, 'ouch'), (1, 'otay'), (1, 'orta'), (1, 'orgy'), (1, 'opps'), (1, 'open'), (1, 'oops'), (1, 'oooh'), (1, 'ooer'), (1, 'only'), (1, 'ones'), (1, 'once'), (1, 'okey'), (1, 'okay'), (1, \"ok'd\"), (1, 'ohwa'), (1, 'ohio'), (1, 'ohhh'), (1, 'ogan'), (1, 'offa'), (1, 'o.k.'), (1, 'numb'), (1, 'nuff'), (1, 'nude'), (1, 'ntmn'), (1, 'nova'), (1, 'noth'), (1, 'note'), (1, 'nose'), (1, 'nope'), (1, 'nooo'), (1, 'none'), (1, 'nods'), (1, 'nite'), (1, 'nick'), (1, 'nice'), (1, 'next'), (1, 'news'), (1, 'newp'), (1, 'nerd'), (1, 'need'), (1, 'neck'), (1, 'near'), (1, 'nawt'), (1, 'nawp'), (1, 'nana'), (1, 'name'), (1, 'nads'), (1, 'nada'), (1, 'n9ne'), (1, 'must'), (1, 'much'), (1, 'muah'), (1, 'mris'), (1, 'move'), (1, 'most'), (1, 'more'), (1, 'moon'), (1, 'mono'), (1, 'moms'), (1, 'mofo'), (1, 'mode'), (1, 'mmmm'), (1, 'mkay'), (1, 'mite'), (1, 'miss'), (1, 'mins'), (1, 'mine'), (1, 'mind'), (1, 'mike'), (1, 'mess'), (1, 'menu'), (1, 'mena'), (1, 'meet'), (1, 'meep'), (1, 'meds'), (1, 'meat'), (1, 'mean'), (1, 'mauh'), (1, 'matt'), (1, 'mass'), (1, 'mary'), (1, 'mark'), (1, 'maps'), (1, 'many'), (1, 'mang'), (1, 'mami'), (1, 'mame'), (1, 'mama'), (1, 'male'), (1, 'make'), (1, 'main'), (1, 'mahn'), (1, 'made'), (1, 'lyin'), (1, 'luvs'), (1, 'lust'), (1, 'lung'), (1, 'luck'), (1, 'lube'), (1, 'ltns'), (1, 'ltnc'), (1, 'love'), (1, 'loud'), (1, 'lots'), (1, 'lost'), (1, 'loss'), (1, 'lose'), (1, 'lord'), (1, 'lool'), (1, 'look'), (1, 'long'), (1, 'lol.'), (1, 'lois'), (1, 'lmao'), (1, 'live'), (1, 'list'), (1, 'lisa'), (1, 'lion'), (1, 'line'), (1, 'limp'), (1, 'lime'), (1, 'like'), (1, 'life'), (1, 'lies'), (1, 'lick'), (1, 'liam'), (1, 'lets'), (1, 'legs'), (1, 'left'), (1, 'lead'), (1, 'lazy'), (1, 'lawl'), (1, 'late'), (1, 'last'), (1, 'lapd'), (1, 'land'), (1, 'lame'), (1, 'lala'), (1, 'lake'), (1, 'laid'), (1, 'ladz'), (1, 'lady'), (1, 'kool'), (1, 'kong'), (1, 'kold'), (1, 'know'), (1, 'knew'), (1, 'knee'), (1, 'kmph'), (1, 'kiss'), (1, 'king'), (1, 'kind'), (1, 'kina'), (1, 'kill'), (1, 'kids'), (1, 'kick'), (1, 'keys'), (1, 'kewl'), (1, 'kept'), (1, 'kent'), (1, 'keep'), (1, 'just'), (1, 'jush'), (1, 'junk'), (1, 'jump'), (1, 'judy'), (1, 'jude'), (1, 'joke'), (1, 'join'), (1, 'john'), (1, 'joey'), (1, 'jess'), (1, 'jerk'), (1, 'jeff'), (1, 'jeep'), (1, 'jane'), (1, 'jail'), (1, 'jack'), (1, 'itch'), (1, \"it's\"), (1, 'isnt'), (1, 'iowa'), (1, 'into'), (1, 'inch'), (1, 'imma'), (1, 'idnt'), (1, 'idea'), (1, 'icky'), (1, 'hurt'), (1, 'hurr'), (1, 'hump'), (1, 'humm'), (1, 'hugs'), (1, 'huge'), (1, 'http'), (1, 'howz'), (1, 'hows'), (1, 'howl'), (1, 'hour'), (1, 'hott'), (1, 'hots'), (1, 'hope'), (1, 'hooo'), (1, 'hook'), (1, 'hong'), (1, 'home'), (1, 'holy'), (1, 'hold'), (1, 'hola'), (1, 'hogs'), (1, 'hmph'), (1, 'hmmm'), (1, 'hiya'), (1, 'hits'), (1, 'hiom'), (1, 'hint'), (1, 'hill'), (1, 'hiii'), (1, 'high'), (1, 'hide'), (1, 'hick'), (1, 'hgey'), (1, 'heyy'), (1, 'heys'), (1, 'heya'), (1, 'hero'), (1, 'here'), (1, 'herd'), (1, 'help'), (1, 'hell'), (1, 'hehe'), (1, 'heee'), (1, 'heck'), (1, 'heat'), (1, 'hear'), (1, 'heal'), (1, 'head'), (1, 'hazy'), (1, 'haze'), (1, 'hawt'), (1, 'have'), (1, 'hate'), (1, 'hard'), (1, 'hank'), (1, 'hang'), (1, 'hand'), (1, 'halo'), (1, 'hall'), (1, 'half'), (1, 'hair'), (1, 'hail'), (1, 'haha'), (1, 'haaa'), (1, 'guyz'), (1, 'guys'), (1, 'guts'), (1, 'guns'), (1, 'grrr'), (1, 'grrl'), (1, 'grlz'), (1, 'grin'), (1, 'grew'), (1, 'gret'), (1, 'grea'), (1, 'gray'), (1, 'gosh'), (1, 'gooo'), (1, 'goof'), (1, 'good'), (1, 'gone'), (1, 'golf'), (1, 'gold'), (1, 'goin'), (1, 'goes'), (1, 'glad'), (1, 'givs'), (1, 'give'), (1, 'giva'), (1, 'girl'), (1, 'gimp'), (1, 'gift'), (1, 'ghet'), (1, 'gets'), (1, 'geez'), (1, 'gees'), (1, 'gear'), (1, 'gays'), (1, 'gawd'), (1, 'game'), (1, 'gals'), (1, 'gags'), (1, 'full'), (1, 'fuck'), (1, 'frst'), (1, 'from'), (1, 'free'), (1, 'four'), (1, 'fort'), (1, 'form'), (1, 'foot'), (1, 'fool'), (1, 'food'), (1, 'fock'), (1, 'flow'), (1, 'flaw'), (1, 'five'), (1, 'fits'), (1, 'fish'), (1, 'firs'), (1, 'fire'), (1, 'fine'), (1, 'find'), (1, 'felt'), (1, 'feet'), (1, 'feel'), (1, 'febe'), (1, 'feat'), (1, 'fear'), (1, 'fawk'), (1, 'fast'), (1, 'fart'), (1, 'fall'), (1, 'fake'), (1, 'fair'), (1, 'fade'), (1, 'face'), (1, 'eyes'), (1, 'exit'), (1, \"ex's\"), (1, 'ewww'), (1, 'evil'), (1, 'ever'), (1, 'even'), (1, 'evah'), (1, 'este'), (1, 'eric'), (1, 'enuf'), (1, 'else'), (1, 'ello'), (1, 'elle'), (1, 'elev'), (1, 'eggs'), (1, 'eeww'), (1, 'eeek'), (1, 'ebay'), (1, 'eats'), (1, 'easy'), (1, 'east'), (1, 'ears'), (1, 'each'), (1, 'dyed'), (1, 'dust'), (1, 'dump'), (1, 'dumb'), (1, 'duet'), (1, 'dude'), (1, 'drug'), (1, 'drop'), (1, 'drew'), (1, 'draw'), (1, 'down'), (1, 'dotn'), (1, 'dork'), (1, 'door'), (1, 'dood'), (1, 'dont'), (1, 'done'), (1, 'doll'), (1, 'dojn'), (1, 'doin'), (1, 'dogs'), (1, 'does'), (1, 'docs'), (1, 'dman'), (1, 'disc'), (1, 'dirt'), (1, 'dint'), (1, 'ding'), (1, 'dies'), (1, 'died'), (1, 'dick'), (1, 'deop'), (1, 'deep'), (1, 'dear'), (1, 'deal'), (1, 'deaf'), (1, 'dead'), (1, 'days'), (1, 'dawn'), (1, 'dawg'), (1, 'date'), (1, 'dark'), (1, 'dang'), (1, 'damn'), (1, 'daft'), (1, 'cyas'), (1, 'cute'), (1, 'cuss'), (1, 'cure'), (1, 'cums'), (1, 'ctrl'), (1, 'crop'), (1, 'crib'), (1, 'crap'), (1, 'cost'), (1, 'corn'), (1, 'cops'), (1, 'cool'), (1, 'cook'), (1, 'comp'), (1, 'come'), (1, 'cold'), (1, 'coem'), (1, 'cock'), (1, 'coat'), (1, 'cmon'), (1, 'clue'), (1, 'club'), (1, 'clay'), (1, 'clap'), (1, 'city'), (1, 'ciao'), (1, 'chop'), (1, 'choc'), (1, 'chit'), (1, 'chip'), (1, 'chik'), (1, 'chat'), (1, 'cepn'), (1, 'cell'), (1, 'cast'), (1, 'cash'), (1, 'case'), (1, 'cars'), (1, 'care'), (1, 'card'), (1, 'caps'), (1, 'cant'), (1, 'cams'), (1, 'came'), (1, 'calm'), (1, 'call'), (1, 'cali'), (1, 'caca'), (1, 'caan'), (1, 'byes'), (1, 'butt'), (1, 'busy'), (1, 'bust'), (1, 'burp'), (1, 'bull'), (1, 'bugs'), (1, 'buff'), (1, 'brwn'), (1, 'bred'), (1, 'brat'), (1, 'brad'), (1, 'boyz'), (1, 'boys'), (1, 'bowl'), (1, 'bout'), (1, 'both'), (1, 'boss'), (1, 'born'), (1, 'boot'), (1, 'boom'), (1, 'book'), (1, 'bong'), (1, 'bone'), (1, 'bomb'), (1, 'bois'), (1, 'boed'), (1, 'body'), (1, 'blue'), (1, 'blow'), (1, 'bloe'), (1, 'blew'), (1, 'blah'), (1, 'bite'), (1, 'bird'), (1, 'bike'), (1, 'bied'), (1, 'best'), (1, 'benz'), (1, 'bend'), (1, 'bell'), (1, 'bein'), (1, 'beer'), (1, 'been'), (1, 'beat'), (1, 'bear'), (1, 'beam'), (1, 'base'), (1, 'barn'), (1, 'bare'), (1, 'band'), (1, 'ball'), (1, 'bacl'), (1, 'back'), (1, 'baby'), (1, 'babi'), (1, 'babe'), (1, 'awww'), (1, 'away'), (1, 'aunt'), (1, 'asss'), (1, 'asks'), (1, 'army'), (1, 'arms'), (1, 'argh'), (1, 'area'), (1, 'any1'), (1, 'anti'), (1, 'anal'), (1, 'amen'), (1, 'also'), (1, 'alot'), (1, 'ally'), (1, 'allo'), (1, 'akst'), (1, 'akon'), (1, 'akdt'), (1, 'aint'), (1, 'aime'), (1, 'ahhh'), (1, 'ahem'), (1, 'ahah'), (1, 'ages'), (1, 'addy'), (1, 'adds'), (1, 'acid'), (1, 'abou'), (1, 'able'), (1, '????'), (1, '??!!'), (1, '?!?!'), (1, '>:->'), (1, '<~~~'), (1, '<<<<'), (1, '<333'), (1, \"<3's\"), (1, '<---'), (1, '; ..'), (1, ':o *'), (1, '9:10'), (1, '98.6'), (1, '98.5'), (1, '9.53'), (1, '7:45'), (1, '6:53'), (1, '6:51'), (1, '6:41'), (1, '6:38'), (1, '64.8'), (1, '4:03'), (1, '45.5'), (1, '4.20'), (1, '3:45'), (1, '39.3'), (1, '2pac'), (1, '2day'), (1, '2:55'), (1, '2006'), (1, '1cos'), (1, '1996'), (1, '1985'), (1, '1980'), (1, '1930'), (1, '1900'), (1, '18st'), (1, '1299'), (1, '1200'), (1, '10th'), (1, '100%'), (1, '1.99'), (1, '1.98'), (1, '.op.'), (1, '....'), (1, '.. .'), (1, ',,,,'), (1, '))))'), (1, '(((('), (1, '####'), (1, '\"...'), (1, '!???'), (1, '!...'), (1, '!!!.'), (1, '!!!!')]\n"
     ]
    }
   ],
   "source": [
    "#flattened view\n",
    "print(list(reversed(sorted(reversed_pairs))))"
   ]
  },
  {
   "cell_type": "markdown",
   "id": "be30e4cf",
   "metadata": {},
   "source": [
    "#### 23. Review the discussion of looping with conditions in 4. Use a combination of for and if statements to loop over the words of the movie script for Monty Python and the Holy Grail (text6) and print all the uppercase words, one per line."
   ]
  },
  {
   "cell_type": "code",
   "execution_count": 248,
   "id": "211cb797",
   "metadata": {},
   "outputs": [],
   "source": [
    "#version1\n",
    "MPHG = [w for w in text6 if w.isupper()]"
   ]
  },
  {
   "cell_type": "code",
   "execution_count": 249,
   "id": "2cbd17d7",
   "metadata": {},
   "outputs": [
    {
     "data": {
      "text/plain": [
       "['SCENE',\n",
       " 'KING',\n",
       " 'ARTHUR',\n",
       " 'SOLDIER',\n",
       " 'ARTHUR',\n",
       " 'I',\n",
       " 'SOLDIER',\n",
       " 'ARTHUR',\n",
       " 'I',\n",
       " 'I',\n",
       " 'SOLDIER',\n",
       " 'ARTHUR',\n",
       " 'SOLDIER',\n",
       " 'ARTHUR',\n",
       " 'SOLDIER',\n",
       " 'ARTHUR',\n",
       " 'SOLDIER',\n",
       " 'ARTHUR',\n",
       " 'SOLDIER',\n",
       " 'ARTHUR',\n",
       " 'SOLDIER',\n",
       " 'ARTHUR',\n",
       " 'SOLDIER',\n",
       " 'ARTHUR',\n",
       " 'SOLDIER',\n",
       " 'A',\n",
       " 'ARTHUR',\n",
       " 'SOLDIER',\n",
       " 'A',\n",
       " 'ARTHUR',\n",
       " 'SOLDIER',\n",
       " 'ARTHUR',\n",
       " 'SOLDIER',\n",
       " 'I',\n",
       " 'ARTHUR',\n",
       " 'I',\n",
       " 'SOLDIER',\n",
       " 'SOLDIER',\n",
       " 'SOLDIER',\n",
       " 'I',\n",
       " 'ARTHUR',\n",
       " 'SOLDIER',\n",
       " 'SOLDIER',\n",
       " 'SOLDIER',\n",
       " 'SOLDIER',\n",
       " 'SOLDIER',\n",
       " 'SOLDIER',\n",
       " 'SOLDIER',\n",
       " 'SOLDIER',\n",
       " 'SCENE',\n",
       " 'CART',\n",
       " 'MASTER',\n",
       " 'CUSTOMER',\n",
       " 'CART',\n",
       " 'MASTER',\n",
       " 'DEAD',\n",
       " 'PERSON',\n",
       " 'I',\n",
       " 'CART',\n",
       " 'MASTER',\n",
       " 'CUSTOMER',\n",
       " 'DEAD',\n",
       " 'PERSON',\n",
       " 'I',\n",
       " 'CART',\n",
       " 'MASTER',\n",
       " 'CUSTOMER',\n",
       " 'DEAD',\n",
       " 'PERSON',\n",
       " 'I',\n",
       " 'CART',\n",
       " 'MASTER',\n",
       " 'CUSTOMER',\n",
       " 'DEAD',\n",
       " 'PERSON',\n",
       " 'I',\n",
       " 'CUSTOMER',\n",
       " 'CART',\n",
       " 'MASTER',\n",
       " 'I',\n",
       " 'DEAD',\n",
       " 'PERSON',\n",
       " 'I',\n",
       " 'CUSTOMER',\n",
       " 'CART',\n",
       " 'MASTER',\n",
       " 'I',\n",
       " 'DEAD',\n",
       " 'PERSON',\n",
       " 'I',\n",
       " 'CUSTOMER',\n",
       " 'CART',\n",
       " 'MASTER',\n",
       " 'I',\n",
       " 'CUSTOMER',\n",
       " 'CART',\n",
       " 'MASTER',\n",
       " 'I',\n",
       " 'CUSTOMER',\n",
       " 'CART',\n",
       " 'MASTER',\n",
       " 'DEAD',\n",
       " 'PERSON',\n",
       " 'I',\n",
       " 'I',\n",
       " 'CUSTOMER',\n",
       " 'DEAD',\n",
       " 'PERSON',\n",
       " 'I',\n",
       " 'I',\n",
       " 'CUSTOMER',\n",
       " 'CART',\n",
       " 'MASTER',\n",
       " 'CUSTOMER',\n",
       " 'CART',\n",
       " 'MASTER',\n",
       " 'I',\n",
       " 'CUSTOMER',\n",
       " 'CART',\n",
       " 'MASTER',\n",
       " 'SCENE',\n",
       " 'ARTHUR',\n",
       " 'DENNIS',\n",
       " 'ARTHUR',\n",
       " 'DENNIS',\n",
       " 'I',\n",
       " 'ARTHUR',\n",
       " 'I',\n",
       " 'DENNIS',\n",
       " 'I',\n",
       " 'I',\n",
       " 'ARTHUR',\n",
       " 'I',\n",
       " 'DENNIS',\n",
       " 'ARTHUR',\n",
       " 'I',\n",
       " 'DENNIS',\n",
       " 'ARTHUR',\n",
       " 'I',\n",
       " 'DENNIS',\n",
       " 'I',\n",
       " 'ARTHUR',\n",
       " 'I',\n",
       " 'DENNIS',\n",
       " 'WOMAN',\n",
       " 'ARTHUR',\n",
       " 'I',\n",
       " 'WOMAN',\n",
       " 'ARTHUR',\n",
       " 'WOMAN',\n",
       " 'ARTHUR',\n",
       " 'I',\n",
       " 'WOMAN',\n",
       " 'I',\n",
       " 'I',\n",
       " 'DENNIS',\n",
       " 'A',\n",
       " 'WOMAN',\n",
       " 'DENNIS',\n",
       " 'ARTHUR',\n",
       " 'I',\n",
       " 'WOMAN',\n",
       " 'ARTHUR',\n",
       " 'WOMAN',\n",
       " 'ARTHUR',\n",
       " 'DENNIS',\n",
       " 'I',\n",
       " 'ARTHUR',\n",
       " 'DENNIS',\n",
       " 'ARTHUR',\n",
       " 'I',\n",
       " 'DENNIS',\n",
       " 'ARTHUR',\n",
       " 'DENNIS',\n",
       " 'ARTHUR',\n",
       " 'I',\n",
       " 'WOMAN',\n",
       " 'ARTHUR',\n",
       " 'I',\n",
       " 'WOMAN',\n",
       " 'I',\n",
       " 'ARTHUR',\n",
       " 'WOMAN',\n",
       " 'ARTHUR',\n",
       " 'I',\n",
       " 'I',\n",
       " 'DENNIS',\n",
       " 'ARTHUR',\n",
       " 'DENNIS',\n",
       " 'ARTHUR',\n",
       " 'DENNIS',\n",
       " 'I',\n",
       " 'I',\n",
       " 'I',\n",
       " 'ARTHUR',\n",
       " 'DENNIS',\n",
       " 'ARTHUR',\n",
       " 'DENNIS',\n",
       " 'I',\n",
       " 'ARTHUR',\n",
       " 'DENNIS',\n",
       " 'I',\n",
       " 'SCENE',\n",
       " 'BLACK',\n",
       " 'KNIGHT',\n",
       " 'BLACK',\n",
       " 'KNIGHT',\n",
       " 'GREEN',\n",
       " 'KNIGHT',\n",
       " 'BLACK',\n",
       " 'KNIGHT',\n",
       " 'GREEN',\n",
       " 'KNIGHT',\n",
       " 'BLACK',\n",
       " 'KNIGHT',\n",
       " 'BLACK',\n",
       " 'KNIGHT',\n",
       " 'GREEN',\n",
       " 'KNIGHT',\n",
       " 'GREEN',\n",
       " 'KNIGHT',\n",
       " 'BLACK',\n",
       " 'KNIGHT',\n",
       " 'GREEN',\n",
       " 'KNIGHT',\n",
       " 'BLACK',\n",
       " 'KNIGHT',\n",
       " 'ARTHUR',\n",
       " 'I',\n",
       " 'I',\n",
       " 'BLACK',\n",
       " 'KNIGHT',\n",
       " 'ARTHUR',\n",
       " 'BLACK',\n",
       " 'KNIGHT',\n",
       " 'ARTHUR',\n",
       " 'I',\n",
       " 'I',\n",
       " 'BLACK',\n",
       " 'KNIGHT',\n",
       " 'ARTHUR',\n",
       " 'I',\n",
       " 'BLACK',\n",
       " 'KNIGHT',\n",
       " 'I',\n",
       " 'ARTHUR',\n",
       " 'ARTHUR',\n",
       " 'BLACK',\n",
       " 'KNIGHT',\n",
       " 'ARTHUR',\n",
       " 'BLACK',\n",
       " 'KNIGHT',\n",
       " 'ARTHUR',\n",
       " 'BLACK',\n",
       " 'KNIGHT',\n",
       " 'ARTHUR',\n",
       " 'A',\n",
       " 'BLACK',\n",
       " 'KNIGHT',\n",
       " 'ARTHUR',\n",
       " 'BLACK',\n",
       " 'KNIGHT',\n",
       " 'I',\n",
       " 'ARTHUR',\n",
       " 'BLACK',\n",
       " 'KNIGHT',\n",
       " 'ARTHUR',\n",
       " 'BLACK',\n",
       " 'KNIGHT',\n",
       " 'ARTHUR',\n",
       " 'BLACK',\n",
       " 'KNIGHT',\n",
       " 'ARTHUR',\n",
       " 'BLACK',\n",
       " 'KNIGHT',\n",
       " 'ARTHUR',\n",
       " 'BLACK',\n",
       " 'KNIGHT',\n",
       " 'ARTHUR',\n",
       " 'BLACK',\n",
       " 'KNIGHT',\n",
       " 'I',\n",
       " 'ARTHUR',\n",
       " 'BLACK',\n",
       " 'KNIGHT',\n",
       " 'ARTHUR',\n",
       " 'BLACK',\n",
       " 'KNIGHT',\n",
       " 'ARTHUR',\n",
       " 'I',\n",
       " 'ARTHUR',\n",
       " 'BLACK',\n",
       " 'KNIGHT',\n",
       " 'BLACK',\n",
       " 'KNIGHT',\n",
       " 'I',\n",
       " 'ARTHUR',\n",
       " 'BLACK',\n",
       " 'KNIGHT',\n",
       " 'ARTHUR',\n",
       " 'BLACK',\n",
       " 'KNIGHT',\n",
       " 'I',\n",
       " 'ARTHUR',\n",
       " 'BLACK',\n",
       " 'KNIGHT',\n",
       " 'ARTHUR',\n",
       " 'BLACK',\n",
       " 'KNIGHT',\n",
       " 'BLACK',\n",
       " 'KNIGHT',\n",
       " 'ARTHUR',\n",
       " 'BLACK',\n",
       " 'KNIGHT',\n",
       " 'I',\n",
       " 'I',\n",
       " 'SCENE',\n",
       " 'MONKS',\n",
       " 'CROWD',\n",
       " 'A',\n",
       " 'A',\n",
       " 'A',\n",
       " 'A',\n",
       " 'MONKS',\n",
       " 'CROWD',\n",
       " 'A',\n",
       " 'A',\n",
       " 'A',\n",
       " 'A',\n",
       " 'A',\n",
       " 'A',\n",
       " 'A',\n",
       " 'A',\n",
       " 'A',\n",
       " 'A',\n",
       " 'A',\n",
       " 'A',\n",
       " 'A',\n",
       " 'VILLAGER',\n",
       " 'CROWD',\n",
       " 'BEDEVERE',\n",
       " 'VILLAGER',\n",
       " 'CROWD',\n",
       " 'BEDEVERE',\n",
       " 'WITCH',\n",
       " 'I',\n",
       " 'I',\n",
       " 'BEDEVERE',\n",
       " 'WITCH',\n",
       " 'CROWD',\n",
       " 'WITCH',\n",
       " 'BEDEVERE',\n",
       " 'VILLAGER',\n",
       " 'BEDEVERE',\n",
       " 'VILLAGER',\n",
       " 'VILLAGER',\n",
       " 'CROWD',\n",
       " 'BEDEVERE',\n",
       " 'VILLAGER',\n",
       " 'VILLAGER',\n",
       " 'VILLAGER',\n",
       " 'VILLAGER',\n",
       " 'VILLAGERS',\n",
       " 'VILLAGER',\n",
       " 'VILLAGER',\n",
       " 'VILLAGER',\n",
       " 'VILLAGER',\n",
       " 'A',\n",
       " 'VILLAGERS',\n",
       " 'A',\n",
       " 'VILLAGER',\n",
       " 'A',\n",
       " 'VILLAGER',\n",
       " 'RANDOM',\n",
       " 'BEDEVERE',\n",
       " 'VILLAGER',\n",
       " 'BEDEVERE',\n",
       " 'A',\n",
       " 'VILLAGER',\n",
       " 'I',\n",
       " 'VILLAGER',\n",
       " 'VILLAGER',\n",
       " 'CROWD',\n",
       " 'BEDEVERE',\n",
       " 'VILLAGER',\n",
       " 'VILLAGER',\n",
       " 'VILLAGER',\n",
       " 'CROWD',\n",
       " 'BEDEVERE',\n",
       " 'VILLAGER',\n",
       " 'VILLAGER',\n",
       " 'CROWD',\n",
       " 'BEDEVERE',\n",
       " 'VILLAGER',\n",
       " 'VILLAGER',\n",
       " 'VILLAGER',\n",
       " 'BEDEVERE',\n",
       " 'VILLAGER',\n",
       " 'B',\n",
       " 'BEDEVERE',\n",
       " 'CROWD',\n",
       " 'BEDEVERE',\n",
       " 'VILLAGER',\n",
       " 'BEDEVERE',\n",
       " 'VILLAGER',\n",
       " 'RANDOM',\n",
       " 'BEDEVERE',\n",
       " 'VILLAGER',\n",
       " 'VILLAGER',\n",
       " 'VILLAGER',\n",
       " 'CROWD',\n",
       " 'BEDEVERE',\n",
       " 'VILLAGER',\n",
       " 'VILLAGER',\n",
       " 'VILLAGER',\n",
       " 'VILLAGER',\n",
       " 'VILLAGER',\n",
       " 'VILLAGER',\n",
       " 'VILLAGER',\n",
       " 'VILLAGER',\n",
       " 'VILLAGER',\n",
       " 'ARTHUR',\n",
       " 'A',\n",
       " 'CROWD',\n",
       " 'BEDEVERE',\n",
       " 'VILLAGER',\n",
       " 'BEDEVERE',\n",
       " 'VILLAGER',\n",
       " 'A',\n",
       " 'VILLAGER',\n",
       " 'A',\n",
       " 'CROWD',\n",
       " 'A',\n",
       " 'A',\n",
       " 'VILLAGER',\n",
       " 'BEDEVERE',\n",
       " 'CROWD',\n",
       " 'BEDEVERE',\n",
       " 'CROWD',\n",
       " 'A',\n",
       " 'A',\n",
       " 'A',\n",
       " 'WITCH',\n",
       " 'VILLAGER',\n",
       " 'CROWD',\n",
       " 'BEDEVERE',\n",
       " 'ARTHUR',\n",
       " 'I',\n",
       " 'BEDEVERE',\n",
       " 'ARTHUR',\n",
       " 'BEDEVERE',\n",
       " 'I',\n",
       " 'ARTHUR',\n",
       " 'BEDEVERE',\n",
       " 'ARTHUR',\n",
       " 'I',\n",
       " 'NARRATOR',\n",
       " 'SCENE',\n",
       " 'SIR',\n",
       " 'BEDEVERE',\n",
       " 'ARTHUR',\n",
       " 'BEDEVERE',\n",
       " 'SIR',\n",
       " 'LAUNCELOT',\n",
       " 'ARTHUR',\n",
       " 'SIR',\n",
       " 'GALAHAD',\n",
       " 'LAUNCELOT',\n",
       " 'PATSY',\n",
       " 'ARTHUR',\n",
       " 'I',\n",
       " 'KNIGHTS',\n",
       " 'PRISONER',\n",
       " 'KNIGHTS',\n",
       " 'MAN',\n",
       " 'I',\n",
       " 'ARTHUR',\n",
       " 'KNIGHTS',\n",
       " 'SCENE',\n",
       " 'GOD',\n",
       " 'I',\n",
       " 'ARTHUR',\n",
       " 'GOD',\n",
       " 'I',\n",
       " 'I',\n",
       " 'ARTHUR',\n",
       " 'I',\n",
       " 'O',\n",
       " 'GOD',\n",
       " 'ARTHUR',\n",
       " 'GOD',\n",
       " 'ARTHUR',\n",
       " 'O',\n",
       " 'GOD',\n",
       " 'LAUNCELOT',\n",
       " 'A',\n",
       " 'A',\n",
       " 'GALAHAD',\n",
       " 'SCENE',\n",
       " 'ARTHUR',\n",
       " 'FRENCH',\n",
       " 'GUARD',\n",
       " 'ARTHUR',\n",
       " 'FRENCH',\n",
       " 'GUARD',\n",
       " 'ARTHUR',\n",
       " 'FRENCH',\n",
       " 'GUARD',\n",
       " 'I',\n",
       " 'I',\n",
       " 'ARTHUR',\n",
       " 'GALAHAD',\n",
       " 'ARTHUR',\n",
       " 'FRENCH',\n",
       " 'GUARD',\n",
       " 'I',\n",
       " 'ARTHUR',\n",
       " 'FRENCH',\n",
       " 'GUARD',\n",
       " 'ARTHUR',\n",
       " 'FRENCH',\n",
       " 'GUARD',\n",
       " 'I',\n",
       " 'I',\n",
       " 'GALAHAD',\n",
       " 'FRENCH',\n",
       " 'GUARD',\n",
       " 'ARTHUR',\n",
       " 'FRENCH',\n",
       " 'GUARD',\n",
       " 'I',\n",
       " 'GALAHAD',\n",
       " 'ARTHUR',\n",
       " 'FRENCH',\n",
       " 'GUARD',\n",
       " 'I',\n",
       " 'I',\n",
       " 'GALAHAD',\n",
       " 'FRENCH',\n",
       " 'GUARD',\n",
       " 'I',\n",
       " 'ARTHUR',\n",
       " 'I',\n",
       " 'FRENCH',\n",
       " 'GUARD',\n",
       " 'OTHER',\n",
       " 'FRENCH',\n",
       " 'GUARD',\n",
       " 'FRENCH',\n",
       " 'GUARD',\n",
       " 'ARTHUR',\n",
       " 'I',\n",
       " 'KNIGHTS',\n",
       " 'ARTHUR',\n",
       " 'KNIGHTS',\n",
       " 'FRENCH',\n",
       " 'GUARD',\n",
       " 'FRENCH',\n",
       " 'GUARD',\n",
       " 'ARTHUR',\n",
       " 'KNIGHTS',\n",
       " 'FRENCH',\n",
       " 'GUARD',\n",
       " 'FRENCH',\n",
       " 'GUARDS',\n",
       " 'LAUNCELOT',\n",
       " 'I',\n",
       " 'ARTHUR',\n",
       " 'BEDEVERE',\n",
       " 'I',\n",
       " 'FRENCH',\n",
       " 'GUARDS',\n",
       " 'C',\n",
       " 'A',\n",
       " 'ARTHUR',\n",
       " 'BEDEVERE',\n",
       " 'I',\n",
       " 'ARTHUR',\n",
       " 'BEDEVERE',\n",
       " 'U',\n",
       " 'I',\n",
       " 'ARTHUR',\n",
       " 'BEDEVERE',\n",
       " 'ARTHUR',\n",
       " 'KNIGHTS',\n",
       " 'CRASH',\n",
       " 'FRENCH',\n",
       " 'GUARDS',\n",
       " 'SCENE',\n",
       " 'VOICE',\n",
       " 'DIRECTOR',\n",
       " 'HISTORIAN',\n",
       " 'KNIGHT',\n",
       " 'KNIGHT',\n",
       " 'HISTORIAN',\n",
       " 'HISTORIAN',\n",
       " 'S',\n",
       " 'WIFE',\n",
       " 'SCENE',\n",
       " 'NARRATOR',\n",
       " 'MINSTREL',\n",
       " 'O',\n",
       " 'SIR',\n",
       " 'ROBIN',\n",
       " 'DENNIS',\n",
       " 'WOMAN',\n",
       " 'ALL',\n",
       " 'HEADS',\n",
       " 'MINSTREL',\n",
       " 'ROBIN',\n",
       " 'I',\n",
       " 'ALL',\n",
       " 'HEADS',\n",
       " 'MINSTREL',\n",
       " 'ROBIN',\n",
       " 'I',\n",
       " 'ALL',\n",
       " 'HEADS',\n",
       " 'I',\n",
       " 'ROBIN',\n",
       " 'W',\n",
       " 'I',\n",
       " 'I',\n",
       " 'ALL',\n",
       " 'HEADS',\n",
       " 'ROBIN',\n",
       " 'I',\n",
       " 'LEFT',\n",
       " 'HEAD',\n",
       " 'I',\n",
       " 'MIDDLE',\n",
       " 'HEAD',\n",
       " 'I',\n",
       " 'RIGHT',\n",
       " 'HEAD',\n",
       " 'I',\n",
       " 'MIDDLE',\n",
       " 'HEAD',\n",
       " 'I',\n",
       " 'LEFT',\n",
       " 'HEAD',\n",
       " 'I',\n",
       " 'RIGHT',\n",
       " 'HEAD',\n",
       " 'LEFT',\n",
       " 'HEAD',\n",
       " 'ROBIN',\n",
       " 'I',\n",
       " 'LEFT',\n",
       " 'HEAD',\n",
       " 'I',\n",
       " 'RIGHT',\n",
       " 'HEAD',\n",
       " 'MIDDLE',\n",
       " 'HEAD',\n",
       " 'LEFT',\n",
       " 'HEAD',\n",
       " 'RIGHT',\n",
       " 'HEAD',\n",
       " 'MIDDLE',\n",
       " 'HEAD',\n",
       " 'LEFT',\n",
       " 'HEAD',\n",
       " 'MIDDLE',\n",
       " 'HEAD',\n",
       " 'LEFT',\n",
       " 'HEAD',\n",
       " 'I',\n",
       " 'MIDDLE',\n",
       " 'HEAD',\n",
       " 'RIGHT',\n",
       " 'HEAD',\n",
       " 'LEFT',\n",
       " 'HEAD',\n",
       " 'MIDDLE',\n",
       " 'HEAD',\n",
       " 'RIGHT',\n",
       " 'HEAD',\n",
       " 'LEFT',\n",
       " 'HEAD',\n",
       " 'ALL',\n",
       " 'HEADS',\n",
       " 'MIDDLE',\n",
       " 'HEAD',\n",
       " 'RIGHT',\n",
       " 'HEAD',\n",
       " 'MINSTREL',\n",
       " 'ROBIN',\n",
       " 'MINSTREL',\n",
       " 'ROBIN',\n",
       " 'I',\n",
       " 'MINSTREL',\n",
       " 'ROBIN',\n",
       " 'MINSTREL',\n",
       " 'ROBIN',\n",
       " 'I',\n",
       " 'MINSTREL',\n",
       " 'ROBIN',\n",
       " 'I',\n",
       " 'MINSTREL',\n",
       " 'ROBIN',\n",
       " 'MINSTREL',\n",
       " 'ROBIN',\n",
       " 'I',\n",
       " 'CARTOON',\n",
       " 'MONKS',\n",
       " 'CARTOON',\n",
       " 'CHARACTER',\n",
       " 'CARTOON',\n",
       " 'MONKS',\n",
       " 'CARTOON',\n",
       " 'CHARACTERS',\n",
       " 'CARTOON',\n",
       " 'MONKS',\n",
       " 'CARTOON',\n",
       " 'CHARACTER',\n",
       " 'VOICE',\n",
       " 'CARTOON',\n",
       " 'CHARACTER',\n",
       " 'SCENE',\n",
       " 'NARRATOR',\n",
       " 'GALAHAD',\n",
       " 'GIRLS',\n",
       " 'ZOOT',\n",
       " 'GALAHAD',\n",
       " 'ZOOT',\n",
       " 'GALAHAD',\n",
       " 'ZOOT',\n",
       " 'GALAHAD',\n",
       " 'ZOOT',\n",
       " 'MIDGET',\n",
       " 'CRAPPER',\n",
       " 'O',\n",
       " 'ZOOT',\n",
       " 'MIDGET',\n",
       " 'CRAPPER',\n",
       " 'ZOOT',\n",
       " 'GALAHAD',\n",
       " 'I',\n",
       " 'I',\n",
       " 'ZOOT',\n",
       " 'GALAHAD',\n",
       " 'ZOOT',\n",
       " 'GALAHAD',\n",
       " 'ZOOT',\n",
       " 'GALAHAD',\n",
       " 'I',\n",
       " 'ZOOT',\n",
       " 'GALAHAD',\n",
       " 'I',\n",
       " 'I',\n",
       " 'ZOOT',\n",
       " 'I',\n",
       " 'GALAHAD',\n",
       " 'ZOOT',\n",
       " 'PIGLET',\n",
       " 'GALAHAD',\n",
       " 'ZOOT',\n",
       " 'GALAHAD',\n",
       " 'B',\n",
       " 'ZOOT',\n",
       " 'WINSTON',\n",
       " 'GALAHAD',\n",
       " 'PIGLET',\n",
       " 'GALAHAD',\n",
       " 'PIGLET',\n",
       " 'GALAHAD',\n",
       " 'I',\n",
       " 'PIGLET',\n",
       " 'GALAHAD',\n",
       " 'I',\n",
       " 'PIGLET',\n",
       " 'GALAHAD',\n",
       " 'I',\n",
       " 'I',\n",
       " 'I',\n",
       " 'GIRLS',\n",
       " 'GALAHAD',\n",
       " 'GIRLS',\n",
       " 'GALAHAD',\n",
       " 'DINGO',\n",
       " 'I',\n",
       " 'GALAHAD',\n",
       " 'I',\n",
       " 'DINGO',\n",
       " 'GALAHAD',\n",
       " 'I',\n",
       " 'I',\n",
       " 'DINGO',\n",
       " 'GALAHAD',\n",
       " 'DINGO',\n",
       " 'I',\n",
       " 'GALAHAD',\n",
       " 'DINGO',\n",
       " 'I',\n",
       " 'LEFT',\n",
       " 'HEAD',\n",
       " 'DENNIS',\n",
       " 'OLD',\n",
       " 'MAN',\n",
       " 'TIM',\n",
       " 'THE',\n",
       " 'ENCHANTER',\n",
       " 'ARMY',\n",
       " 'OF',\n",
       " 'KNIGHTS',\n",
       " 'DINGO',\n",
       " 'I',\n",
       " 'GOD',\n",
       " 'DINGO',\n",
       " 'GIRLS',\n",
       " 'A',\n",
       " 'A',\n",
       " 'DINGO',\n",
       " 'AMAZING',\n",
       " 'STUNNER',\n",
       " 'LOVELY',\n",
       " 'DINGO',\n",
       " 'GIRLS',\n",
       " 'A',\n",
       " 'A',\n",
       " 'DINGO',\n",
       " 'GIRLS',\n",
       " 'GALAHAD',\n",
       " 'I',\n",
       " 'LAUNCELOT',\n",
       " 'GALAHAD',\n",
       " 'LAUNCELOT',\n",
       " 'GALAHAD',\n",
       " 'LAUNCELOT',\n",
       " 'GALAHAD',\n",
       " 'LAUNCELOT',\n",
       " 'DINGO',\n",
       " 'LAUNCELOT',\n",
       " 'GALAHAD',\n",
       " 'LAUNCELOT',\n",
       " 'GALAHAD',\n",
       " 'I',\n",
       " 'LAUNCELOT',\n",
       " 'GIRLS',\n",
       " 'GALAHAD',\n",
       " 'I',\n",
       " 'DINGO',\n",
       " 'GIRLS',\n",
       " 'LAUNCELOT',\n",
       " 'GALAHAD',\n",
       " 'I',\n",
       " 'I',\n",
       " 'DINGO',\n",
       " 'GIRLS',\n",
       " 'LAUNCELOT',\n",
       " 'GALAHAD',\n",
       " 'I',\n",
       " 'DINGO',\n",
       " 'GIRLS',\n",
       " 'DINGO',\n",
       " 'LAUNCELOT',\n",
       " 'GALAHAD',\n",
       " 'I',\n",
       " 'I',\n",
       " 'LAUNCELOT',\n",
       " 'GALAHAD',\n",
       " 'LAUNCELOT',\n",
       " 'GALAHAD',\n",
       " 'I',\n",
       " 'LAUNCELOT',\n",
       " 'GALAHAD',\n",
       " 'LAUNCELOT',\n",
       " 'GALAHAD',\n",
       " 'I',\n",
       " 'LAUNCELOT',\n",
       " 'I',\n",
       " 'NARRATOR',\n",
       " 'I',\n",
       " 'I',\n",
       " 'CROWD',\n",
       " 'NARRATOR',\n",
       " 'I',\n",
       " 'SCENE',\n",
       " 'OLD',\n",
       " 'MAN',\n",
       " 'ARTHUR',\n",
       " 'OLD',\n",
       " 'MAN',\n",
       " 'ARTHUR',\n",
       " 'OLD',\n",
       " 'MAN',\n",
       " 'ARTHUR',\n",
       " 'OLD',\n",
       " 'MAN',\n",
       " 'ARTHUR',\n",
       " 'OLD',\n",
       " 'MAN',\n",
       " 'ARTHUR',\n",
       " 'OLD',\n",
       " 'MAN',\n",
       " 'ARTHUR',\n",
       " 'OLD',\n",
       " 'MAN',\n",
       " 'SCENE',\n",
       " 'HEAD',\n",
       " 'KNIGHT',\n",
       " 'OF',\n",
       " 'NI',\n",
       " 'KNIGHTS',\n",
       " 'OF',\n",
       " 'NI',\n",
       " 'ARTHUR',\n",
       " 'HEAD',\n",
       " 'KNIGHT',\n",
       " 'RANDOM',\n",
       " 'ARTHUR',\n",
       " 'HEAD',\n",
       " 'KNIGHT',\n",
       " 'BEDEVERE',\n",
       " 'HEAD',\n",
       " 'KNIGHT',\n",
       " 'RANDOM',\n",
       " 'ARTHUR',\n",
       " 'HEAD',\n",
       " 'KNIGHT',\n",
       " 'ARTHUR',\n",
       " 'HEAD',\n",
       " 'KNIGHT',\n",
       " 'KNIGHTS',\n",
       " 'OF',\n",
       " 'NI',\n",
       " 'ARTHUR',\n",
       " 'HEAD',\n",
       " 'KNIGHT',\n",
       " 'ARTHUR',\n",
       " 'HEAD',\n",
       " 'KNIGHT',\n",
       " 'ARTHUR',\n",
       " 'A',\n",
       " 'KNIGHTS',\n",
       " 'OF',\n",
       " 'NI',\n",
       " 'ARTHUR',\n",
       " 'PARTY',\n",
       " 'ARTHUR',\n",
       " 'HEAD',\n",
       " 'KNIGHT',\n",
       " 'ARTHUR',\n",
       " 'O',\n",
       " 'HEAD',\n",
       " 'KNIGHT',\n",
       " 'ARTHUR',\n",
       " 'HEAD',\n",
       " 'KNIGHT',\n",
       " 'ARTHUR',\n",
       " 'HEAD',\n",
       " 'KNIGHT',\n",
       " 'CARTOON',\n",
       " 'CHARACTER',\n",
       " 'SUN',\n",
       " 'CARTOON',\n",
       " 'CHARACTER',\n",
       " 'SUN',\n",
       " 'CARTOON',\n",
       " 'CHARACTER',\n",
       " 'SUN',\n",
       " 'CARTOON',\n",
       " 'CHARACTER',\n",
       " 'SCENE',\n",
       " 'NARRATOR',\n",
       " 'FATHER',\n",
       " 'PRINCE',\n",
       " 'HERBERT',\n",
       " 'FATHER',\n",
       " 'HERBERT',\n",
       " 'FATHER',\n",
       " 'HERBERT',\n",
       " 'B',\n",
       " 'I',\n",
       " 'FATHER',\n",
       " 'I',\n",
       " 'I',\n",
       " 'I',\n",
       " 'I',\n",
       " 'I',\n",
       " 'I',\n",
       " 'HERBERT',\n",
       " 'I',\n",
       " 'I',\n",
       " 'FATHER',\n",
       " 'HERBERT',\n",
       " 'I',\n",
       " 'FATHER',\n",
       " 'I',\n",
       " 'HERBERT',\n",
       " 'B',\n",
       " 'I',\n",
       " 'FATHER',\n",
       " 'HERBERT',\n",
       " 'FATHER',\n",
       " 'HERBERT',\n",
       " 'I',\n",
       " 'FATHER',\n",
       " 'HERBERT',\n",
       " ...]"
      ]
     },
     "execution_count": 249,
     "metadata": {},
     "output_type": "execute_result"
    }
   ],
   "source": [
    "MPHG"
   ]
  },
  {
   "cell_type": "code",
   "execution_count": 250,
   "id": "602f9a38",
   "metadata": {},
   "outputs": [
    {
     "data": {
      "text/plain": [
       "1772"
      ]
     },
     "execution_count": 250,
     "metadata": {},
     "output_type": "execute_result"
    }
   ],
   "source": [
    "len(MPHG)"
   ]
  },
  {
   "cell_type": "code",
   "execution_count": 251,
   "id": "153e24ea",
   "metadata": {
    "scrolled": true
   },
   "outputs": [
    {
     "name": "stdout",
     "output_type": "stream",
     "text": [
      "SCENE\n",
      "KING\n",
      "ARTHUR\n",
      "SOLDIER\n",
      "ARTHUR\n",
      "I\n",
      "SOLDIER\n",
      "ARTHUR\n",
      "I\n",
      "I\n",
      "SOLDIER\n",
      "ARTHUR\n",
      "SOLDIER\n",
      "ARTHUR\n",
      "SOLDIER\n",
      "ARTHUR\n",
      "SOLDIER\n",
      "ARTHUR\n",
      "SOLDIER\n",
      "ARTHUR\n",
      "SOLDIER\n",
      "ARTHUR\n",
      "SOLDIER\n",
      "ARTHUR\n",
      "SOLDIER\n",
      "A\n",
      "ARTHUR\n",
      "SOLDIER\n",
      "A\n",
      "ARTHUR\n",
      "SOLDIER\n",
      "ARTHUR\n",
      "SOLDIER\n",
      "I\n",
      "ARTHUR\n",
      "I\n",
      "SOLDIER\n",
      "SOLDIER\n",
      "SOLDIER\n",
      "I\n",
      "ARTHUR\n",
      "SOLDIER\n",
      "SOLDIER\n",
      "SOLDIER\n",
      "SOLDIER\n",
      "SOLDIER\n",
      "SOLDIER\n",
      "SOLDIER\n",
      "SOLDIER\n",
      "SCENE\n",
      "CART\n",
      "MASTER\n",
      "CUSTOMER\n",
      "CART\n",
      "MASTER\n",
      "DEAD\n",
      "PERSON\n",
      "I\n",
      "CART\n",
      "MASTER\n",
      "CUSTOMER\n",
      "DEAD\n",
      "PERSON\n",
      "I\n",
      "CART\n",
      "MASTER\n",
      "CUSTOMER\n",
      "DEAD\n",
      "PERSON\n",
      "I\n",
      "CART\n",
      "MASTER\n",
      "CUSTOMER\n",
      "DEAD\n",
      "PERSON\n",
      "I\n",
      "CUSTOMER\n",
      "CART\n",
      "MASTER\n",
      "I\n",
      "DEAD\n",
      "PERSON\n",
      "I\n",
      "CUSTOMER\n",
      "CART\n",
      "MASTER\n",
      "I\n",
      "DEAD\n",
      "PERSON\n",
      "I\n",
      "CUSTOMER\n",
      "CART\n",
      "MASTER\n",
      "I\n",
      "CUSTOMER\n",
      "CART\n",
      "MASTER\n",
      "I\n",
      "CUSTOMER\n",
      "CART\n",
      "MASTER\n",
      "DEAD\n",
      "PERSON\n",
      "I\n",
      "I\n",
      "CUSTOMER\n",
      "DEAD\n",
      "PERSON\n",
      "I\n",
      "I\n",
      "CUSTOMER\n",
      "CART\n",
      "MASTER\n",
      "CUSTOMER\n",
      "CART\n",
      "MASTER\n",
      "I\n",
      "CUSTOMER\n",
      "CART\n",
      "MASTER\n",
      "SCENE\n",
      "ARTHUR\n",
      "DENNIS\n",
      "ARTHUR\n",
      "DENNIS\n",
      "I\n",
      "ARTHUR\n",
      "I\n",
      "DENNIS\n",
      "I\n",
      "I\n",
      "ARTHUR\n",
      "I\n",
      "DENNIS\n",
      "ARTHUR\n",
      "I\n",
      "DENNIS\n",
      "ARTHUR\n",
      "I\n",
      "DENNIS\n",
      "I\n",
      "ARTHUR\n",
      "I\n",
      "DENNIS\n",
      "WOMAN\n",
      "ARTHUR\n",
      "I\n",
      "WOMAN\n",
      "ARTHUR\n",
      "WOMAN\n",
      "ARTHUR\n",
      "I\n",
      "WOMAN\n",
      "I\n",
      "I\n",
      "DENNIS\n",
      "A\n",
      "WOMAN\n",
      "DENNIS\n",
      "ARTHUR\n",
      "I\n",
      "WOMAN\n",
      "ARTHUR\n",
      "WOMAN\n",
      "ARTHUR\n",
      "DENNIS\n",
      "I\n",
      "ARTHUR\n",
      "DENNIS\n",
      "ARTHUR\n",
      "I\n",
      "DENNIS\n",
      "ARTHUR\n",
      "DENNIS\n",
      "ARTHUR\n",
      "I\n",
      "WOMAN\n",
      "ARTHUR\n",
      "I\n",
      "WOMAN\n",
      "I\n",
      "ARTHUR\n",
      "WOMAN\n",
      "ARTHUR\n",
      "I\n",
      "I\n",
      "DENNIS\n",
      "ARTHUR\n",
      "DENNIS\n",
      "ARTHUR\n",
      "DENNIS\n",
      "I\n",
      "I\n",
      "I\n",
      "ARTHUR\n",
      "DENNIS\n",
      "ARTHUR\n",
      "DENNIS\n",
      "I\n",
      "ARTHUR\n",
      "DENNIS\n",
      "I\n",
      "SCENE\n",
      "BLACK\n",
      "KNIGHT\n",
      "BLACK\n",
      "KNIGHT\n",
      "GREEN\n",
      "KNIGHT\n",
      "BLACK\n",
      "KNIGHT\n",
      "GREEN\n",
      "KNIGHT\n",
      "BLACK\n",
      "KNIGHT\n",
      "BLACK\n",
      "KNIGHT\n",
      "GREEN\n",
      "KNIGHT\n",
      "GREEN\n",
      "KNIGHT\n",
      "BLACK\n",
      "KNIGHT\n",
      "GREEN\n",
      "KNIGHT\n",
      "BLACK\n",
      "KNIGHT\n",
      "ARTHUR\n",
      "I\n",
      "I\n",
      "BLACK\n",
      "KNIGHT\n",
      "ARTHUR\n",
      "BLACK\n",
      "KNIGHT\n",
      "ARTHUR\n",
      "I\n",
      "I\n",
      "BLACK\n",
      "KNIGHT\n",
      "ARTHUR\n",
      "I\n",
      "BLACK\n",
      "KNIGHT\n",
      "I\n",
      "ARTHUR\n",
      "ARTHUR\n",
      "BLACK\n",
      "KNIGHT\n",
      "ARTHUR\n",
      "BLACK\n",
      "KNIGHT\n",
      "ARTHUR\n",
      "BLACK\n",
      "KNIGHT\n",
      "ARTHUR\n",
      "A\n",
      "BLACK\n",
      "KNIGHT\n",
      "ARTHUR\n",
      "BLACK\n",
      "KNIGHT\n",
      "I\n",
      "ARTHUR\n",
      "BLACK\n",
      "KNIGHT\n",
      "ARTHUR\n",
      "BLACK\n",
      "KNIGHT\n",
      "ARTHUR\n",
      "BLACK\n",
      "KNIGHT\n",
      "ARTHUR\n",
      "BLACK\n",
      "KNIGHT\n",
      "ARTHUR\n",
      "BLACK\n",
      "KNIGHT\n",
      "ARTHUR\n",
      "BLACK\n",
      "KNIGHT\n",
      "I\n",
      "ARTHUR\n",
      "BLACK\n",
      "KNIGHT\n",
      "ARTHUR\n",
      "BLACK\n",
      "KNIGHT\n",
      "ARTHUR\n",
      "I\n",
      "ARTHUR\n",
      "BLACK\n",
      "KNIGHT\n",
      "BLACK\n",
      "KNIGHT\n",
      "I\n",
      "ARTHUR\n",
      "BLACK\n",
      "KNIGHT\n",
      "ARTHUR\n",
      "BLACK\n",
      "KNIGHT\n",
      "I\n",
      "ARTHUR\n",
      "BLACK\n",
      "KNIGHT\n",
      "ARTHUR\n",
      "BLACK\n",
      "KNIGHT\n",
      "BLACK\n",
      "KNIGHT\n",
      "ARTHUR\n",
      "BLACK\n",
      "KNIGHT\n",
      "I\n",
      "I\n",
      "SCENE\n",
      "MONKS\n",
      "CROWD\n",
      "A\n",
      "A\n",
      "A\n",
      "A\n",
      "MONKS\n",
      "CROWD\n",
      "A\n",
      "A\n",
      "A\n",
      "A\n",
      "A\n",
      "A\n",
      "A\n",
      "A\n",
      "A\n",
      "A\n",
      "A\n",
      "A\n",
      "A\n",
      "VILLAGER\n",
      "CROWD\n",
      "BEDEVERE\n",
      "VILLAGER\n",
      "CROWD\n",
      "BEDEVERE\n",
      "WITCH\n",
      "I\n",
      "I\n",
      "BEDEVERE\n",
      "WITCH\n",
      "CROWD\n",
      "WITCH\n",
      "BEDEVERE\n",
      "VILLAGER\n",
      "BEDEVERE\n",
      "VILLAGER\n",
      "VILLAGER\n",
      "CROWD\n",
      "BEDEVERE\n",
      "VILLAGER\n",
      "VILLAGER\n",
      "VILLAGER\n",
      "VILLAGER\n",
      "VILLAGERS\n",
      "VILLAGER\n",
      "VILLAGER\n",
      "VILLAGER\n",
      "VILLAGER\n",
      "A\n",
      "VILLAGERS\n",
      "A\n",
      "VILLAGER\n",
      "A\n",
      "VILLAGER\n",
      "RANDOM\n",
      "BEDEVERE\n",
      "VILLAGER\n",
      "BEDEVERE\n",
      "A\n",
      "VILLAGER\n",
      "I\n",
      "VILLAGER\n",
      "VILLAGER\n",
      "CROWD\n",
      "BEDEVERE\n",
      "VILLAGER\n",
      "VILLAGER\n",
      "VILLAGER\n",
      "CROWD\n",
      "BEDEVERE\n",
      "VILLAGER\n",
      "VILLAGER\n",
      "CROWD\n",
      "BEDEVERE\n",
      "VILLAGER\n",
      "VILLAGER\n",
      "VILLAGER\n",
      "BEDEVERE\n",
      "VILLAGER\n",
      "B\n",
      "BEDEVERE\n",
      "CROWD\n",
      "BEDEVERE\n",
      "VILLAGER\n",
      "BEDEVERE\n",
      "VILLAGER\n",
      "RANDOM\n",
      "BEDEVERE\n",
      "VILLAGER\n",
      "VILLAGER\n",
      "VILLAGER\n",
      "CROWD\n",
      "BEDEVERE\n",
      "VILLAGER\n",
      "VILLAGER\n",
      "VILLAGER\n",
      "VILLAGER\n",
      "VILLAGER\n",
      "VILLAGER\n",
      "VILLAGER\n",
      "VILLAGER\n",
      "VILLAGER\n",
      "ARTHUR\n",
      "A\n",
      "CROWD\n",
      "BEDEVERE\n",
      "VILLAGER\n",
      "BEDEVERE\n",
      "VILLAGER\n",
      "A\n",
      "VILLAGER\n",
      "A\n",
      "CROWD\n",
      "A\n",
      "A\n",
      "VILLAGER\n",
      "BEDEVERE\n",
      "CROWD\n",
      "BEDEVERE\n",
      "CROWD\n",
      "A\n",
      "A\n",
      "A\n",
      "WITCH\n",
      "VILLAGER\n",
      "CROWD\n",
      "BEDEVERE\n",
      "ARTHUR\n",
      "I\n",
      "BEDEVERE\n",
      "ARTHUR\n",
      "BEDEVERE\n",
      "I\n",
      "ARTHUR\n",
      "BEDEVERE\n",
      "ARTHUR\n",
      "I\n",
      "NARRATOR\n",
      "SCENE\n",
      "SIR\n",
      "BEDEVERE\n",
      "ARTHUR\n",
      "BEDEVERE\n",
      "SIR\n",
      "LAUNCELOT\n",
      "ARTHUR\n",
      "SIR\n",
      "GALAHAD\n",
      "LAUNCELOT\n",
      "PATSY\n",
      "ARTHUR\n",
      "I\n",
      "KNIGHTS\n",
      "PRISONER\n",
      "KNIGHTS\n",
      "MAN\n",
      "I\n",
      "ARTHUR\n",
      "KNIGHTS\n",
      "SCENE\n",
      "GOD\n",
      "I\n",
      "ARTHUR\n",
      "GOD\n",
      "I\n",
      "I\n",
      "ARTHUR\n",
      "I\n",
      "O\n",
      "GOD\n",
      "ARTHUR\n",
      "GOD\n",
      "ARTHUR\n",
      "O\n",
      "GOD\n",
      "LAUNCELOT\n",
      "A\n",
      "A\n",
      "GALAHAD\n",
      "SCENE\n",
      "ARTHUR\n",
      "FRENCH\n",
      "GUARD\n",
      "ARTHUR\n",
      "FRENCH\n",
      "GUARD\n",
      "ARTHUR\n",
      "FRENCH\n",
      "GUARD\n",
      "I\n",
      "I\n",
      "ARTHUR\n",
      "GALAHAD\n",
      "ARTHUR\n",
      "FRENCH\n",
      "GUARD\n",
      "I\n",
      "ARTHUR\n",
      "FRENCH\n",
      "GUARD\n",
      "ARTHUR\n",
      "FRENCH\n",
      "GUARD\n",
      "I\n",
      "I\n",
      "GALAHAD\n",
      "FRENCH\n",
      "GUARD\n",
      "ARTHUR\n",
      "FRENCH\n",
      "GUARD\n",
      "I\n",
      "GALAHAD\n",
      "ARTHUR\n",
      "FRENCH\n",
      "GUARD\n",
      "I\n",
      "I\n",
      "GALAHAD\n",
      "FRENCH\n",
      "GUARD\n",
      "I\n",
      "ARTHUR\n",
      "I\n",
      "FRENCH\n",
      "GUARD\n",
      "OTHER\n",
      "FRENCH\n",
      "GUARD\n",
      "FRENCH\n",
      "GUARD\n",
      "ARTHUR\n",
      "I\n",
      "KNIGHTS\n",
      "ARTHUR\n",
      "KNIGHTS\n",
      "FRENCH\n",
      "GUARD\n",
      "FRENCH\n",
      "GUARD\n",
      "ARTHUR\n",
      "KNIGHTS\n",
      "FRENCH\n",
      "GUARD\n",
      "FRENCH\n",
      "GUARDS\n",
      "LAUNCELOT\n",
      "I\n",
      "ARTHUR\n",
      "BEDEVERE\n",
      "I\n",
      "FRENCH\n",
      "GUARDS\n",
      "C\n",
      "A\n",
      "ARTHUR\n",
      "BEDEVERE\n",
      "I\n",
      "ARTHUR\n",
      "BEDEVERE\n",
      "U\n",
      "I\n",
      "ARTHUR\n",
      "BEDEVERE\n",
      "ARTHUR\n",
      "KNIGHTS\n",
      "CRASH\n",
      "FRENCH\n",
      "GUARDS\n",
      "SCENE\n",
      "VOICE\n",
      "DIRECTOR\n",
      "HISTORIAN\n",
      "KNIGHT\n",
      "KNIGHT\n",
      "HISTORIAN\n",
      "HISTORIAN\n",
      "S\n",
      "WIFE\n",
      "SCENE\n",
      "NARRATOR\n",
      "MINSTREL\n",
      "O\n",
      "SIR\n",
      "ROBIN\n",
      "DENNIS\n",
      "WOMAN\n",
      "ALL\n",
      "HEADS\n",
      "MINSTREL\n",
      "ROBIN\n",
      "I\n",
      "ALL\n",
      "HEADS\n",
      "MINSTREL\n",
      "ROBIN\n",
      "I\n",
      "ALL\n",
      "HEADS\n",
      "I\n",
      "ROBIN\n",
      "W\n",
      "I\n",
      "I\n",
      "ALL\n",
      "HEADS\n",
      "ROBIN\n",
      "I\n",
      "LEFT\n",
      "HEAD\n",
      "I\n",
      "MIDDLE\n",
      "HEAD\n",
      "I\n",
      "RIGHT\n",
      "HEAD\n",
      "I\n",
      "MIDDLE\n",
      "HEAD\n",
      "I\n",
      "LEFT\n",
      "HEAD\n",
      "I\n",
      "RIGHT\n",
      "HEAD\n",
      "LEFT\n",
      "HEAD\n",
      "ROBIN\n",
      "I\n",
      "LEFT\n",
      "HEAD\n",
      "I\n",
      "RIGHT\n",
      "HEAD\n",
      "MIDDLE\n",
      "HEAD\n",
      "LEFT\n",
      "HEAD\n",
      "RIGHT\n",
      "HEAD\n",
      "MIDDLE\n",
      "HEAD\n",
      "LEFT\n",
      "HEAD\n",
      "MIDDLE\n",
      "HEAD\n",
      "LEFT\n",
      "HEAD\n",
      "I\n",
      "MIDDLE\n",
      "HEAD\n",
      "RIGHT\n",
      "HEAD\n",
      "LEFT\n",
      "HEAD\n",
      "MIDDLE\n",
      "HEAD\n",
      "RIGHT\n",
      "HEAD\n",
      "LEFT\n",
      "HEAD\n",
      "ALL\n",
      "HEADS\n",
      "MIDDLE\n",
      "HEAD\n",
      "RIGHT\n",
      "HEAD\n",
      "MINSTREL\n",
      "ROBIN\n",
      "MINSTREL\n",
      "ROBIN\n",
      "I\n",
      "MINSTREL\n",
      "ROBIN\n",
      "MINSTREL\n",
      "ROBIN\n",
      "I\n",
      "MINSTREL\n",
      "ROBIN\n",
      "I\n",
      "MINSTREL\n",
      "ROBIN\n",
      "MINSTREL\n",
      "ROBIN\n",
      "I\n",
      "CARTOON\n",
      "MONKS\n",
      "CARTOON\n",
      "CHARACTER\n",
      "CARTOON\n",
      "MONKS\n",
      "CARTOON\n",
      "CHARACTERS\n",
      "CARTOON\n",
      "MONKS\n",
      "CARTOON\n",
      "CHARACTER\n",
      "VOICE\n",
      "CARTOON\n",
      "CHARACTER\n",
      "SCENE\n",
      "NARRATOR\n",
      "GALAHAD\n",
      "GIRLS\n",
      "ZOOT\n",
      "GALAHAD\n",
      "ZOOT\n",
      "GALAHAD\n",
      "ZOOT\n",
      "GALAHAD\n",
      "ZOOT\n",
      "MIDGET\n",
      "CRAPPER\n",
      "O\n",
      "ZOOT\n",
      "MIDGET\n",
      "CRAPPER\n",
      "ZOOT\n",
      "GALAHAD\n",
      "I\n",
      "I\n",
      "ZOOT\n",
      "GALAHAD\n",
      "ZOOT\n",
      "GALAHAD\n",
      "ZOOT\n",
      "GALAHAD\n",
      "I\n",
      "ZOOT\n",
      "GALAHAD\n",
      "I\n",
      "I\n",
      "ZOOT\n",
      "I\n",
      "GALAHAD\n",
      "ZOOT\n",
      "PIGLET\n",
      "GALAHAD\n",
      "ZOOT\n",
      "GALAHAD\n",
      "B\n",
      "ZOOT\n",
      "WINSTON\n",
      "GALAHAD\n",
      "PIGLET\n",
      "GALAHAD\n",
      "PIGLET\n",
      "GALAHAD\n",
      "I\n",
      "PIGLET\n",
      "GALAHAD\n",
      "I\n",
      "PIGLET\n",
      "GALAHAD\n",
      "I\n",
      "I\n",
      "I\n",
      "GIRLS\n",
      "GALAHAD\n",
      "GIRLS\n",
      "GALAHAD\n",
      "DINGO\n",
      "I\n",
      "GALAHAD\n",
      "I\n",
      "DINGO\n",
      "GALAHAD\n",
      "I\n",
      "I\n",
      "DINGO\n",
      "GALAHAD\n",
      "DINGO\n",
      "I\n",
      "GALAHAD\n",
      "DINGO\n",
      "I\n",
      "LEFT\n",
      "HEAD\n",
      "DENNIS\n",
      "OLD\n",
      "MAN\n",
      "TIM\n",
      "THE\n",
      "ENCHANTER\n",
      "ARMY\n",
      "OF\n",
      "KNIGHTS\n",
      "DINGO\n",
      "I\n",
      "GOD\n",
      "DINGO\n",
      "GIRLS\n",
      "A\n",
      "A\n",
      "DINGO\n",
      "AMAZING\n",
      "STUNNER\n",
      "LOVELY\n",
      "DINGO\n",
      "GIRLS\n",
      "A\n",
      "A\n",
      "DINGO\n",
      "GIRLS\n",
      "GALAHAD\n",
      "I\n",
      "LAUNCELOT\n",
      "GALAHAD\n",
      "LAUNCELOT\n",
      "GALAHAD\n",
      "LAUNCELOT\n",
      "GALAHAD\n",
      "LAUNCELOT\n",
      "DINGO\n",
      "LAUNCELOT\n",
      "GALAHAD\n",
      "LAUNCELOT\n",
      "GALAHAD\n",
      "I\n",
      "LAUNCELOT\n",
      "GIRLS\n",
      "GALAHAD\n",
      "I\n",
      "DINGO\n",
      "GIRLS\n",
      "LAUNCELOT\n",
      "GALAHAD\n",
      "I\n",
      "I\n",
      "DINGO\n",
      "GIRLS\n",
      "LAUNCELOT\n",
      "GALAHAD\n",
      "I\n",
      "DINGO\n",
      "GIRLS\n",
      "DINGO\n",
      "LAUNCELOT\n",
      "GALAHAD\n",
      "I\n",
      "I\n",
      "LAUNCELOT\n",
      "GALAHAD\n",
      "LAUNCELOT\n",
      "GALAHAD\n",
      "I\n",
      "LAUNCELOT\n",
      "GALAHAD\n",
      "LAUNCELOT\n",
      "GALAHAD\n",
      "I\n",
      "LAUNCELOT\n",
      "I\n",
      "NARRATOR\n",
      "I\n",
      "I\n",
      "CROWD\n",
      "NARRATOR\n",
      "I\n",
      "SCENE\n",
      "OLD\n",
      "MAN\n",
      "ARTHUR\n",
      "OLD\n",
      "MAN\n",
      "ARTHUR\n",
      "OLD\n",
      "MAN\n",
      "ARTHUR\n",
      "OLD\n",
      "MAN\n",
      "ARTHUR\n",
      "OLD\n",
      "MAN\n",
      "ARTHUR\n",
      "OLD\n",
      "MAN\n",
      "ARTHUR\n",
      "OLD\n",
      "MAN\n",
      "SCENE\n",
      "HEAD\n",
      "KNIGHT\n",
      "OF\n",
      "NI\n",
      "KNIGHTS\n",
      "OF\n",
      "NI\n",
      "ARTHUR\n",
      "HEAD\n",
      "KNIGHT\n",
      "RANDOM\n",
      "ARTHUR\n",
      "HEAD\n",
      "KNIGHT\n",
      "BEDEVERE\n",
      "HEAD\n",
      "KNIGHT\n",
      "RANDOM\n",
      "ARTHUR\n",
      "HEAD\n",
      "KNIGHT\n",
      "ARTHUR\n",
      "HEAD\n",
      "KNIGHT\n",
      "KNIGHTS\n",
      "OF\n",
      "NI\n",
      "ARTHUR\n",
      "HEAD\n",
      "KNIGHT\n",
      "ARTHUR\n",
      "HEAD\n",
      "KNIGHT\n",
      "ARTHUR\n",
      "A\n",
      "KNIGHTS\n",
      "OF\n",
      "NI\n",
      "ARTHUR\n",
      "PARTY\n",
      "ARTHUR\n",
      "HEAD\n",
      "KNIGHT\n",
      "ARTHUR\n",
      "O\n",
      "HEAD\n",
      "KNIGHT\n",
      "ARTHUR\n",
      "HEAD\n",
      "KNIGHT\n",
      "ARTHUR\n",
      "HEAD\n",
      "KNIGHT\n",
      "CARTOON\n",
      "CHARACTER\n",
      "SUN\n",
      "CARTOON\n",
      "CHARACTER\n",
      "SUN\n",
      "CARTOON\n",
      "CHARACTER\n",
      "SUN\n",
      "CARTOON\n",
      "CHARACTER\n",
      "SCENE\n",
      "NARRATOR\n",
      "FATHER\n",
      "PRINCE\n",
      "HERBERT\n",
      "FATHER\n",
      "HERBERT\n",
      "FATHER\n",
      "HERBERT\n",
      "B\n",
      "I\n",
      "FATHER\n",
      "I\n",
      "I\n",
      "I\n",
      "I\n",
      "I\n",
      "I\n",
      "HERBERT\n",
      "I\n",
      "I\n",
      "FATHER\n",
      "HERBERT\n",
      "I\n",
      "FATHER\n",
      "I\n",
      "HERBERT\n",
      "B\n",
      "I\n",
      "FATHER\n",
      "HERBERT\n",
      "FATHER\n",
      "HERBERT\n",
      "I\n",
      "FATHER\n",
      "HERBERT\n",
      "I\n",
      "I\n",
      "I\n",
      "FATHER\n",
      "I\n",
      "GUARD\n",
      "GUARD\n",
      "FATHER\n",
      "I\n",
      "GUARD\n",
      "FATHER\n",
      "GUARD\n",
      "GUARD\n",
      "FATHER\n",
      "GUARD\n",
      "FATHER\n",
      "GUARD\n",
      "FATHER\n",
      "GUARD\n",
      "GUARD\n",
      "FATHER\n",
      "GUARD\n",
      "FATHER\n",
      "GUARD\n",
      "FATHER\n",
      "GUARD\n",
      "FATHER\n",
      "GUARD\n",
      "FATHER\n",
      "GUARD\n",
      "I\n",
      "FATHER\n",
      "N\n",
      "GUARD\n",
      "FATHER\n",
      "GUARD\n",
      "FATHER\n",
      "GUARD\n",
      "GUARD\n",
      "FATHER\n",
      "GUARD\n",
      "FATHER\n",
      "GUARD\n",
      "GUARD\n",
      "FATHER\n",
      "GUARD\n",
      "FATHER\n",
      "GUARD\n",
      "FATHER\n",
      "GUARD\n",
      "GUARD\n",
      "GUARD\n",
      "I\n",
      "FATHER\n",
      "GUARD\n",
      "GUARD\n",
      "FATHER\n",
      "GUARD\n",
      "FATHER\n",
      "I\n",
      "GUARD\n",
      "I\n",
      "HERBERT\n",
      "FATHER\n",
      "GUARD\n",
      "FATHER\n",
      "SCENE\n",
      "LAUNCELOT\n",
      "CONCORDE\n",
      "LAUNCELOT\n",
      "CONCORDE\n",
      "LAUNCELOT\n",
      "I\n",
      "I\n",
      "A\n",
      "A\n",
      "CONCORDE\n",
      "I\n",
      "I\n",
      "LAUNCELOT\n",
      "CONCORDE\n",
      "I\n",
      "I\n",
      "I\n",
      "I\n",
      "I\n",
      "LAUNCELOT\n",
      "I\n",
      "CONCORDE\n",
      "I\n",
      "I\n",
      "LAUNCELOT\n",
      "I\n",
      "I\n",
      "CONCORDE\n",
      "LAUNCELOT\n",
      "CONCORDE\n",
      "I\n",
      "LAUNCELOT\n",
      "CONCORDE\n",
      "I\n",
      "I\n",
      "I\n",
      "SCENE\n",
      "PRINCESS\n",
      "LUCKY\n",
      "GIRLS\n",
      "GUEST\n",
      "SENTRY\n",
      "SENTRY\n",
      "SENTRY\n",
      "LAUNCELOT\n",
      "SENTRY\n",
      "LAUNCELOT\n",
      "PRINCESS\n",
      "LUCKY\n",
      "GIRLS\n",
      "LAUNCELOT\n",
      "GUESTS\n",
      "LAUNCELOT\n",
      "GUARD\n",
      "LAUNCELOT\n",
      "O\n",
      "I\n",
      "I\n",
      "HERBERT\n",
      "LAUNCELOT\n",
      "I\n",
      "I\n",
      "HERBERT\n",
      "LAUNCELOT\n",
      "I\n",
      "HERBERT\n",
      "I\n",
      "I\n",
      "LAUNCELOT\n",
      "I\n",
      "HERBERT\n",
      "FATHER\n",
      "HERBERT\n",
      "I\n",
      "FATHER\n",
      "LAUNCELOT\n",
      "I\n",
      "HERBERT\n",
      "LAUNCELOT\n",
      "FATHER\n",
      "LAUNCELOT\n",
      "FATHER\n",
      "LAUNCELOT\n",
      "I\n",
      "I\n",
      "HERBERT\n",
      "I\n",
      "FATHER\n",
      "LAUNCELOT\n",
      "I\n",
      "FATHER\n",
      "I\n",
      "HERBERT\n",
      "FATHER\n",
      "LAUNCELOT\n",
      "I\n",
      "FATHER\n",
      "LAUNCELOT\n",
      "FATHER\n",
      "LAUNCELOT\n",
      "I\n",
      "I\n",
      "I\n",
      "FATHER\n",
      "HERBERT\n",
      "LAUNCELOT\n",
      "I\n",
      "FATHER\n",
      "LAUNCELOT\n",
      "HERBERT\n",
      "I\n",
      "FATHER\n",
      "LAUNCELOT\n",
      "HERBERT\n",
      "I\n",
      "LAUNCELOT\n",
      "I\n",
      "HERBERT\n",
      "LAUNCELOT\n",
      "I\n",
      "I\n",
      "I\n",
      "FATHER\n",
      "HERBERT\n",
      "SCENE\n",
      "GUESTS\n",
      "FATHER\n",
      "GUEST\n",
      "FATHER\n",
      "LAUNCELOT\n",
      "FATHER\n",
      "LAUNCELOT\n",
      "I\n",
      "I\n",
      "I\n",
      "GUEST\n",
      "GUESTS\n",
      "FATHER\n",
      "LAUNCELOT\n",
      "GUEST\n",
      "GUESTS\n",
      "FATHER\n",
      "GUESTS\n",
      "FATHER\n",
      "I\n",
      "I\n",
      "GUEST\n",
      "FATHER\n",
      "GUEST\n",
      "FATHER\n",
      "BRIDE\n",
      "S\n",
      "FATHER\n",
      "GUEST\n",
      "FATHER\n",
      "I\n",
      "I\n",
      "LAUNCELOT\n",
      "GUEST\n",
      "GUESTS\n",
      "CONCORDE\n",
      "HERBERT\n",
      "I\n",
      "FATHER\n",
      "HERBERT\n",
      "I\n",
      "FATHER\n",
      "HERBERT\n",
      "I\n",
      "FATHER\n",
      "GUESTS\n",
      "FATHER\n",
      "GUESTS\n",
      "FATHER\n",
      "GUESTS\n",
      "FATHER\n",
      "GUESTS\n",
      "FATHER\n",
      "GUESTS\n",
      "CONCORDE\n",
      "GUESTS\n",
      "CONCORDE\n",
      "GUESTS\n",
      "LAUNCELOT\n",
      "GUESTS\n",
      "LAUNCELOT\n",
      "I\n",
      "GUESTS\n",
      "CONCORDE\n",
      "LAUNCELOT\n",
      "GUESTS\n",
      "LAUNCELOT\n",
      "GUESTS\n",
      "LAUNCELOT\n",
      "SCENE\n",
      "ARTHUR\n",
      "OLD\n",
      "CRONE\n",
      "ARTHUR\n",
      "CRONE\n",
      "ARTHUR\n",
      "I\n",
      "CRONE\n",
      "ARTHUR\n",
      "CRONE\n",
      "ARTHUR\n",
      "CRONE\n",
      "BEDEVERE\n",
      "ARTHUR\n",
      "BEDEVERE\n",
      "ARTHUR\n",
      "BEDEVERE\n",
      "ARTHUR\n",
      "BEDEVERE\n",
      "ARTHUR\n",
      "BEDEVERE\n",
      "ARTHUR\n",
      "ARTHUR\n",
      "BEDEVERE\n",
      "CRONE\n",
      "BEDEVERE\n",
      "ARTHUR\n",
      "CRONE\n",
      "BEDEVERE\n",
      "ARTHUR\n",
      "BEDEVERE\n",
      "ARTHUR\n",
      "BEDEVERE\n",
      "ROGER\n",
      "THE\n",
      "SHRUBBER\n",
      "ARTHUR\n",
      "ROGER\n",
      "ARTHUR\n",
      "ROGER\n",
      "I\n",
      "I\n",
      "BEDEVERE\n",
      "ARTHUR\n",
      "SCENE\n",
      "ARTHUR\n",
      "O\n",
      "HEAD\n",
      "KNIGHT\n",
      "I\n",
      "ARTHUR\n",
      "HEAD\n",
      "KNIGHT\n",
      "KNIGHTS\n",
      "OF\n",
      "NI\n",
      "HEAD\n",
      "KNIGHT\n",
      "RANDOM\n",
      "HEAD\n",
      "KNIGHT\n",
      "ARTHUR\n",
      "O\n",
      "HEAD\n",
      "KNIGHT\n",
      "ARTHUR\n",
      "RANDOM\n",
      "HEAD\n",
      "KNIGHT\n",
      "KNIGHTS\n",
      "OF\n",
      "NI\n",
      "A\n",
      "A\n",
      "A\n",
      "HEAD\n",
      "KNIGHT\n",
      "ARTHUR\n",
      "HEAD\n",
      "KNIGHT\n",
      "ARTHUR\n",
      "KNIGHTS\n",
      "OF\n",
      "NI\n",
      "HEAD\n",
      "KNIGHT\n",
      "ARTHUR\n",
      "HEAD\n",
      "KNIGHT\n",
      "I\n",
      "ARTHUR\n",
      "KNIGHTS\n",
      "OF\n",
      "NI\n",
      "HEAD\n",
      "KNIGHT\n",
      "ARTHUR\n",
      "KNIGHTS\n",
      "OF\n",
      "NI\n",
      "HEAD\n",
      "KNIGHT\n",
      "KNIGHTS\n",
      "OF\n",
      "NI\n",
      "BEDEVERE\n",
      "MINSTREL\n",
      "ARTHUR\n",
      "ROBIN\n",
      "HEAD\n",
      "KNIGHT\n",
      "ARTHUR\n",
      "MINSTREL\n",
      "ROBIN\n",
      "HEAD\n",
      "KNIGHT\n",
      "KNIGHTS\n",
      "OF\n",
      "NI\n",
      "ROBIN\n",
      "I\n",
      "KNIGHTS\n",
      "OF\n",
      "NI\n",
      "ROBIN\n",
      "ARTHUR\n",
      "KNIGHTS\n",
      "OF\n",
      "NI\n",
      "HEAD\n",
      "KNIGHT\n",
      "ARTHUR\n",
      "KNIGHTS\n",
      "OF\n",
      "NI\n",
      "HEAD\n",
      "KNIGHT\n",
      "ARTHUR\n",
      "HEAD\n",
      "KNIGHT\n",
      "I\n",
      "I\n",
      "I\n",
      "KNIGHTS\n",
      "OF\n",
      "NI\n",
      "NARRATOR\n",
      "KNIGHTS\n",
      "NARRATOR\n",
      "MINSTREL\n",
      "NARRATOR\n",
      "KNIGHTS\n",
      "NARRATOR\n",
      "A\n",
      "CARTOON\n",
      "CHARACTER\n",
      "NARRATOR\n",
      "CARTOON\n",
      "CHARACTER\n",
      "NARRATOR\n",
      "CARTOON\n",
      "CHARACTER\n",
      "NARRATOR\n",
      "CARTOON\n",
      "CHARACTER\n",
      "NARRATOR\n",
      "CARTOON\n",
      "CHARACTER\n",
      "NARRATOR\n",
      "SCENE\n",
      "KNIGHTS\n",
      "ARTHUR\n",
      "TIM\n",
      "THE\n",
      "ENCHANTER\n",
      "I\n",
      "ARTHUR\n",
      "TIM\n",
      "ARTHUR\n",
      "TIM\n",
      "ARTHUR\n",
      "TIM\n",
      "I\n",
      "ARTHUR\n",
      "O\n",
      "TIM\n",
      "ROBIN\n",
      "ARTHUR\n",
      "KNIGHTS\n",
      "ARTHUR\n",
      "BEDEVERE\n",
      "GALAHAD\n",
      "ROBIN\n",
      "BEDEVERE\n",
      "ROBIN\n",
      "BEDEVERE\n",
      "ARTHUR\n",
      "GALAHAD\n",
      "ARTHUR\n",
      "I\n",
      "I\n",
      "TIM\n",
      "A\n",
      "ARTHUR\n",
      "A\n",
      "TIM\n",
      "A\n",
      "ARTHUR\n",
      "I\n",
      "ROBIN\n",
      "Y\n",
      "ARTHUR\n",
      "GALAHAD\n",
      "KNIGHTS\n",
      "TIM\n",
      "ROBIN\n",
      "ARTHUR\n",
      "ROBIN\n",
      "GALAHAD\n",
      "ARTHUR\n",
      "ROBIN\n",
      "KNIGHTS\n",
      "ARTHUR\n",
      "TIM\n",
      "I\n",
      "KNIGHTS\n",
      "TIM\n",
      "ARTHUR\n",
      "O\n",
      "TIM\n",
      "ARTHUR\n",
      "SCENE\n",
      "GALAHAD\n",
      "ARTHUR\n",
      "TIM\n",
      "ARTHUR\n",
      "GALAHAD\n",
      "ARTHUR\n",
      "W\n",
      "TIM\n",
      "ARTHUR\n",
      "TIM\n",
      "ARTHUR\n",
      "TIM\n",
      "ARTHUR\n",
      "TIM\n",
      "ARTHUR\n",
      "TIM\n",
      "ARTHUR\n",
      "TIM\n",
      "ARTHUR\n",
      "TIM\n",
      "ROBIN\n",
      "I\n",
      "I\n",
      "TIM\n",
      "GALAHAD\n",
      "TIM\n",
      "GALAHAD\n",
      "ROBIN\n",
      "TIM\n",
      "I\n",
      "ROBIN\n",
      "TIM\n",
      "ARTHUR\n",
      "BORS\n",
      "TIM\n",
      "BORS\n",
      "ARTHUR\n",
      "TIM\n",
      "I\n",
      "ROBIN\n",
      "I\n",
      "TIM\n",
      "I\n",
      "I\n",
      "ARTHUR\n",
      "TIM\n",
      "ARTHUR\n",
      "TIM\n",
      "KNIGHTS\n",
      "KNIGHTS\n",
      "ARTHUR\n",
      "KNIGHTS\n",
      "TIM\n",
      "ARTHUR\n",
      "LAUNCELOT\n",
      "GALAHAD\n",
      "ARTHUR\n",
      "GALAHAD\n",
      "ARTHUR\n",
      "ROBIN\n",
      "ARTHUR\n",
      "GALAHAD\n",
      "ARTHUR\n",
      "GALAHAD\n",
      "LAUNCELOT\n",
      "ARTHUR\n",
      "LAUNCELOT\n",
      "ARTHUR\n",
      "MONKS\n",
      "ARTHUR\n",
      "LAUNCELOT\n",
      "I\n",
      "ARTHUR\n",
      "BROTHER\n",
      "MAYNARD\n",
      "SECOND\n",
      "BROTHER\n",
      "O\n",
      "MAYNARD\n",
      "SECOND\n",
      "BROTHER\n",
      "MAYNARD\n",
      "KNIGHTS\n",
      "ARTHUR\n",
      "GALAHAD\n",
      "ARTHUR\n",
      "SCENE\n",
      "ARTHUR\n",
      "LAUNCELOT\n",
      "GALAHAD\n",
      "ARTHUR\n",
      "MAYNARD\n",
      "GALAHAD\n",
      "LAUNCELOT\n",
      "ARTHUR\n",
      "MAYNARD\n",
      "ARTHUR\n",
      "MAYNARD\n",
      "BEDEVERE\n",
      "MAYNARD\n",
      "LAUNCELOT\n",
      "MAYNARD\n",
      "ARTHUR\n",
      "MAYNARD\n",
      "GALAHAD\n",
      "ARTHUR\n",
      "MAYNARD\n",
      "LAUNCELOT\n",
      "ARTHUR\n",
      "BEDEVERE\n",
      "GALAHAD\n",
      "BEDEVERE\n",
      "I\n",
      "LAUNCELOT\n",
      "ARTHUR\n",
      "LAUNCELOT\n",
      "KNIGHTS\n",
      "BEDEVERE\n",
      "LAUNCELOT\n",
      "BEDEVERE\n",
      "N\n",
      "LAUNCELOT\n",
      "BEDEVERE\n",
      "I\n",
      "ARTHUR\n",
      "GALAHAD\n",
      "MAYNARD\n",
      "BROTHER\n",
      "MAYNARD\n",
      "BEDEVERE\n",
      "ARTHUR\n",
      "KNIGHTS\n",
      "BEDEVERE\n",
      "KNIGHTS\n",
      "NARRATOR\n",
      "ANIMATOR\n",
      "NARRATOR\n",
      "SCENE\n",
      "GALAHAD\n",
      "ARTHUR\n",
      "ROBIN\n",
      "ARTHUR\n",
      "BEDEVERE\n",
      "ARTHUR\n",
      "GALAHAD\n",
      "ARTHUR\n",
      "GALAHAD\n",
      "ARTHUR\n",
      "ROBIN\n",
      "ARTHUR\n",
      "ROBIN\n",
      "I\n",
      "GALAHAD\n",
      "ARTHUR\n",
      "ROBIN\n",
      "ARTHUR\n",
      "ROBIN\n",
      "I\n",
      "LAUNCELOT\n",
      "I\n",
      "I\n",
      "ARTHUR\n",
      "GALAHAD\n",
      "ARTHUR\n",
      "LAUNCELOT\n",
      "I\n",
      "ARTHUR\n",
      "BRIDGEKEEPER\n",
      "LAUNCELOT\n",
      "I\n",
      "BRIDGEKEEPER\n",
      "LAUNCELOT\n",
      "BRIDGEKEEPER\n",
      "LAUNCELOT\n",
      "BRIDGEKEEPER\n",
      "LAUNCELOT\n",
      "BRIDGEKEEPER\n",
      "LAUNCELOT\n",
      "ROBIN\n",
      "BRIDGEKEEPER\n",
      "ROBIN\n",
      "I\n",
      "BRIDGEKEEPER\n",
      "ROBIN\n",
      "BRIDGEKEEPER\n",
      "ROBIN\n",
      "BRIDGEKEEPER\n",
      "ROBIN\n",
      "I\n",
      "BRIDGEKEEPER\n",
      "GALAHAD\n",
      "BRIDGEKEEPER\n",
      "GALAHAD\n",
      "I\n",
      "BRIDGEKEEPER\n",
      "GALAHAD\n",
      "BRIDGEKEEPER\n",
      "ARTHUR\n",
      "BRIDGEKEEPER\n",
      "ARTHUR\n",
      "BRIDGEKEEPER\n",
      "ARTHUR\n",
      "BRIDGEKEEPER\n",
      "I\n",
      "I\n",
      "BEDEVERE\n",
      "ARTHUR\n",
      "SCENE\n",
      "ARTHUR\n",
      "BEDEVERE\n",
      "ARTHUR\n",
      "BEDEVERE\n",
      "ARTHUR\n",
      "FRENCH\n",
      "GUARD\n",
      "ARTHUR\n",
      "I\n",
      "FRENCH\n",
      "GUARD\n",
      "I\n",
      "I\n",
      "ARTHUR\n",
      "FRENCH\n",
      "GUARD\n",
      "I\n",
      "ARTHUR\n",
      "FRENCH\n",
      "GUARDS\n",
      "ARTHUR\n",
      "FRENCH\n",
      "GUARD\n",
      "ARTHUR\n",
      "FRENCH\n",
      "GUARD\n",
      "FRENCH\n",
      "GUARDS\n",
      "ARTHUR\n",
      "BEDEVERE\n",
      "ARTHUR\n",
      "FRENCH\n",
      "GUARDS\n",
      "ARTHUR\n",
      "FRENCH\n",
      "GUARDS\n",
      "ARTHUR\n",
      "FRENCH\n",
      "GUARDS\n",
      "ARTHUR\n",
      "ARMY\n",
      "OF\n",
      "KNIGHTS\n",
      "HISTORIAN\n",
      "S\n",
      "WIFE\n",
      "I\n",
      "INSPECTOR\n",
      "OFFICER\n",
      "HISTORIAN\n",
      "S\n",
      "WIFE\n",
      "OFFICER\n",
      "INSPECTOR\n",
      "OFFICER\n",
      "BEDEVERE\n",
      "INSPECTOR\n",
      "OFFICER\n",
      "INSPECTOR\n",
      "OFFICER\n",
      "OFFICER\n",
      "RANDOM\n",
      "RANDOM\n",
      "OFFICER\n",
      "OFFICER\n",
      "OFFICER\n",
      "OFFICER\n",
      "INSPECTOR\n",
      "OFFICER\n",
      "CAMERAMAN\n"
     ]
    }
   ],
   "source": [
    "#version 2, can also be defined as a function\n",
    "for w in text6:\n",
    "    if w.isupper():\n",
    "        print(w)"
   ]
  },
  {
   "cell_type": "markdown",
   "id": "99b846c0",
   "metadata": {},
   "source": [
    "#### 24. Write expressions for finding all words in text6 that meet the conditions listed below. The result should be in the form of a list of words: ['word1', 'word2', ...]."
   ]
  },
  {
   "cell_type": "markdown",
   "id": "d454e303",
   "metadata": {},
   "source": [
    "a. Ending in ise"
   ]
  },
  {
   "cell_type": "code",
   "execution_count": 273,
   "id": "7c821743",
   "metadata": {},
   "outputs": [
    {
     "data": {
      "text/plain": [
       "['apologise', 'noise', 'surprise', 'wise']"
      ]
     },
     "execution_count": 273,
     "metadata": {},
     "output_type": "execute_result"
    }
   ],
   "source": [
    "sorted(w for w in set(text6) if w.endswith('ise'))"
   ]
  },
  {
   "cell_type": "markdown",
   "id": "225b6bcb",
   "metadata": {},
   "source": [
    "b. Containing the letter z"
   ]
  },
  {
   "cell_type": "code",
   "execution_count": 271,
   "id": "d0702a7e",
   "metadata": {},
   "outputs": [
    {
     "data": {
      "text/plain": [
       "['Fetchez', 'amazes', 'frozen', 'zhiv', 'zone', 'zoo', 'zoop', 'zoosh']"
      ]
     },
     "execution_count": 271,
     "metadata": {},
     "output_type": "execute_result"
    }
   ],
   "source": [
    "sorted(w for w in text6 if 'z' in w)"
   ]
  },
  {
   "cell_type": "markdown",
   "id": "d2484171",
   "metadata": {},
   "source": [
    "c. Containing the sequence of letters pt"
   ]
  },
  {
   "cell_type": "code",
   "execution_count": 276,
   "id": "d34e8a2a",
   "metadata": {},
   "outputs": [
    {
     "name": "stdout",
     "output_type": "stream",
     "text": [
      "['Chapter', 'Thpppppt', 'Thppppt', 'Thpppt', 'Thppt', 'aptly', 'empty', 'excepting', 'ptoo', 'temptation', 'temptress']\n"
     ]
    }
   ],
   "source": [
    "pt = sorted(set(w for w in text6 if 'pt' in w))\n",
    "print(pt)"
   ]
  },
  {
   "cell_type": "markdown",
   "id": "9d588cf4",
   "metadata": {},
   "source": [
    "d. Having all lowercase letters except for an initial capital (i.e., titlecase)"
   ]
  },
  {
   "cell_type": "code",
   "execution_count": 279,
   "id": "feed6232",
   "metadata": {},
   "outputs": [
    {
     "name": "stdout",
     "output_type": "stream",
     "text": [
      "['A', 'Aaaaaaaaah', 'Aaaaaaaah', 'Aaaaaah', 'Aaaah', 'Aaaaugh', 'Aaagh', 'Aaah', 'Aaauggh', 'Aaaugh', 'Aaauugh', 'Aagh', 'Aah', 'Aauuggghhh', 'Aauuugh', 'Aauuuuugh', 'Aauuuves', 'Action', 'Actually', 'African', 'Ages', 'Aggh', 'Agh', 'Ah', 'Ahh', 'Alice', 'All', 'Allo', 'Almighty', 'Alright', 'Am', 'Amen', 'An', 'Anarcho', 'And', 'Angnor', 'Anthrax', 'Antioch', 'Anybody', 'Anyway', 'Apples', 'Aramaic', 'Are', 'Arimathea', 'Armaments', 'Arthur', 'As', 'Ask', 'Assyria', 'At', 'Attila', 'Augh', 'Autumn', 'Auuuuuuuugh', 'Away', 'Ay', 'Ayy', 'B', 'Back', 'Bad', 'Badon', 'Battle', 'Be', 'Beast', 'Bedevere', 'Bedwere', 'Behold', 'Between', 'Beyond', 'Black', 'Bloody', 'Blue', 'Bon', 'Bones', 'Book', 'Bors', 'Brave', 'Bravely', 'Bravest', 'Bread', 'Bridge', 'Bring', 'Bristol', 'Britain', 'Britons', 'Brother', 'Build', 'Burn', 'But', 'By', 'C', 'Caerbannog', 'Camaaaaaargue', 'Camelot', 'Castle', 'Chapter', 'Charge', 'Chaste', 'Cherries', 'Chicken', 'Chickennn', 'Chop', 'Christ', 'Churches', 'Cider', 'Clark', 'Clear', 'Come', 'Concorde', 'Consult', 'Cornwall', 'Could', 'Course', 'Court', 'Crapper', 'Cut', 'Dappy', 'Death', 'Defeat', 'Dennis', 'Did', 'Didn', 'Dingo', 'Dis', 'Divine', 'Do', 'Doctor', 'Does', 'Don', 'Dragon', 'Dramatically', 'Ecky', 'Ector', 'Eee', 'Eh', 'Enchanter', 'England', 'English', 'Erbert', 'Ere', 'Erm', 'Eternal', 'European', 'Even', 'Every', 'Everything', 'Ewing', 'Exactly', 'Excalibur', 'Excuse', 'Explain', 'Far', 'Farewell', 'Father', 'Fetchez', 'Fiends', 'Fine', 'First', 'Firstly', 'Five', 'Follow', 'For', 'Forgive', 'Forward', 'Found', 'Four', 'France', 'Frank', 'French', 'Gable', 'Galahad', 'Gallahad', 'Gawain', 'Get', 'Go', 'God', 'Good', 'Gorge', 'Grail', 'Great', 'Greetings', 'Grenade', 'Guards', 'Guy', 'Ha', 'Hah', 'Hallo', 'Halt', 'Hand', 'Hang', 'Have', 'Haw', 'He', 'Hee', 'Heee', 'Heh', 'Hello', 'Help', 'Herbert', 'Here', 'Hey', 'Hic', 'Hill', 'Himself', 'His', 'Hiyaah', 'Hiyah', 'Hiyya', 'Hm', 'Hmm', 'Ho', 'Hoa', 'Hold', 'Holy', 'Honestly', 'Hoo', 'Hooray', 'How', 'Huh', 'Hurry', 'Huy', 'Huyah', 'Hya', 'Hyy', 'I', 'Idiom', 'Iesu', 'If', 'Iiiiives', 'Iiiives', 'In', 'Is', 'Isn', 'It', 'Ives', 'Jesus', 'Joseph', 'Just', 'Keep', 'King', 'Knight', 'Knights', 'Lady', 'Lake', 'Lancelot', 'Launcelot', 'Lead', 'Leaving', 'Let', 'Lie', 'Like', 'Listen', 'Loimbard', 'Look', 'Looks', 'Lord', 'Lucky', 'Make', 'Man', 'May', 'Maynard', 'Meanwhile', 'Mercea', 'Message', 'Midget', 'Mind', 'Mine', 'Mmm', 'Monsieur', 'More', 'Morning', 'Most', 'Mother', 'Mud', 'Must', 'My', 'N', 'Nador', 'Nay', 'Neee', 'Never', 'Ni', 'Nine', 'Ninepence', 'No', 'None', 'Not', 'Nothing', 'Now', 'Nu', 'O', 'Of', 'Off', 'Oh', 'Ohh', 'Old', 'Olfin', 'On', 'Once', 'One', 'Ooh', 'Oooh', 'Oooo', 'Oooohoohohooo', 'Oooooooh', 'Open', 'Or', 'Order', 'Other', 'Oui', 'Our', 'Over', 'Ow', 'Packing', 'Patsy', 'Pendragon', 'Peng', 'Perhaps', 'Peril', 'Picture', 'Pie', 'Piglet', 'Pin', 'Please', 'Practice', 'Prepare', 'Prince', 'Princess', 'Providence', 'Psalms', 'Pull', 'Pure', 'Put', 'Quick', 'Quickly', 'Quiet', 'Quite', 'Quoi', 'Rather', 'Really', 'Recently', 'Remove', 'Rheged', 'Ridden', 'Right', 'Riiight', 'Robin', 'Robinson', 'Roger', 'Round', 'Run', 'Running', 'S', 'Said', 'Saint', 'Saxons', 'Say', 'Schools', 'See', 'Seek', 'Shall', 'She', 'Shh', 'Shrubber', 'Shrubberies', 'Shut', 'Silence', 'Silly', 'Since', 'Sir', 'Skip', 'So', 'Sorry', 'Speak', 'Splendid', 'Spring', 'Stand', 'Stay', 'Steady', 'Stop', 'Summer', 'Supposing', 'Supreme', 'Surely', 'Swamp', 'Table', 'Tale', 'Tall', 'Tell', 'Thank', 'That', 'The', 'Thee', 'Then', 'There', 'Therefore', 'They', 'This', 'Those', 'Thou', 'Thpppppt', 'Thppppt', 'Thpppt', 'Thppt', 'Three', 'Throw', 'Thsss', 'Thursday', 'Thy', 'Til', 'Tim', 'Tis', 'To', 'Today', 'Together', 'Too', 'Torment', 'Tower', 'True', 'Try', 'Twenty', 'Two', 'U', 'Uh', 'Uhh', 'Ulk', 'Um', 'Umhm', 'Umm', 'Un', 'Unfortunately', 'Until', 'Use', 'Uther', 'Uugh', 'Uuh', 'Very', 'Victory', 'W', 'Waa', 'Wait', 'Walk', 'Wayy', 'We', 'Welcome', 'Well', 'What', 'When', 'Where', 'Which', 'Who', 'Whoa', 'Why', 'Will', 'Winston', 'Winter', 'With', 'Woa', 'Wood', 'Would', 'Y', 'Yapping', 'Yay', 'Yeaaah', 'Yeaah', 'Yeah', 'Yes', 'You', 'Your', 'Yup', 'Zoot']\n"
     ]
    }
   ],
   "source": [
    "titlecase = sorted(word for word in set(text6) if word.istitle())\n",
    "print(titlecase)"
   ]
  },
  {
   "cell_type": "markdown",
   "id": "04313139",
   "metadata": {},
   "source": [
    "#### 25. Define sent to be the list of words ['she', 'sells', 'sea', 'shells', 'by', 'the', 'sea', 'shore']. Now write code to perform the following tasks:"
   ]
  },
  {
   "cell_type": "code",
   "execution_count": 280,
   "id": "04a56995",
   "metadata": {},
   "outputs": [],
   "source": [
    "sent = ['she', 'sells', 'sea', 'shells', 'by', 'the', 'sea', 'shore']"
   ]
  },
  {
   "cell_type": "markdown",
   "id": "d00dbca8",
   "metadata": {},
   "source": [
    "a. Print all words beginning with sh"
   ]
  },
  {
   "cell_type": "code",
   "execution_count": 285,
   "id": "d0e7fe95",
   "metadata": {},
   "outputs": [
    {
     "data": {
      "text/plain": [
       "['she', 'shells', 'shore']"
      ]
     },
     "execution_count": 285,
     "metadata": {},
     "output_type": "execute_result"
    }
   ],
   "source": [
    "sorted(w for w in set(sent) if w.startswith('sh'))"
   ]
  },
  {
   "cell_type": "markdown",
   "id": "8369584c",
   "metadata": {},
   "source": [
    "b. Print all words longer than four characters"
   ]
  },
  {
   "cell_type": "code",
   "execution_count": 286,
   "id": "32918c47",
   "metadata": {},
   "outputs": [
    {
     "data": {
      "text/plain": [
       "['sells', 'shells', 'shore']"
      ]
     },
     "execution_count": 286,
     "metadata": {},
     "output_type": "execute_result"
    }
   ],
   "source": [
    "sorted(w for w in sent if len(w) > 4)"
   ]
  },
  {
   "cell_type": "markdown",
   "id": "84483b4a",
   "metadata": {},
   "source": [
    "#### 26. What does the following Python code do?  sum(len(w) for w in text1) Can you use it to work out the average word length of a text?"
   ]
  },
  {
   "cell_type": "code",
   "execution_count": 292,
   "id": "8493b70a",
   "metadata": {},
   "outputs": [
    {
     "data": {
      "text/plain": [
       "999044"
      ]
     },
     "execution_count": 292,
     "metadata": {},
     "output_type": "execute_result"
    }
   ],
   "source": [
    "sum_len = sum(len(w) for w in text1)\n",
    "sum_len"
   ]
  },
  {
   "cell_type": "code",
   "execution_count": 294,
   "id": "a0f63b0c",
   "metadata": {},
   "outputs": [
    {
     "data": {
      "text/plain": [
       "260819"
      ]
     },
     "execution_count": 294,
     "metadata": {},
     "output_type": "execute_result"
    }
   ],
   "source": [
    "wdct = len(text1)\n",
    "wdct"
   ]
  },
  {
   "cell_type": "code",
   "execution_count": 295,
   "id": "93313ee8",
   "metadata": {},
   "outputs": [
    {
     "data": {
      "text/plain": [
       "3.830411128023649"
      ]
     },
     "execution_count": 295,
     "metadata": {},
     "output_type": "execute_result"
    }
   ],
   "source": [
    "sum_len/wdct"
   ]
  },
  {
   "cell_type": "markdown",
   "id": "593bfb5b",
   "metadata": {},
   "source": [
    "The code takes the sum of the length of all words in text1. The average word length can be calculated by taking the sum of the length of the words, sum_len, and dividing the number of words in text1, wdct.\n",
    "\n",
    "999044/260819 = 3.830411128023649"
   ]
  },
  {
   "cell_type": "markdown",
   "id": "d796db94",
   "metadata": {},
   "source": [
    "#### 27. Define a function called vocab_size(text) that has a single parameter for the text, and which returns the vocabulary size of the text."
   ]
  },
  {
   "cell_type": "code",
   "execution_count": 298,
   "id": "fd50b1f1",
   "metadata": {},
   "outputs": [],
   "source": [
    "def vocab_size(text):\n",
    "        return len(set(w.lower() for w in text if w.isalpha()))"
   ]
  },
  {
   "cell_type": "code",
   "execution_count": 300,
   "id": "51011b99",
   "metadata": {},
   "outputs": [
    {
     "data": {
      "text/plain": [
       "16948"
      ]
     },
     "execution_count": 300,
     "metadata": {},
     "output_type": "execute_result"
    }
   ],
   "source": [
    "vocab_size(text1)"
   ]
  },
  {
   "cell_type": "code",
   "execution_count": 299,
   "id": "d52b7a1f",
   "metadata": {},
   "outputs": [
    {
     "data": {
      "text/plain": [
       "6283"
      ]
     },
     "execution_count": 299,
     "metadata": {},
     "output_type": "execute_result"
    }
   ],
   "source": [
    "vocab_size(text2)"
   ]
  },
  {
   "cell_type": "markdown",
   "id": "392e0185",
   "metadata": {},
   "source": [
    "#### 28. Define a function percent(word, text) that calculates how often a given word occurs in a text, and expresses the result as a percentage."
   ]
  },
  {
   "cell_type": "code",
   "execution_count": 301,
   "id": "631f2f23",
   "metadata": {},
   "outputs": [],
   "source": [
    "def percent(word,text):\n",
    "  freq = text.count(word)\n",
    "  length = len(text)\n",
    "  res = 100 * (freq/length)\n",
    "  return str(res) + '%'"
   ]
  },
  {
   "cell_type": "code",
   "execution_count": 302,
   "id": "d776d698",
   "metadata": {},
   "outputs": [
    {
     "data": {
      "text/plain": [
       "'2.309647686709941%'"
      ]
     },
     "execution_count": 302,
     "metadata": {},
     "output_type": "execute_result"
    }
   ],
   "source": [
    "percent('and',text1)"
   ]
  },
  {
   "cell_type": "code",
   "execution_count": 305,
   "id": "ea297c23",
   "metadata": {},
   "outputs": [
    {
     "data": {
      "text/plain": [
       "'0.37223823246878%'"
      ]
     },
     "execution_count": 305,
     "metadata": {},
     "output_type": "execute_result"
    }
   ],
   "source": [
    "percent('from',text2)"
   ]
  },
  {
   "cell_type": "code",
   "execution_count": 304,
   "id": "0dfcebac",
   "metadata": {},
   "outputs": [
    {
     "data": {
      "text/plain": [
       "'5.424001429720311%'"
      ]
     },
     "execution_count": 304,
     "metadata": {},
     "output_type": "execute_result"
    }
   ],
   "source": [
    "percent('and',text3)"
   ]
  },
  {
   "cell_type": "code",
   "execution_count": 308,
   "id": "ccb45f76",
   "metadata": {},
   "outputs": [
    {
     "data": {
      "text/plain": [
       "'1.4352366140857589%'"
      ]
     },
     "execution_count": 308,
     "metadata": {},
     "output_type": "execute_result"
    }
   ],
   "source": [
    "percent('the',text5)"
   ]
  },
  {
   "cell_type": "markdown",
   "id": "086a0c9f",
   "metadata": {},
   "source": [
    "#### 29. We have been using sets to store vocabularies. Try the following Python expression: set(sent3) < set(text1). Experiment with this using different arguments to set(). What does it do? Can you think of a practical application for this?"
   ]
  },
  {
   "cell_type": "code",
   "execution_count": 329,
   "id": "62f043c3",
   "metadata": {
    "scrolled": true
   },
   "outputs": [
    {
     "data": {
      "text/plain": [
       "['In',\n",
       " 'the',\n",
       " 'beginning',\n",
       " 'God',\n",
       " 'created',\n",
       " 'the',\n",
       " 'heaven',\n",
       " 'and',\n",
       " 'the',\n",
       " 'earth',\n",
       " '.']"
      ]
     },
     "execution_count": 329,
     "metadata": {},
     "output_type": "execute_result"
    }
   ],
   "source": [
    "sent3"
   ]
  },
  {
   "cell_type": "code",
   "execution_count": 331,
   "id": "0e0a26d0",
   "metadata": {
    "scrolled": false
   },
   "outputs": [
    {
     "data": {
      "text/plain": [
       "{'.', 'God', 'In', 'and', 'beginning', 'created', 'earth', 'heaven', 'the'}"
      ]
     },
     "execution_count": 331,
     "metadata": {},
     "output_type": "execute_result"
    }
   ],
   "source": [
    "set(sent3)"
   ]
  },
  {
   "cell_type": "code",
   "execution_count": 315,
   "id": "ed306f05",
   "metadata": {
    "scrolled": true
   },
   "outputs": [
    {
     "data": {
      "text/plain": [
       "True"
      ]
     },
     "execution_count": 315,
     "metadata": {},
     "output_type": "execute_result"
    }
   ],
   "source": [
    "set(sent3) < set(text1)"
   ]
  },
  {
   "cell_type": "code",
   "execution_count": 316,
   "id": "5a1f9e7d",
   "metadata": {
    "scrolled": true
   },
   "outputs": [
    {
     "data": {
      "text/plain": [
       "False"
      ]
     },
     "execution_count": 316,
     "metadata": {},
     "output_type": "execute_result"
    }
   ],
   "source": [
    "set(sent3) > set(text1)"
   ]
  },
  {
   "cell_type": "code",
   "execution_count": 326,
   "id": "0592f0b2",
   "metadata": {},
   "outputs": [
    {
     "data": {
      "text/plain": [
       "True"
      ]
     },
     "execution_count": 326,
     "metadata": {},
     "output_type": "execute_result"
    }
   ],
   "source": [
    "set(sent6) < set(text6)"
   ]
  },
  {
   "cell_type": "code",
   "execution_count": 328,
   "id": "c4d4c84f",
   "metadata": {},
   "outputs": [
    {
     "data": {
      "text/plain": [
       "False"
      ]
     },
     "execution_count": 328,
     "metadata": {},
     "output_type": "execute_result"
    }
   ],
   "source": [
    "set(sent6) > set(text6)"
   ]
  },
  {
   "cell_type": "markdown",
   "id": "61291a7d",
   "metadata": {},
   "source": [
    "The arguement returns a boolean based on the if the sent or text has more words. It can also check to see if one is the subset of the other. If a sent or text is generic and contains only common words it could be a subset of almost any sent/text so one must make sure the contents has sufficient depth to be included in the arguement."
   ]
  },
  {
   "cell_type": "code",
   "execution_count": null,
   "id": "e817fe61",
   "metadata": {},
   "outputs": [],
   "source": []
  }
 ],
 "metadata": {
  "kernelspec": {
   "display_name": "Python 3",
   "language": "python",
   "name": "python3"
  },
  "language_info": {
   "codemirror_mode": {
    "name": "ipython",
    "version": 3
   },
   "file_extension": ".py",
   "mimetype": "text/x-python",
   "name": "python",
   "nbconvert_exporter": "python",
   "pygments_lexer": "ipython3",
   "version": "3.8.13"
  }
 },
 "nbformat": 4,
 "nbformat_minor": 5
}
